{
 "cells": [
  {
   "cell_type": "code",
   "execution_count": 1,
   "metadata": {},
   "outputs": [],
   "source": [
    "import numpy as np\n",
    "import pandas as pd\n",
    "import matplotlib.pyplot as plt\n",
    "import seaborn as sns\n",
    "%matplotlib inline\n",
    "\n"
   ]
  },
  {
   "cell_type": "code",
   "execution_count": 2,
   "metadata": {},
   "outputs": [],
   "source": [
    "import warnings\n",
    "warnings.filterwarnings('ignore')"
   ]
  },
  {
   "cell_type": "code",
   "execution_count": 3,
   "metadata": {},
   "outputs": [],
   "source": [
    "from statsmodels.tsa.statespace.sarimax import SARIMAX\n",
    "from statsmodels.tsa.seasonal import seasonal_decompose\n",
    "from pmdarima import auto_arima"
   ]
  },
  {
   "cell_type": "code",
   "execution_count": 4,
   "metadata": {},
   "outputs": [
    {
     "data": {
      "text/html": [
       "<div>\n",
       "<style scoped>\n",
       "    .dataframe tbody tr th:only-of-type {\n",
       "        vertical-align: middle;\n",
       "    }\n",
       "\n",
       "    .dataframe tbody tr th {\n",
       "        vertical-align: top;\n",
       "    }\n",
       "\n",
       "    .dataframe thead th {\n",
       "        text-align: right;\n",
       "    }\n",
       "</style>\n",
       "<table border=\"1\" class=\"dataframe\">\n",
       "  <thead>\n",
       "    <tr style=\"text-align: right;\">\n",
       "      <th></th>\n",
       "      <th>SoilMoisture(%)</th>\n",
       "      <th>SoilTemp(c)</th>\n",
       "      <th>Rain(mm)</th>\n",
       "    </tr>\n",
       "    <tr>\n",
       "      <th>Timestamp (UTC+12:00)</th>\n",
       "      <th></th>\n",
       "      <th></th>\n",
       "      <th></th>\n",
       "    </tr>\n",
       "  </thead>\n",
       "  <tbody>\n",
       "    <tr>\n",
       "      <th>2018-07-07 11:15:00</th>\n",
       "      <td>37.364</td>\n",
       "      <td>10.4</td>\n",
       "      <td>0.0</td>\n",
       "    </tr>\n",
       "    <tr>\n",
       "      <th>2018-07-07 11:30:00</th>\n",
       "      <td>37.594</td>\n",
       "      <td>10.4</td>\n",
       "      <td>0.0</td>\n",
       "    </tr>\n",
       "    <tr>\n",
       "      <th>2018-07-07 11:45:00</th>\n",
       "      <td>37.590</td>\n",
       "      <td>10.4</td>\n",
       "      <td>0.0</td>\n",
       "    </tr>\n",
       "    <tr>\n",
       "      <th>2018-07-07 12:00:00</th>\n",
       "      <td>37.587</td>\n",
       "      <td>10.5</td>\n",
       "      <td>0.0</td>\n",
       "    </tr>\n",
       "    <tr>\n",
       "      <th>2018-07-07 12:15:00</th>\n",
       "      <td>37.584</td>\n",
       "      <td>10.5</td>\n",
       "      <td>0.0</td>\n",
       "    </tr>\n",
       "  </tbody>\n",
       "</table>\n",
       "</div>"
      ],
      "text/plain": [
       "                       SoilMoisture(%)  SoilTemp(c)  Rain(mm)\n",
       "Timestamp (UTC+12:00)                                        \n",
       "2018-07-07 11:15:00             37.364         10.4       0.0\n",
       "2018-07-07 11:30:00             37.594         10.4       0.0\n",
       "2018-07-07 11:45:00             37.590         10.4       0.0\n",
       "2018-07-07 12:00:00             37.587         10.5       0.0\n",
       "2018-07-07 12:15:00             37.584         10.5       0.0"
      ]
     },
     "execution_count": 4,
     "metadata": {},
     "output_type": "execute_result"
    }
   ],
   "source": [
    "mtalbert = pd.read_csv('../Data/soil data/mtalbert-648717-20241008172730/MtAlbert_Data_15mins.csv', index_col=\"Timestamp (UTC+12:00)\", parse_dates=['Timestamp (UTC+12:00)'])\n",
    "mtalbert.head()"
   ]
  },
  {
   "cell_type": "code",
   "execution_count": 5,
   "metadata": {},
   "outputs": [
    {
     "data": {
      "text/html": [
       "<div>\n",
       "<style scoped>\n",
       "    .dataframe tbody tr th:only-of-type {\n",
       "        vertical-align: middle;\n",
       "    }\n",
       "\n",
       "    .dataframe tbody tr th {\n",
       "        vertical-align: top;\n",
       "    }\n",
       "\n",
       "    .dataframe thead th {\n",
       "        text-align: right;\n",
       "    }\n",
       "</style>\n",
       "<table border=\"1\" class=\"dataframe\">\n",
       "  <thead>\n",
       "    <tr style=\"text-align: right;\">\n",
       "      <th></th>\n",
       "      <th>SoilMoisture(%)</th>\n",
       "      <th>SoilTemp(c)</th>\n",
       "      <th>Rain(mm)</th>\n",
       "    </tr>\n",
       "    <tr>\n",
       "      <th>Timestamp (UTC+12:00)</th>\n",
       "      <th></th>\n",
       "      <th></th>\n",
       "      <th></th>\n",
       "    </tr>\n",
       "  </thead>\n",
       "  <tbody>\n",
       "    <tr>\n",
       "      <th>2018-07-07 11:00:00</th>\n",
       "      <td>37.51600</td>\n",
       "      <td>10.400</td>\n",
       "      <td>0.0</td>\n",
       "    </tr>\n",
       "    <tr>\n",
       "      <th>2018-07-07 12:00:00</th>\n",
       "      <td>37.52375</td>\n",
       "      <td>10.600</td>\n",
       "      <td>0.0</td>\n",
       "    </tr>\n",
       "    <tr>\n",
       "      <th>2018-07-07 13:00:00</th>\n",
       "      <td>37.57200</td>\n",
       "      <td>10.700</td>\n",
       "      <td>0.0</td>\n",
       "    </tr>\n",
       "    <tr>\n",
       "      <th>2018-07-07 14:00:00</th>\n",
       "      <td>37.34300</td>\n",
       "      <td>10.725</td>\n",
       "      <td>0.0</td>\n",
       "    </tr>\n",
       "    <tr>\n",
       "      <th>2018-07-07 15:00:00</th>\n",
       "      <td>37.35050</td>\n",
       "      <td>10.950</td>\n",
       "      <td>0.0</td>\n",
       "    </tr>\n",
       "  </tbody>\n",
       "</table>\n",
       "</div>"
      ],
      "text/plain": [
       "                       SoilMoisture(%)  SoilTemp(c)  Rain(mm)\n",
       "Timestamp (UTC+12:00)                                        \n",
       "2018-07-07 11:00:00           37.51600       10.400       0.0\n",
       "2018-07-07 12:00:00           37.52375       10.600       0.0\n",
       "2018-07-07 13:00:00           37.57200       10.700       0.0\n",
       "2018-07-07 14:00:00           37.34300       10.725       0.0\n",
       "2018-07-07 15:00:00           37.35050       10.950       0.0"
      ]
     },
     "execution_count": 5,
     "metadata": {},
     "output_type": "execute_result"
    }
   ],
   "source": [
    "\n",
    "mtalbert = mtalbert.resample('H').agg({\n",
    "    'SoilMoisture(%)': 'mean',\n",
    "    'SoilTemp(c)': 'mean',\n",
    "    'Rain(mm)': 'sum'\n",
    "})\n",
    "mtalbert.head()"
   ]
  },
  {
   "cell_type": "code",
   "execution_count": 6,
   "metadata": {},
   "outputs": [
    {
     "data": {
      "text/plain": [
       "<Hour>"
      ]
     },
     "execution_count": 6,
     "metadata": {},
     "output_type": "execute_result"
    }
   ],
   "source": [
    "mtalbert.index.freq"
   ]
  }
 ],
 "metadata": {
  "kernelspec": {
   "display_name": "level8",
   "language": "python",
   "name": "python3"
  },
  "language_info": {
   "codemirror_mode": {
    "name": "ipython",
    "version": 3
   },
   "file_extension": ".py",
   "mimetype": "text/x-python",
   "name": "python",
   "nbconvert_exporter": "python",
   "pygments_lexer": "ipython3",
   "version": "3.10.14"
  }
 },
 "nbformat": 4,
 "nbformat_minor": 2
}
