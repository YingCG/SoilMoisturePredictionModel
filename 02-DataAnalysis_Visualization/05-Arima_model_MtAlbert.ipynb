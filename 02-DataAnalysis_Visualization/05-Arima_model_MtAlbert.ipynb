{
 "cells": [
  {
   "cell_type": "code",
   "execution_count": 2,
   "metadata": {},
   "outputs": [
    {
     "data": {
      "text/html": [
       "<div>\n",
       "<style scoped>\n",
       "    .dataframe tbody tr th:only-of-type {\n",
       "        vertical-align: middle;\n",
       "    }\n",
       "\n",
       "    .dataframe tbody tr th {\n",
       "        vertical-align: top;\n",
       "    }\n",
       "\n",
       "    .dataframe thead th {\n",
       "        text-align: right;\n",
       "    }\n",
       "</style>\n",
       "<table border=\"1\" class=\"dataframe\">\n",
       "  <thead>\n",
       "    <tr style=\"text-align: right;\">\n",
       "      <th></th>\n",
       "      <th>Rain(mm)</th>\n",
       "      <th>SoilTemp(c)</th>\n",
       "      <th>SoilMoisture(%)</th>\n",
       "    </tr>\n",
       "    <tr>\n",
       "      <th>Timestamp (UTC+12:00)</th>\n",
       "      <th></th>\n",
       "      <th></th>\n",
       "      <th></th>\n",
       "    </tr>\n",
       "  </thead>\n",
       "  <tbody>\n",
       "    <tr>\n",
       "      <th>2018-07-07 11:15:00</th>\n",
       "      <td>0.0</td>\n",
       "      <td>10.4</td>\n",
       "      <td>37.364</td>\n",
       "    </tr>\n",
       "    <tr>\n",
       "      <th>2018-07-07 11:30:00</th>\n",
       "      <td>0.0</td>\n",
       "      <td>10.4</td>\n",
       "      <td>37.594</td>\n",
       "    </tr>\n",
       "    <tr>\n",
       "      <th>2018-07-07 11:45:00</th>\n",
       "      <td>0.0</td>\n",
       "      <td>10.4</td>\n",
       "      <td>37.590</td>\n",
       "    </tr>\n",
       "    <tr>\n",
       "      <th>2018-07-07 12:00:00</th>\n",
       "      <td>0.0</td>\n",
       "      <td>10.5</td>\n",
       "      <td>37.587</td>\n",
       "    </tr>\n",
       "    <tr>\n",
       "      <th>2018-07-07 12:15:00</th>\n",
       "      <td>0.0</td>\n",
       "      <td>10.5</td>\n",
       "      <td>37.584</td>\n",
       "    </tr>\n",
       "  </tbody>\n",
       "</table>\n",
       "</div>"
      ],
      "text/plain": [
       "                       Rain(mm)  SoilTemp(c)  SoilMoisture(%)\n",
       "Timestamp (UTC+12:00)                                        \n",
       "2018-07-07 11:15:00         0.0         10.4           37.364\n",
       "2018-07-07 11:30:00         0.0         10.4           37.594\n",
       "2018-07-07 11:45:00         0.0         10.4           37.590\n",
       "2018-07-07 12:00:00         0.0         10.5           37.587\n",
       "2018-07-07 12:15:00         0.0         10.5           37.584"
      ]
     },
     "execution_count": 2,
     "metadata": {},
     "output_type": "execute_result"
    }
   ],
   "source": [
    "import numpy as np\n",
    "import pandas as pd\n",
    "import matplotlib.pyplot as plt\n",
    "import seaborn as sns\n",
    "%matplotlib inline\n",
    "\n",
    "mtalbert = pd.read_csv('../Data/soil data/AcrossAucklandRainfallStation/MtAlbert_Data_15mins.csv', index_col=['Timestamp (UTC+12:00)'], parse_dates=['Timestamp (UTC+12:00)'])\n",
    "mtalbert.head()"
   ]
  },
  {
   "cell_type": "markdown",
   "metadata": {},
   "source": [
    "# AR with statsmodels"
   ]
  },
  {
   "cell_type": "code",
   "execution_count": 3,
   "metadata": {},
   "outputs": [],
   "source": [
    "from statsmodels.tsa.ar_model import AR, ARResults"
   ]
  },
  {
   "cell_type": "code",
   "execution_count": 5,
   "metadata": {},
   "outputs": [
    {
     "name": "stderr",
     "output_type": "stream",
     "text": [
      "C:\\Users\\Ying\\AppData\\Local\\Temp\\ipykernel_3372\\1463717319.py:1: FutureWarning: 'H' is deprecated and will be removed in a future version, please use 'h' instead.\n",
      "  mtalbert_soil = mtalbert.resample('H').agg({\n"
     ]
    }
   ],
   "source": [
    "mtalbert_soil = mtalbert.resample('H').agg({\n",
    "    'Rain(mm)': 'sum',\n",
    "    'SoilTemp(c)': 'mean',\n",
    "    'SoilMoisture(%)': 'mean'\n",
    "})"
   ]
  },
  {
   "cell_type": "code",
   "execution_count": 7,
   "metadata": {},
   "outputs": [
    {
     "data": {
      "text/plain": [
       "Rain(mm)           0\n",
       "SoilTemp(c)        0\n",
       "SoilMoisture(%)    0\n",
       "dtype: int64"
      ]
     },
     "execution_count": 7,
     "metadata": {},
     "output_type": "execute_result"
    }
   ],
   "source": [
    "mtalbert.isna().sum()\n"
   ]
  },
  {
   "cell_type": "code",
   "execution_count": 8,
   "metadata": {},
   "outputs": [
    {
     "data": {
      "text/plain": [
       "<Axes: xlabel='Timestamp (UTC+12:00)'>"
      ]
     },
     "execution_count": 8,
     "metadata": {},
     "output_type": "execute_result"
    },
    {
     "data": {
      "image/png": "[encoded data removed]",
      "text/plain": [
       "<Figure size 1200x500 with 1 Axes>"
      ]
     },
     "metadata": {},
     "output_type": "display_data"
    }
   ],
   "source": [
    "mtalbert['SoilMoisture(%)'].plot(figsize=(12,5))"
   ]
  },
  {
   "cell_type": "code",
   "execution_count": 9,
   "metadata": {},
   "outputs": [
    {
     "name": "stdout",
     "output_type": "stream",
     "text": [
      "<class 'pandas.core.frame.DataFrame'>\n",
      "DatetimeIndex: 187529 entries, 2018-07-07 11:15:00 to 2024-10-21 20:00:00\n",
      "Data columns (total 3 columns):\n",
      " #   Column           Non-Null Count   Dtype  \n",
      "---  ------           --------------   -----  \n",
      " 0   Rain(mm)         187529 non-null  float64\n",
      " 1   SoilTemp(c)      187529 non-null  float64\n",
      " 2   SoilMoisture(%)  187529 non-null  float64\n",
      "dtypes: float64(3)\n",
      "memory usage: 5.7 MB\n"
     ]
    }
   ],
   "source": [
    "mtalbert.info()"
   ]
  },
  {
   "cell_type": "code",
   "execution_count": 10,
   "metadata": {},
   "outputs": [
    {
     "data": {
      "text/plain": [
       "39600.65"
      ]
     },
     "execution_count": 10,
     "metadata": {},
     "output_type": "execute_result"
    }
   ],
   "source": [
    "46589  * 85/100"
   ]
  },
  {
   "cell_type": "code",
   "execution_count": 11,
   "metadata": {},
   "outputs": [
    {
     "data": {
      "text/html": [
       "<div>\n",
       "<style scoped>\n",
       "    .dataframe tbody tr th:only-of-type {\n",
       "        vertical-align: middle;\n",
       "    }\n",
       "\n",
       "    .dataframe tbody tr th {\n",
       "        vertical-align: top;\n",
       "    }\n",
       "\n",
       "    .dataframe thead th {\n",
       "        text-align: right;\n",
       "    }\n",
       "</style>\n",
       "<table border=\"1\" class=\"dataframe\">\n",
       "  <thead>\n",
       "    <tr style=\"text-align: right;\">\n",
       "      <th></th>\n",
       "      <th>Rain(mm)</th>\n",
       "      <th>SoilTemp(c)</th>\n",
       "      <th>SoilMoisture(%)</th>\n",
       "    </tr>\n",
       "    <tr>\n",
       "      <th>Timestamp (UTC+12:00)</th>\n",
       "      <th></th>\n",
       "      <th></th>\n",
       "      <th></th>\n",
       "    </tr>\n",
       "  </thead>\n",
       "  <tbody>\n",
       "    <tr>\n",
       "      <th>2020-06-29 22:30:00</th>\n",
       "      <td>0.0</td>\n",
       "      <td>13.9</td>\n",
       "      <td>43.322</td>\n",
       "    </tr>\n",
       "  </tbody>\n",
       "</table>\n",
       "</div>"
      ],
      "text/plain": [
       "                       Rain(mm)  SoilTemp(c)  SoilMoisture(%)\n",
       "Timestamp (UTC+12:00)                                        \n",
       "2020-06-29 22:30:00         0.0         13.9           43.322"
      ]
     },
     "execution_count": 11,
     "metadata": {},
     "output_type": "execute_result"
    }
   ],
   "source": [
    "mtalbert.iloc[[39600]]"
   ]
  },
  {
   "cell_type": "code",
   "execution_count": 12,
   "metadata": {},
   "outputs": [],
   "source": [
    "# Train test split\n",
    "\n",
    "train_data = mtalbert.iloc[:39600]\n",
    "test_data = mtalbert.iloc[39601:]"
   ]
  },
  {
   "cell_type": "code",
   "execution_count": 13,
   "metadata": {},
   "outputs": [],
   "source": [
    "import warnings\n",
    "warnings.filterwarnings('ignore')"
   ]
  },
  {
   "cell_type": "code",
   "execution_count": 14,
   "metadata": {},
   "outputs": [
    {
     "data": {
      "text/plain": [
       "672"
      ]
     },
     "execution_count": 14,
     "metadata": {},
     "output_type": "execute_result"
    }
   ],
   "source": [
    "24*28\n"
   ]
  },
  {
   "cell_type": "markdown",
   "metadata": {},
   "source": [
    "- 24: This corresponds to 1 day (24 hours).\n",
    "- 72: This corresponds to 3 days (72 hours).\n",
    "- 168: This corresponds to 7 days (1 week).\n",
    "- 336: This corresponds to 14 days (2 weeks).\n",
    "- 504: This corresponds to 21 days (3 weeks).\n",
    "- 672: This corresponds to 28 days (4 weeks)."
   ]
  },
  {
   "cell_type": "code",
   "execution_count": 15,
   "metadata": {},
   "outputs": [
    {
     "name": "stdout",
     "output_type": "stream",
     "text": [
      "0\n"
     ]
    }
   ],
   "source": [
    "print(train_data['SoilMoisture(%)'].isnull().sum())\n"
   ]
  },
  {
   "cell_type": "code",
   "execution_count": 16,
   "metadata": {},
   "outputs": [],
   "source": [
    "train_data['SoilMoisture(%)'] = train_data['SoilMoisture(%)'].fillna(method='ffill')\n",
    "train_data = train_data.dropna(subset=['SoilMoisture(%)'])\n"
   ]
  },
  {
   "cell_type": "code",
   "execution_count": 17,
   "metadata": {},
   "outputs": [],
   "source": [
    "from statsmodels.tsa.ar_model import AutoReg\n",
    "\n",
    "ARmodel1 = AutoReg(train_data['SoilMoisture(%)'], lags=[24,72, 168, 336, 504, 672], trend='c')"
   ]
  },
  {
   "cell_type": "code",
   "execution_count": 18,
   "metadata": {},
   "outputs": [
    {
     "name": "stdout",
     "output_type": "stream",
     "text": [
      "0\n"
     ]
    }
   ],
   "source": [
    "print(train_data['SoilMoisture(%)'].isnull().sum())\n"
   ]
  },
  {
   "cell_type": "code",
   "execution_count": 19,
   "metadata": {},
   "outputs": [],
   "source": [
    "AR_fit = ARmodel1.fit()"
   ]
  },
  {
   "cell_type": "code",
   "execution_count": 20,
   "metadata": {},
   "outputs": [
    {
     "data": {
      "text/plain": [
       "[24, 72, 168, 336, 504, 672]"
      ]
     },
     "execution_count": 20,
     "metadata": {},
     "output_type": "execute_result"
    }
   ],
   "source": [
    "AR_fit.ar_lags"
   ]
  },
  {
   "cell_type": "code",
   "execution_count": 21,
   "metadata": {},
   "outputs": [
    {
     "name": "stdout",
     "output_type": "stream",
     "text": [
      "41.10033664562323\n"
     ]
    }
   ],
   "source": [
    "mean_soil_moisture = train_data['SoilMoisture(%)'].mean()\n",
    "print(mean_soil_moisture)"
   ]
  },
  {
   "cell_type": "code",
   "execution_count": 22,
   "metadata": {},
   "outputs": [
    {
     "name": "stdout",
     "output_type": "stream",
     "text": [
      "ADF Statistic: -2.24686410949191\n",
      "p-value: 0.18967802907495446\n"
     ]
    }
   ],
   "source": [
    "from statsmodels.tsa.stattools import adfuller\n",
    "result = adfuller(train_data['SoilMoisture(%)'])\n",
    "print('ADF Statistic:', result[0])\n",
    "print('p-value:', result[1])"
   ]
  },
  {
   "cell_type": "code",
   "execution_count": 23,
   "metadata": {},
   "outputs": [],
   "source": [
    "start = len(train_data)\n",
    "end = len(train_data) + len(test_data) -1"
   ]
  },
  {
   "cell_type": "code",
   "execution_count": 24,
   "metadata": {},
   "outputs": [
    {
     "data": {
      "text/plain": [
       "39600"
      ]
     },
     "execution_count": 24,
     "metadata": {},
     "output_type": "execute_result"
    }
   ],
   "source": [
    "start"
   ]
  },
  {
   "cell_type": "code",
   "execution_count": 25,
   "metadata": {},
   "outputs": [
    {
     "data": {
      "text/plain": [
       "187527"
      ]
     },
     "execution_count": 25,
     "metadata": {},
     "output_type": "execute_result"
    }
   ],
   "source": [
    "end"
   ]
  },
  {
   "cell_type": "code",
   "execution_count": 26,
   "metadata": {},
   "outputs": [
    {
     "name": "stdout",
     "output_type": "stream",
     "text": [
      "39600     43.632456\n",
      "39601     43.628066\n",
      "39602     43.690925\n",
      "39603     43.568825\n",
      "39604     43.675777\n",
      "            ...    \n",
      "187523    42.494314\n",
      "187524    42.494314\n",
      "187525    42.494314\n",
      "187526    42.494314\n",
      "187527    42.494314\n",
      "Length: 147928, dtype: float64\n"
     ]
    }
   ],
   "source": [
    "predictions1 = AR_fit.predict(start=start, end=end)\n",
    "print(predictions1)"
   ]
  },
  {
   "cell_type": "code",
   "execution_count": 27,
   "metadata": {},
   "outputs": [
    {
     "data": {
      "text/plain": [
       "39600     43.632456\n",
       "39601     43.628066\n",
       "39602     43.690925\n",
       "39603     43.568825\n",
       "39604     43.675777\n",
       "            ...    \n",
       "187523    42.494314\n",
       "187524    42.494314\n",
       "187525    42.494314\n",
       "187526    42.494314\n",
       "187527    42.494314\n",
       "Name: AR1 Predictions, Length: 147928, dtype: float64"
      ]
     },
     "execution_count": 27,
     "metadata": {},
     "output_type": "execute_result"
    }
   ],
   "source": [
    "predictions1 = predictions1.rename('AR1 Predictions')\n",
    "predictions1"
   ]
  },
  {
   "cell_type": "code",
   "execution_count": 28,
   "metadata": {},
   "outputs": [
    {
     "data": {
      "text/plain": [
       "<Axes: xlabel='Timestamp (UTC+12:00)'>"
      ]
     },
     "execution_count": 28,
     "metadata": {},
     "output_type": "execute_result"
    },
    {
     "data": {
      "image/png": "[encoded data removed]",
      "text/plain": [
       "<Figure size 1200x500 with 1 Axes>"
      ]
     },
     "metadata": {},
     "output_type": "display_data"
    }
   ],
   "source": [
    "test_data['SoilMoisture(%)'].plot(figsize=(12,5), legend=True)\n",
    "predictions1.plot(legend=True)"
   ]
  },
  {
   "cell_type": "markdown",
   "metadata": {},
   "source": [
    "Pmdarima"
   ]
  },
  {
   "cell_type": "code",
   "execution_count": 30,
   "metadata": {},
   "outputs": [],
   "source": [
    "# mtalbert_day = pd.read_csv('../Data/soil data/mtalbert-648717-20241008172730/MtAlbert_Data_15mins.csv', parse_dates=['Timestamp (UTC+12:00)'])\n",
    "# mtalbert_day.head()"
   ]
  },
  {
   "cell_type": "code",
   "execution_count": 35,
   "metadata": {},
   "outputs": [
    {
     "data": {
      "text/html": [
       "<div>\n",
       "<style scoped>\n",
       "    .dataframe tbody tr th:only-of-type {\n",
       "        vertical-align: middle;\n",
       "    }\n",
       "\n",
       "    .dataframe tbody tr th {\n",
       "        vertical-align: top;\n",
       "    }\n",
       "\n",
       "    .dataframe thead th {\n",
       "        text-align: right;\n",
       "    }\n",
       "</style>\n",
       "<table border=\"1\" class=\"dataframe\">\n",
       "  <thead>\n",
       "    <tr style=\"text-align: right;\">\n",
       "      <th></th>\n",
       "      <th>SoilMoisture(%)</th>\n",
       "      <th>SoilTemp(c)</th>\n",
       "      <th>Rain(mm)</th>\n",
       "    </tr>\n",
       "    <tr>\n",
       "      <th>Timestamp (UTC+12:00)</th>\n",
       "      <th></th>\n",
       "      <th></th>\n",
       "      <th></th>\n",
       "    </tr>\n",
       "  </thead>\n",
       "  <tbody>\n",
       "    <tr>\n",
       "      <th>2018-07-07</th>\n",
       "      <td>37.337412</td>\n",
       "      <td>11.064706</td>\n",
       "      <td>0.00</td>\n",
       "    </tr>\n",
       "    <tr>\n",
       "      <th>2018-07-08</th>\n",
       "      <td>36.910969</td>\n",
       "      <td>11.355208</td>\n",
       "      <td>7.36</td>\n",
       "    </tr>\n",
       "    <tr>\n",
       "      <th>2018-07-09</th>\n",
       "      <td>40.972479</td>\n",
       "      <td>12.148958</td>\n",
       "      <td>19.99</td>\n",
       "    </tr>\n",
       "    <tr>\n",
       "      <th>2018-07-10</th>\n",
       "      <td>42.747948</td>\n",
       "      <td>11.923958</td>\n",
       "      <td>7.88</td>\n",
       "    </tr>\n",
       "    <tr>\n",
       "      <th>2018-07-11</th>\n",
       "      <td>42.727272</td>\n",
       "      <td>11.422581</td>\n",
       "      <td>0.53</td>\n",
       "    </tr>\n",
       "  </tbody>\n",
       "</table>\n",
       "</div>"
      ],
      "text/plain": [
       "                       SoilMoisture(%)  SoilTemp(c)  Rain(mm)\n",
       "Timestamp (UTC+12:00)                                        \n",
       "2018-07-07                   37.337412    11.064706      0.00\n",
       "2018-07-08                   36.910969    11.355208      7.36\n",
       "2018-07-09                   40.972479    12.148958     19.99\n",
       "2018-07-10                   42.747948    11.923958      7.88\n",
       "2018-07-11                   42.727272    11.422581      0.53"
      ]
     },
     "execution_count": 35,
     "metadata": {},
     "output_type": "execute_result"
    }
   ],
   "source": [
    "\n",
    "mtalbert_daily = mtalbert.resample('D').agg({\n",
    "    'SoilMoisture(%)': 'mean',\n",
    "    'SoilTemp(c)': 'mean',\n",
    "    'Rain(mm)': 'sum'\n",
    "})\n",
    "mtalbert_daily.head()"
   ]
  },
  {
   "cell_type": "code",
   "execution_count": 36,
   "metadata": {},
   "outputs": [
    {
     "data": {
      "text/html": [
       "<div>\n",
       "<style scoped>\n",
       "    .dataframe tbody tr th:only-of-type {\n",
       "        vertical-align: middle;\n",
       "    }\n",
       "\n",
       "    .dataframe tbody tr th {\n",
       "        vertical-align: top;\n",
       "    }\n",
       "\n",
       "    .dataframe thead th {\n",
       "        text-align: right;\n",
       "    }\n",
       "</style>\n",
       "<table border=\"1\" class=\"dataframe\">\n",
       "  <thead>\n",
       "    <tr style=\"text-align: right;\">\n",
       "      <th></th>\n",
       "      <th>Rain(mm)</th>\n",
       "      <th>SoilTemp(c)</th>\n",
       "      <th>SoilMoisture(%)</th>\n",
       "    </tr>\n",
       "    <tr>\n",
       "      <th>Timestamp (UTC+12:00)</th>\n",
       "      <th></th>\n",
       "      <th></th>\n",
       "      <th></th>\n",
       "    </tr>\n",
       "  </thead>\n",
       "  <tbody>\n",
       "    <tr>\n",
       "      <th>2018-07-07 11:15:00</th>\n",
       "      <td>0.0</td>\n",
       "      <td>10.4</td>\n",
       "      <td>37.364</td>\n",
       "    </tr>\n",
       "    <tr>\n",
       "      <th>2018-07-07 11:30:00</th>\n",
       "      <td>0.0</td>\n",
       "      <td>10.4</td>\n",
       "      <td>37.594</td>\n",
       "    </tr>\n",
       "    <tr>\n",
       "      <th>2018-07-07 11:45:00</th>\n",
       "      <td>0.0</td>\n",
       "      <td>10.4</td>\n",
       "      <td>37.590</td>\n",
       "    </tr>\n",
       "    <tr>\n",
       "      <th>2018-07-07 12:00:00</th>\n",
       "      <td>0.0</td>\n",
       "      <td>10.5</td>\n",
       "      <td>37.587</td>\n",
       "    </tr>\n",
       "    <tr>\n",
       "      <th>2018-07-07 12:15:00</th>\n",
       "      <td>0.0</td>\n",
       "      <td>10.5</td>\n",
       "      <td>37.584</td>\n",
       "    </tr>\n",
       "  </tbody>\n",
       "</table>\n",
       "</div>"
      ],
      "text/plain": [
       "                       Rain(mm)  SoilTemp(c)  SoilMoisture(%)\n",
       "Timestamp (UTC+12:00)                                        \n",
       "2018-07-07 11:15:00         0.0         10.4           37.364\n",
       "2018-07-07 11:30:00         0.0         10.4           37.594\n",
       "2018-07-07 11:45:00         0.0         10.4           37.590\n",
       "2018-07-07 12:00:00         0.0         10.5           37.587\n",
       "2018-07-07 12:15:00         0.0         10.5           37.584"
      ]
     },
     "execution_count": 36,
     "metadata": {},
     "output_type": "execute_result"
    }
   ],
   "source": [
    "mtalbert.head()"
   ]
  },
  {
   "cell_type": "code",
   "execution_count": 37,
   "metadata": {},
   "outputs": [],
   "source": [
    "from pmdarima import auto_arima"
   ]
  },
  {
   "cell_type": "code",
   "execution_count": 38,
   "metadata": {},
   "outputs": [],
   "source": [
    "import warnings\n",
    "warnings.filterwarnings('ignore')"
   ]
  },
  {
   "cell_type": "code",
   "execution_count": 40,
   "metadata": {},
   "outputs": [],
   "source": [
    "stepwise_fit= auto_arima(mtalbert['SoilMoisture(%)'], start_p=0, max_p=6, max_q=3, seasonal=False)"
   ]
  },
  {
   "cell_type": "code",
   "execution_count": 41,
   "metadata": {},
   "outputs": [
    {
     "data": {
      "text/html": [
       "<table class=\"simpletable\">\n",
       "<caption>SARIMAX Results</caption>\n",
       "<tr>\n",
       "  <th>Dep. Variable:</th>           <td>y</td>        <th>  No. Observations:  </th>   <td>187529</td>   \n",
       "</tr>\n",
       "<tr>\n",
       "  <th>Model:</th>           <td>SARIMAX(2, 1, 1)</td> <th>  Log Likelihood     </th> <td>227003.095</td> \n",
       "</tr>\n",
       "<tr>\n",
       "  <th>Date:</th>            <td>Mon, 04 Nov 2024</td> <th>  AIC                </th> <td>-453998.190</td>\n",
       "</tr>\n",
       "<tr>\n",
       "  <th>Time:</th>                <td>21:57:53</td>     <th>  BIC                </th> <td>-453957.623</td>\n",
       "</tr>\n",
       "<tr>\n",
       "  <th>Sample:</th>                  <td>0</td>        <th>  HQIC               </th> <td>-453986.217</td>\n",
       "</tr>\n",
       "<tr>\n",
       "  <th></th>                     <td> - 187529</td>    <th>                     </th>      <td> </td>     \n",
       "</tr>\n",
       "<tr>\n",
       "  <th>Covariance Type:</th>        <td>opg</td>       <th>                     </th>      <td> </td>     \n",
       "</tr>\n",
       "</table>\n",
       "<table class=\"simpletable\">\n",
       "<tr>\n",
       "     <td></td>       <th>coef</th>     <th>std err</th>      <th>z</th>      <th>P>|z|</th>  <th>[0.025</th>    <th>0.975]</th>  \n",
       "</tr>\n",
       "<tr>\n",
       "  <th>ar.L1</th>  <td>    0.8387</td> <td>    0.002</td> <td>  408.390</td> <td> 0.000</td> <td>    0.835</td> <td>    0.843</td>\n",
       "</tr>\n",
       "<tr>\n",
       "  <th>ar.L2</th>  <td>    0.0855</td> <td>    0.001</td> <td>  125.570</td> <td> 0.000</td> <td>    0.084</td> <td>    0.087</td>\n",
       "</tr>\n",
       "<tr>\n",
       "  <th>ma.L1</th>  <td>   -0.8813</td> <td>    0.002</td> <td> -443.329</td> <td> 0.000</td> <td>   -0.885</td> <td>   -0.877</td>\n",
       "</tr>\n",
       "<tr>\n",
       "  <th>sigma2</th> <td>    0.0052</td> <td> 2.15e-06</td> <td> 2420.005</td> <td> 0.000</td> <td>    0.005</td> <td>    0.005</td>\n",
       "</tr>\n",
       "</table>\n",
       "<table class=\"simpletable\">\n",
       "<tr>\n",
       "  <th>Ljung-Box (L1) (Q):</th>     <td>0.00</td> <th>  Jarque-Bera (JB):  </th> <td>264129527.12</td>\n",
       "</tr>\n",
       "<tr>\n",
       "  <th>Prob(Q):</th>                <td>0.97</td> <th>  Prob(JB):          </th>     <td>0.00</td>    \n",
       "</tr>\n",
       "<tr>\n",
       "  <th>Heteroskedasticity (H):</th> <td>1.44</td> <th>  Skew:              </th>     <td>6.17</td>    \n",
       "</tr>\n",
       "<tr>\n",
       "  <th>Prob(H) (two-sided):</th>    <td>0.00</td> <th>  Kurtosis:          </th>    <td>186.44</td>   \n",
       "</tr>\n",
       "</table><br/><br/>Warnings:<br/>[1] Covariance matrix calculated using the outer product of gradients (complex-step)."
      ],
      "text/latex": [
       "\\begin{center}\n",
       "\\begin{tabular}{lclc}\n",
       "\\toprule\n",
       "\\textbf{Dep. Variable:}          &        y         & \\textbf{  No. Observations:  } &    187529     \\\\\n",
       "\\textbf{Model:}                  & SARIMAX(2, 1, 1) & \\textbf{  Log Likelihood     } &  227003.095   \\\\\n",
       "\\textbf{Date:}                   & Mon, 04 Nov 2024 & \\textbf{  AIC                } & -453998.190   \\\\\n",
       "\\textbf{Time:}                   &     21:57:53     & \\textbf{  BIC                } & -453957.623   \\\\\n",
       "\\textbf{Sample:}                 &        0         & \\textbf{  HQIC               } & -453986.217   \\\\\n",
       "\\textbf{}                        &     - 187529     & \\textbf{                     } &               \\\\\n",
       "\\textbf{Covariance Type:}        &       opg        & \\textbf{                     } &               \\\\\n",
       "\\bottomrule\n",
       "\\end{tabular}\n",
       "\\begin{tabular}{lcccccc}\n",
       "                & \\textbf{coef} & \\textbf{std err} & \\textbf{z} & \\textbf{P$> |$z$|$} & \\textbf{[0.025} & \\textbf{0.975]}  \\\\\n",
       "\\midrule\n",
       "\\textbf{ar.L1}  &       0.8387  &        0.002     &   408.390  &         0.000        &        0.835    &        0.843     \\\\\n",
       "\\textbf{ar.L2}  &       0.0855  &        0.001     &   125.570  &         0.000        &        0.084    &        0.087     \\\\\n",
       "\\textbf{ma.L1}  &      -0.8813  &        0.002     &  -443.329  &         0.000        &       -0.885    &       -0.877     \\\\\n",
       "\\textbf{sigma2} &       0.0052  &     2.15e-06     &  2420.005  &         0.000        &        0.005    &        0.005     \\\\\n",
       "\\bottomrule\n",
       "\\end{tabular}\n",
       "\\begin{tabular}{lclc}\n",
       "\\textbf{Ljung-Box (L1) (Q):}     & 0.00 & \\textbf{  Jarque-Bera (JB):  } & 264129527.12  \\\\\n",
       "\\textbf{Prob(Q):}                & 0.97 & \\textbf{  Prob(JB):          } &     0.00      \\\\\n",
       "\\textbf{Heteroskedasticity (H):} & 1.44 & \\textbf{  Skew:              } &     6.17      \\\\\n",
       "\\textbf{Prob(H) (two-sided):}    & 0.00 & \\textbf{  Kurtosis:          } &    186.44     \\\\\n",
       "\\bottomrule\n",
       "\\end{tabular}\n",
       "%\\caption{SARIMAX Results}\n",
       "\\end{center}\n",
       "\n",
       "Warnings: \\newline\n",
       " [1] Covariance matrix calculated using the outer product of gradients (complex-step)."
      ],
      "text/plain": [
       "<class 'statsmodels.iolib.summary.Summary'>\n",
       "\"\"\"\n",
       "                               SARIMAX Results                                \n",
       "==============================================================================\n",
       "Dep. Variable:                      y   No. Observations:               187529\n",
       "Model:               SARIMAX(2, 1, 1)   Log Likelihood              227003.095\n",
       "Date:                Mon, 04 Nov 2024   AIC                        -453998.190\n",
       "Time:                        21:57:53   BIC                        -453957.623\n",
       "Sample:                             0   HQIC                       -453986.217\n",
       "                             - 187529                                         \n",
       "Covariance Type:                  opg                                         \n",
       "==============================================================================\n",
       "                 coef    std err          z      P>|z|      [0.025      0.975]\n",
       "------------------------------------------------------------------------------\n",
       "ar.L1          0.8387      0.002    408.390      0.000       0.835       0.843\n",
       "ar.L2          0.0855      0.001    125.570      0.000       0.084       0.087\n",
       "ma.L1         -0.8813      0.002   -443.329      0.000      -0.885      -0.877\n",
       "sigma2         0.0052   2.15e-06   2420.005      0.000       0.005       0.005\n",
       "===================================================================================\n",
       "Ljung-Box (L1) (Q):                   0.00   Jarque-Bera (JB):         264129527.12\n",
       "Prob(Q):                              0.97   Prob(JB):                         0.00\n",
       "Heteroskedasticity (H):               1.44   Skew:                             6.17\n",
       "Prob(H) (two-sided):                  0.00   Kurtosis:                       186.44\n",
       "===================================================================================\n",
       "\n",
       "Warnings:\n",
       "[1] Covariance matrix calculated using the outer product of gradients (complex-step).\n",
       "\"\"\""
      ]
     },
     "execution_count": 41,
     "metadata": {},
     "output_type": "execute_result"
    }
   ],
   "source": [
    "stepwise_fit.summary()"
   ]
  },
  {
   "cell_type": "code",
   "execution_count": 43,
   "metadata": {},
   "outputs": [
    {
     "data": {
      "text/plain": [
       "150023.2"
      ]
     },
     "execution_count": 43,
     "metadata": {},
     "output_type": "execute_result"
    }
   ],
   "source": [
    "features = len(mtalbert) * 0.8\n",
    "features"
   ]
  },
  {
   "cell_type": "code",
   "execution_count": 44,
   "metadata": {},
   "outputs": [],
   "source": [
    "train = mtalbert_soil.iloc[:150023]\n",
    "test = mtalbert_soil.iloc[150023:]"
   ]
  },
  {
   "cell_type": "code",
   "execution_count": 48,
   "metadata": {},
   "outputs": [],
   "source": [
    "import pandas as pd\n",
    "import numpy as np\n",
    "import matplotlib.pyplot as plt\n",
    "from statsmodels.tsa.arima.model import ARIMA\n",
    "from sklearn.metrics import mean_squared_error"
   ]
  },
  {
   "cell_type": "code",
   "execution_count": 49,
   "metadata": {},
   "outputs": [
    {
     "name": "stdout",
     "output_type": "stream",
     "text": [
      "AIC for Rain(mm): -15419.318914296995\n",
      "BIC for Rain(mm): -15389.963879647603\n"
     ]
    }
   ],
   "source": [
    "from statsmodels.tsa.arima.model import ARIMA\n",
    "from sklearn.model_selection import train_test_split\n",
    "\n",
    "train_data_rain, test_data_rain = train_test_split(mtalbert['Rain(mm)'], test_size=0.3, shuffle=False)\n",
    "model_rain = ARIMA(train_data_rain, order=(1, 0, 0))\n",
    "model_fit_rain = model_rain.fit()\n",
    "\n",
    "# Print AIC and BIC for Rain(mm)\n",
    "print(\"AIC for Rain(mm):\", model_fit_rain.aic)\n",
    "print(\"BIC for Rain(mm):\", model_fit_rain.bic)"
   ]
  },
  {
   "cell_type": "code",
   "execution_count": 53,
   "metadata": {},
   "outputs": [
    {
     "name": "stdout",
     "output_type": "stream",
     "text": [
      "Airima Root Mean Squared Error (RMSE): 0.28181564512870744\n",
      "Airima Mean Absolute Error (MAE): 0.07594853368363824\n",
      "Airima Mean Squared Error (MSE): 0.07942005783930955\n",
      "Airima R2 Score: -0.0002153870138537073\n"
     ]
    }
   ],
   "source": [
    "from sklearn.metrics import mean_squared_error, mean_absolute_error, r2_score\n",
    "from math import sqrt\n",
    "\n",
    "forecast_steps = len(test_data_rain)\n",
    "prediction = model_fit_rain.forecast(steps=forecast_steps)\n",
    "\n",
    "rmse = sqrt(mean_squared_error(test_data_rain, prediction))\n",
    "\n",
    "# Calculate MAE\n",
    "mae = mean_absolute_error(test_data_rain, prediction)\n",
    "\n",
    "# Calculate MSE\n",
    "mse = mean_squared_error(test_data_rain, prediction)\n",
    "\n",
    "# Calculate R2 score\n",
    "r2 = r2_score(test_data_rain, prediction)\n",
    "\n",
    "# Print the metrics\n",
    "print(\"Airima Root Mean Squared Error (RMSE):\", rmse)\n",
    "print(\"Airima Mean Absolute Error (MAE):\", mae)\n",
    "print(\"Airima Mean Squared Error (MSE):\", mse)\n",
    "print(\"Airima R2 Score:\", r2)"
   ]
  },
  {
   "cell_type": "code",
   "execution_count": 54,
   "metadata": {},
   "outputs": [
    {
     "ename": "NameError",
     "evalue": "name 'model' is not defined",
     "output_type": "error",
     "traceback": [
      "\u001b[1;31m---------------------------------------------------------------------------\u001b[0m",
      "\u001b[1;31mNameError\u001b[0m                                 Traceback (most recent call last)",
      "Cell \u001b[1;32mIn[54], line 1\u001b[0m\n\u001b[1;32m----> 1\u001b[0m y_test_df \u001b[38;5;241m=\u001b[39m pd\u001b[38;5;241m.\u001b[39mDataFrame(\u001b[43mmodel\u001b[49m\u001b[38;5;241m.\u001b[39mreset_index(drop\u001b[38;5;241m=\u001b[39m\u001b[38;5;28;01mTrue\u001b[39;00m), columns\u001b[38;5;241m=\u001b[39m[\u001b[38;5;124m'\u001b[39m\u001b[38;5;124mSoilMoisture(\u001b[39m\u001b[38;5;124m%\u001b[39m\u001b[38;5;124m)\u001b[39m\u001b[38;5;124m'\u001b[39m])\n\u001b[0;32m      2\u001b[0m predictions_df \u001b[38;5;241m=\u001b[39m pd\u001b[38;5;241m.\u001b[39mDataFrame(model, columns\u001b[38;5;241m=\u001b[39m[\u001b[38;5;124m'\u001b[39m\u001b[38;5;124mPredicted\u001b[39m\u001b[38;5;124m'\u001b[39m])\n\u001b[0;32m      4\u001b[0m results_df \u001b[38;5;241m=\u001b[39m pd\u001b[38;5;241m.\u001b[39mconcat([y_test_df, predictions_df], axis\u001b[38;5;241m=\u001b[39m\u001b[38;5;241m1\u001b[39m)\n",
      "\u001b[1;31mNameError\u001b[0m: name 'model' is not defined"
     ]
    }
   ],
   "source": [
    "y_test_df = pd.DataFrame(model.reset_index(drop=True), columns=['SoilMoisture(%)'])\n",
    "predictions_df = pd.DataFrame(model, columns=['Predicted'])\n",
    "\n",
    "results_df = pd.concat([y_test_df, predictions_df], axis=1)\n",
    "\n",
    "plt.figure(figsize=(5, 3))\n",
    "sns.scatterplot(x=results_df['SoilMoisture(%)'], y=results_df['Predicted'], color='blue', label='Predicted')\n",
    "plt.plot([results_df['SoilMoisture(%)'].min(), results_df['SoilMoisture(%)'].max()], \n",
    "         [results_df['SoilMoisture(%)'].min(), results_df['SoilMoisture(%)'].max()], \n",
    "         color='red', linestyle='--', label='Perfect Prediction')\n",
    "plt.title('Tomarata Actual vs. Predicted Soil Moisture')\n",
    "plt.xlabel('Actual Soil Temperature(c)')\n",
    "plt.ylabel('Predicted Soil Temperature(c)')\n",
    "plt.legend()\n",
    "plt.grid()\n",
    "plt.show()"
   ]
  }
 ],
 "metadata": {
  "kernelspec": {
   "display_name": "level8",
   "language": "python",
   "name": "python3"
  },
  "language_info": {
   "codemirror_mode": {
    "name": "ipython",
    "version": 3
   },
   "file_extension": ".py",
   "mimetype": "text/x-python",
   "name": "python",
   "nbconvert_exporter": "python",
   "pygments_lexer": "ipython3",
   "version": "3.10.14"
  }
 },
 "nbformat": 4,
 "nbformat_minor": 2
}
