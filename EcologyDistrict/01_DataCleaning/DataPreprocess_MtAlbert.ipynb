{
 "cells": [
  {
   "cell_type": "markdown",
   "metadata": {},
   "source": [
    "# Step 1: Data Collection"
   ]
  },
  {
   "cell_type": "code",
   "execution_count": 171,
   "metadata": {},
   "outputs": [],
   "source": [
    "# import library\n",
    "import numpy as np\n",
    "import pandas as pd\n",
    "import matplotlib.pyplot as plt\n",
    "import seaborn as sns\n",
    "%matplotlib inline\n",
    "\n"
   ]
  },
  {
   "cell_type": "code",
   "execution_count": 172,
   "metadata": {},
   "outputs": [
    {
     "name": "stdout",
     "output_type": "stream",
     "text": [
      "                       Rain(mm)\n",
      "Timestamp (UTC+12:00)          \n",
      "2019-05-26 00:00:00         0.0\n",
      "2019-05-26 01:00:00         0.0\n",
      "2019-05-26 02:00:00         0.0\n",
      "2019-05-26 03:00:00         0.0\n",
      "2019-05-26 04:00:00         0.0\n",
      "2024-10-19 19:00:00         0.0\n",
      "2024-10-19 20:00:00         0.0\n",
      "2024-10-19 21:00:00         0.0\n",
      "2024-10-19 22:00:00         0.0\n",
      "2024-10-19 23:00:00         0.0\n"
     ]
    }
   ],
   "source": [
    "# Rainfall data in mtalbert\n",
    "rain = pd.read_csv('../Tamaki/MtAlbertGrammerRainfallHourly.csv', index_col='Timestamp (UTC+12:00)', parse_dates=True)\n",
    "rain.head(5)\n",
    "\n",
    "# smheadtail = (np.r_[0:5, -5:0])\n",
    "rainheadtail = rain.iloc[np.r_[0:5, -5:0]]\n",
    "print(rainheadtail)"
   ]
  },
  {
   "cell_type": "code",
   "execution_count": 173,
   "metadata": {},
   "outputs": [
    {
     "name": "stdout",
     "output_type": "stream",
     "text": [
      "                       SoilTemp(c)\n",
      "Timestamp (UTC+12:00)             \n",
      "2019-05-26 00:00:00      14.869875\n",
      "2019-05-26 01:00:00      14.751500\n",
      "2019-05-26 02:00:00      14.694500\n",
      "2019-05-26 03:00:00      14.648250\n",
      "2019-05-26 04:00:00      14.494625\n",
      "2024-10-19 19:00:00      16.812500\n",
      "2024-10-19 20:00:00      16.725000\n",
      "2024-10-19 21:00:00      16.587500\n",
      "2024-10-19 22:00:00      16.412500\n",
      "2024-10-19 23:00:00      16.312500\n"
     ]
    }
   ],
   "source": [
    "# Soil Temperature data in mtalbert\n",
    "st = pd.read_csv('../Tamaki//MtAlbertGrammerSoilTempHourly.csv',index_col='Timestamp (UTC+12:00)', parse_dates=True)\n",
    "st.head(5)\n",
    "\n",
    "# smheadtail = (np.r_[0:5, -5:0])\n",
    "stheadtail = st.iloc[np.r_[0:5, -5:0]]\n",
    "print(stheadtail)"
   ]
  },
  {
   "cell_type": "code",
   "execution_count": 174,
   "metadata": {},
   "outputs": [
    {
     "name": "stdout",
     "output_type": "stream",
     "text": [
      "                       SoilMoisture(%)\n",
      "Timestamp (UTC+12:00)                 \n",
      "2018-07-07 12:00:00          37.521875\n",
      "2018-07-07 13:00:00          37.543375\n",
      "2018-07-07 14:00:00          37.343375\n",
      "2018-07-07 15:00:00          37.351250\n",
      "2018-07-07 16:00:00          37.353125\n",
      "2024-10-28 03:00:00          47.165125\n",
      "2024-10-28 04:00:00          47.171000\n",
      "2024-10-28 05:00:00          47.127875\n",
      "2024-10-28 06:00:00          47.130250\n",
      "2024-10-28 07:00:00          47.132875\n"
     ]
    }
   ],
   "source": [
    "# Soil Moisture data in mtalbert\n",
    "sm = pd.read_csv('../Tamaki/MtAlbertGrammerSoilMoistureHourly.csv',index_col='Timestamp (UTC+12:00)', parse_dates=True)\n",
    "sm.head(5)\n",
    "\n",
    "# smheadtail = (np.r_[0:5, -5:0])\n",
    "smheadtail = sm.iloc[np.r_[0:5, -5:0]]\n",
    "print(smheadtail)"
   ]
  },
  {
   "cell_type": "markdown",
   "metadata": {},
   "source": [
    "Data Description"
   ]
  },
  {
   "cell_type": "code",
   "execution_count": 175,
   "metadata": {},
   "outputs": [
    {
     "name": "stdout",
     "output_type": "stream",
     "text": [
      "Mt Albert Rainfall Data Info:\n",
      "<class 'pandas.core.frame.DataFrame'>\n",
      "DatetimeIndex: 47376 entries, 2019-05-26 00:00:00 to 2024-10-19 23:00:00\n",
      "Data columns (total 1 columns):\n",
      " #   Column    Non-Null Count  Dtype  \n",
      "---  ------    --------------  -----  \n",
      " 0   Rain(mm)  47376 non-null  float64\n",
      "dtypes: float64(1)\n",
      "memory usage: 740.2 KB\n",
      "\n",
      "Mt Albert Soil Temperature Data Info:\n",
      "<class 'pandas.core.frame.DataFrame'>\n",
      "DatetimeIndex: 47376 entries, 2019-05-26 00:00:00 to 2024-10-19 23:00:00\n",
      "Data columns (total 1 columns):\n",
      " #   Column       Non-Null Count  Dtype  \n",
      "---  ------       --------------  -----  \n",
      " 0   SoilTemp(c)  47376 non-null  float64\n",
      "dtypes: float64(1)\n",
      "memory usage: 740.2 KB\n",
      "\n",
      "Mt Albert Soil Moisture Data Info:\n",
      "<class 'pandas.core.frame.DataFrame'>\n",
      "DatetimeIndex: 55316 entries, 2018-07-07 12:00:00 to 2024-10-28 07:00:00\n",
      "Data columns (total 1 columns):\n",
      " #   Column           Non-Null Count  Dtype  \n",
      "---  ------           --------------  -----  \n",
      " 0   SoilMoisture(%)  55299 non-null  float64\n",
      "dtypes: float64(1)\n",
      "memory usage: 864.3 KB\n"
     ]
    }
   ],
   "source": [
    "# Display info to check datatype\n",
    "print(\"Mt Albert Rainfall Data Info:\")\n",
    "rain.info()\n",
    "print(\"\\nMt Albert Soil Temperature Data Info:\")\n",
    "st.info()\n",
    "print(\"\\nMt Albert Soil Moisture Data Info:\")\n",
    "sm.info()"
   ]
  },
  {
   "cell_type": "code",
   "execution_count": 176,
   "metadata": {},
   "outputs": [],
   "source": [
    "sm = sm.dropna()"
   ]
  },
  {
   "cell_type": "code",
   "execution_count": 177,
   "metadata": {},
   "outputs": [
    {
     "name": "stdout",
     "output_type": "stream",
     "text": [
      "Mt Albert Rain statistics :\n",
      "           Rain(mm)\n",
      "count  47376.000000\n",
      "mean       0.152912\n",
      "std        0.877311\n",
      "min        0.000000\n",
      "25%        0.000000\n",
      "50%        0.000000\n",
      "75%        0.000000\n",
      "max       43.161026\n",
      "        SoilTemp(c)\n",
      "count  47376.000000\n",
      "mean      17.127572\n",
      "std        3.625300\n",
      "min        9.400000\n",
      "25%       13.912500\n",
      "50%       16.900000\n",
      "75%       20.312500\n",
      "max       25.350000\n",
      "       SoilMoisture(%)\n",
      "count     55299.000000\n",
      "mean         43.188923\n",
      "std           4.828777\n",
      "min          34.344750\n",
      "25%          39.222125\n",
      "50%          42.964500\n",
      "75%          46.948625\n",
      "max          53.103500\n"
     ]
    }
   ],
   "source": [
    "# Overview of data\n",
    "print(\"Mt Albert Rain statistics :\")\n",
    "print(rain.describe())\n",
    "print(st.describe())\n",
    "print(sm.describe())\n"
   ]
  },
  {
   "cell_type": "markdown",
   "metadata": {},
   "source": [
    "Data Cleaning\n"
   ]
  },
  {
   "cell_type": "code",
   "execution_count": 178,
   "metadata": {},
   "outputs": [
    {
     "name": "stdout",
     "output_type": "stream",
     "text": [
      "Missing Value in Rainfall Data\n"
     ]
    },
    {
     "data": {
      "text/plain": [
       "Rain(mm)    0\n",
       "dtype: int64"
      ]
     },
     "execution_count": 178,
     "metadata": {},
     "output_type": "execute_result"
    }
   ],
   "source": [
    "# Display missing value\n",
    "print(\"Missing Value in Rainfall Data\")\n",
    "rain.isna().sum()\n",
    "# print(rain[rain['Rain(mm)'].isnull()])\n"
   ]
  },
  {
   "cell_type": "code",
   "execution_count": 179,
   "metadata": {},
   "outputs": [
    {
     "name": "stdout",
     "output_type": "stream",
     "text": [
      "Missing Value in Soil Temperature Data\n"
     ]
    },
    {
     "data": {
      "text/plain": [
       "SoilTemp(c)    0\n",
       "dtype: int64"
      ]
     },
     "execution_count": 179,
     "metadata": {},
     "output_type": "execute_result"
    }
   ],
   "source": [
    "# Display missing value\n",
    "\n",
    "print(\"Missing Value in Soil Temperature Data\")\n",
    "st.isna().sum()\n",
    "# print(st[st['SoilTemp(c)'].isnull()])\n"
   ]
  },
  {
   "cell_type": "code",
   "execution_count": 180,
   "metadata": {},
   "outputs": [
    {
     "name": "stdout",
     "output_type": "stream",
     "text": [
      "'Missing Value in Soil Moisture Data\n"
     ]
    },
    {
     "data": {
      "text/plain": [
       "SoilMoisture(%)    0\n",
       "dtype: int64"
      ]
     },
     "execution_count": 180,
     "metadata": {},
     "output_type": "execute_result"
    }
   ],
   "source": [
    "# Display missing value\n",
    "print(\"'Missing Value in Soil Moisture Data\")\n",
    "sm.isna().sum()\n",
    "# print(sm[sm['SoilMoisture(%)'].isnull()])"
   ]
  },
  {
   "cell_type": "code",
   "execution_count": null,
   "metadata": {},
   "outputs": [],
   "source": []
  },
  {
   "cell_type": "markdown",
   "metadata": {},
   "source": [
    "# Step 2: Handle Missing Values"
   ]
  },
  {
   "cell_type": "code",
   "execution_count": 181,
   "metadata": {},
   "outputs": [],
   "source": [
    "sm = sm.interpolate(method=\"linear\", limit_direction='both', axis=0)"
   ]
  },
  {
   "cell_type": "code",
   "execution_count": 182,
   "metadata": {},
   "outputs": [],
   "source": [
    "\n",
    "st.interpolate(method='linear', inplace=True)\n",
    "\n",
    "# soil moisture and soil temperature using linear to fill data\n",
    "rain.fillna(0, inplace=True)\n"
   ]
  },
  {
   "cell_type": "code",
   "execution_count": 183,
   "metadata": {},
   "outputs": [],
   "source": [
    "# double check missing value\n",
    "\n",
    "# sm.isna().sum()\n",
    "# st.isna().sum()\n",
    "# rain.isna().sum()\n"
   ]
  },
  {
   "cell_type": "markdown",
   "metadata": {},
   "source": [
    "# Step 3: Resample Data to 15 minutes interval"
   ]
  },
  {
   "cell_type": "code",
   "execution_count": 184,
   "metadata": {},
   "outputs": [
    {
     "data": {
      "text/plain": [
       "<Axes: xlabel='Timestamp (UTC+12:00)'>"
      ]
     },
     "execution_count": 184,
     "metadata": {},
     "output_type": "execute_result"
    },
    {
     "data": {
      "image/png": "[encoded data removed]",
      "text/plain": [
       "<Figure size 640x480 with 1 Axes>"
      ]
     },
     "metadata": {},
     "output_type": "display_data"
    }
   ],
   "source": [
    "sm.plot()"
   ]
  },
  {
   "cell_type": "code",
   "execution_count": 185,
   "metadata": {},
   "outputs": [
    {
     "name": "stdout",
     "output_type": "stream",
     "text": [
      "                       SoilMoisture(%)\n",
      "Timestamp (UTC+12:00)                 \n",
      "2022-07-05 21:00:00          52.862875\n",
      "2022-07-06 05:00:00          52.918125\n",
      "2022-07-06 06:00:00          52.978250\n",
      "2022-07-06 07:00:00          52.990500\n",
      "2022-07-06 08:00:00          52.939500\n",
      "2022-07-06 09:00:00          52.949125\n",
      "2022-07-06 10:00:00          52.883125\n",
      "2022-07-06 11:00:00          52.953625\n",
      "2022-07-06 12:00:00          52.961375\n",
      "2022-07-06 13:00:00          52.959000\n",
      "2022-07-06 14:00:00          53.103500\n",
      "2022-07-06 15:00:00          53.035375\n",
      "2022-07-06 16:00:00          52.993875\n",
      "2022-07-06 17:00:00          52.936875\n",
      "2022-07-06 18:00:00          52.885875\n"
     ]
    }
   ],
   "source": [
    "mean_moisture = sm['SoilMoisture(%)'].mean()\n",
    "std_moisture = sm['SoilMoisture(%)'].std()\n",
    "\n",
    "# Define thresholds for outliers\n",
    "lower_threshold = mean_moisture - 2 * std_moisture\n",
    "upper_threshold = mean_moisture + 2 * std_moisture\n",
    "\n",
    "# Find rows with unusual values\n",
    "troubling_rows = sm[(sm['SoilMoisture(%)'] < lower_threshold) | (sm['SoilMoisture(%)'] > upper_threshold)]\n",
    "\n",
    "# Display the troubling rows\n",
    "print(troubling_rows)"
   ]
  },
  {
   "cell_type": "code",
   "execution_count": 186,
   "metadata": {},
   "outputs": [
    {
     "name": "stdout",
     "output_type": "stream",
     "text": [
      "                       SoilTemp(c)\n",
      "Timestamp (UTC+12:00)             \n",
      "2021-07-04 10:00:00         9.8250\n",
      "2021-07-04 11:00:00         9.8750\n",
      "2021-07-05 05:00:00         9.8750\n",
      "2021-07-05 06:00:00         9.7875\n",
      "2021-07-05 07:00:00         9.7000\n",
      "...                            ...\n",
      "2024-01-31 21:00:00        24.4000\n",
      "2024-02-01 17:00:00        24.4750\n",
      "2024-02-01 18:00:00        24.5250\n",
      "2024-02-01 19:00:00        24.4625\n",
      "2024-02-01 20:00:00        24.3875\n",
      "\n",
      "[214 rows x 1 columns]\n"
     ]
    }
   ],
   "source": [
    "mean_soiltemp = st['SoilTemp(c)'].mean()\n",
    "std_soiltemp = st['SoilTemp(c)'].std()\n",
    "\n",
    "# Define thresholds for outliers\n",
    "lower_threshold = mean_soiltemp - 2 * std_soiltemp\n",
    "upper_threshold = mean_soiltemp + 2 * std_soiltemp\n",
    "\n",
    "# Find rows with unusual values\n",
    "troubling_rows = st[(st['SoilTemp(c)'] < lower_threshold) | \n",
    "                          (st['SoilTemp(c)'] > upper_threshold)]\n",
    "\n",
    "# Display the troubling rows\n",
    "print(troubling_rows)"
   ]
  },
  {
   "cell_type": "code",
   "execution_count": 187,
   "metadata": {},
   "outputs": [
    {
     "data": {
      "text/plain": [
       "<Axes: xlabel='Timestamp (UTC+12:00)'>"
      ]
     },
     "execution_count": 187,
     "metadata": {},
     "output_type": "execute_result"
    },
    {
     "data": {
      "image/png": "[encoded data removed]",
      "text/plain": [
       "<Figure size 640x480 with 1 Axes>"
      ]
     },
     "metadata": {},
     "output_type": "display_data"
    }
   ],
   "source": [
    "st.plot()"
   ]
  },
  {
   "cell_type": "code",
   "execution_count": 188,
   "metadata": {},
   "outputs": [
    {
     "name": "stdout",
     "output_type": "stream",
     "text": [
      "                       Rain(mm)\n",
      "Timestamp (UTC+12:00)          \n",
      "2019-05-27 12:00:00    2.410000\n",
      "2019-05-28 13:00:00    1.930000\n",
      "2019-05-31 05:00:00    1.950000\n",
      "2019-05-31 06:00:00    2.656030\n",
      "2019-05-31 08:00:00    5.479430\n",
      "...                         ...\n",
      "2024-10-05 13:00:00    8.669037\n",
      "2024-10-06 20:00:00    3.000000\n",
      "2024-10-09 00:00:00    2.000000\n",
      "2024-10-09 08:00:00    2.000000\n",
      "2024-10-13 19:00:00    3.500000\n",
      "\n",
      "[1069 rows x 1 columns]\n"
     ]
    }
   ],
   "source": [
    "mean_rain = rain['Rain(mm)'].mean()\n",
    "std_rain = rain['Rain(mm)'].std()\n",
    "\n",
    "# Define thresholds for outliers\n",
    "lower_threshold = mean_rain - 2 * std_rain\n",
    "upper_threshold = mean_rain + 2 * std_rain\n",
    "\n",
    "# Find rows with unusual values\n",
    "troubling_rows = rain[(rain['Rain(mm)'] < lower_threshold) | (rain['Rain(mm)'] > upper_threshold)]\n",
    "\n",
    "# Display the troubling rows\n",
    "print(troubling_rows)"
   ]
  },
  {
   "cell_type": "code",
   "execution_count": 189,
   "metadata": {},
   "outputs": [
    {
     "data": {
      "text/plain": [
       "Rain(mm)    43.161026\n",
       "dtype: float64"
      ]
     },
     "execution_count": 189,
     "metadata": {},
     "output_type": "execute_result"
    }
   ],
   "source": [
    "rain.max()"
   ]
  },
  {
   "cell_type": "code",
   "execution_count": 190,
   "metadata": {},
   "outputs": [
    {
     "data": {
      "text/plain": [
       "<Axes: xlabel='Timestamp (UTC+12:00)'>"
      ]
     },
     "execution_count": 190,
     "metadata": {},
     "output_type": "execute_result"
    },
    {
     "data": {
      "image/png": "[encoded data removed]",
      "text/plain": [
       "<Figure size 640x480 with 1 Axes>"
      ]
     },
     "metadata": {},
     "output_type": "display_data"
    }
   ],
   "source": [
    "rain.plot()"
   ]
  },
  {
   "cell_type": "code",
   "execution_count": 191,
   "metadata": {},
   "outputs": [
    {
     "name": "stdout",
     "output_type": "stream",
     "text": [
      "2018-07-07 12:00:00 2024-10-28 07:00:00\n",
      "2019-05-26 00:00:00 2024-10-19 23:00:00\n",
      "2019-05-26 00:00:00 2024-10-19 23:00:00\n"
     ]
    }
   ],
   "source": [
    "# Check for mismatched timestamps before resampling\n",
    "print(sm.index.min(), sm.index.max())\n",
    "print(st.index.min(), st.index.max())\n",
    "print(rain.index.min(), rain.index.max())"
   ]
  },
  {
   "cell_type": "markdown",
   "metadata": {},
   "source": [
    "### Data overtime"
   ]
  },
  {
   "cell_type": "markdown",
   "metadata": {},
   "source": [
    "# Step 4: Combine Data"
   ]
  },
  {
   "cell_type": "code",
   "execution_count": 192,
   "metadata": {},
   "outputs": [],
   "source": [
    "# Determine the latest common start date\n",
    "latest_start_date = max(rain.index.min(), sm.index.min(), st.index.min())\n",
    "end_date = min(rain.index.max(), sm.index.max(), st.index.max())\n"
   ]
  },
  {
   "cell_type": "code",
   "execution_count": 193,
   "metadata": {},
   "outputs": [],
   "source": [
    "# Filter datasets to the common time range\n",
    "rainfall_hourly = rain[latest_start_date:end_date]\n",
    "soil_temp_hourly = st[latest_start_date:end_date]\n",
    "soil_moisture_hourly = sm[latest_start_date:end_date]\n"
   ]
  },
  {
   "cell_type": "code",
   "execution_count": 194,
   "metadata": {},
   "outputs": [],
   "source": [
    "# Merge datasets on the timestamp\n",
    "mtalbert_hourly = rainfall_hourly.join(soil_temp_hourly, how='inner', rsuffix='_rain')\n",
    "mtalbert_hourly = mtalbert_hourly.join(soil_moisture_hourly, how='inner', rsuffix='_soil_temp')\n",
    "mtalbert_hourly.dropna(inplace=True)  # Drop any rows with missing values after merging\n"
   ]
  },
  {
   "cell_type": "code",
   "execution_count": 195,
   "metadata": {},
   "outputs": [
    {
     "data": {
      "text/html": [
       "<div>\n",
       "<style scoped>\n",
       "    .dataframe tbody tr th:only-of-type {\n",
       "        vertical-align: middle;\n",
       "    }\n",
       "\n",
       "    .dataframe tbody tr th {\n",
       "        vertical-align: top;\n",
       "    }\n",
       "\n",
       "    .dataframe thead th {\n",
       "        text-align: right;\n",
       "    }\n",
       "</style>\n",
       "<table border=\"1\" class=\"dataframe\">\n",
       "  <thead>\n",
       "    <tr style=\"text-align: right;\">\n",
       "      <th></th>\n",
       "      <th>Rain(mm)</th>\n",
       "      <th>SoilTemp(c)</th>\n",
       "      <th>SoilMoisture(%)</th>\n",
       "    </tr>\n",
       "    <tr>\n",
       "      <th>Timestamp (UTC+12:00)</th>\n",
       "      <th></th>\n",
       "      <th></th>\n",
       "      <th></th>\n",
       "    </tr>\n",
       "  </thead>\n",
       "  <tbody>\n",
       "    <tr>\n",
       "      <th>2019-05-26 00:00:00</th>\n",
       "      <td>0.0</td>\n",
       "      <td>14.869875</td>\n",
       "      <td>41.620973</td>\n",
       "    </tr>\n",
       "    <tr>\n",
       "      <th>2019-05-26 01:00:00</th>\n",
       "      <td>0.0</td>\n",
       "      <td>14.751500</td>\n",
       "      <td>41.620873</td>\n",
       "    </tr>\n",
       "    <tr>\n",
       "      <th>2019-05-26 02:00:00</th>\n",
       "      <td>0.0</td>\n",
       "      <td>14.694500</td>\n",
       "      <td>41.620774</td>\n",
       "    </tr>\n",
       "    <tr>\n",
       "      <th>2019-05-26 03:00:00</th>\n",
       "      <td>0.0</td>\n",
       "      <td>14.648250</td>\n",
       "      <td>41.620674</td>\n",
       "    </tr>\n",
       "    <tr>\n",
       "      <th>2019-05-26 04:00:00</th>\n",
       "      <td>0.0</td>\n",
       "      <td>14.494625</td>\n",
       "      <td>41.620574</td>\n",
       "    </tr>\n",
       "  </tbody>\n",
       "</table>\n",
       "</div>"
      ],
      "text/plain": [
       "                       Rain(mm)  SoilTemp(c)  SoilMoisture(%)\n",
       "Timestamp (UTC+12:00)                                        \n",
       "2019-05-26 00:00:00         0.0    14.869875        41.620973\n",
       "2019-05-26 01:00:00         0.0    14.751500        41.620873\n",
       "2019-05-26 02:00:00         0.0    14.694500        41.620774\n",
       "2019-05-26 03:00:00         0.0    14.648250        41.620674\n",
       "2019-05-26 04:00:00         0.0    14.494625        41.620574"
      ]
     },
     "execution_count": 195,
     "metadata": {},
     "output_type": "execute_result"
    }
   ],
   "source": [
    "mtalbert_hourly.head()"
   ]
  },
  {
   "cell_type": "code",
   "execution_count": 196,
   "metadata": {},
   "outputs": [
    {
     "name": "stdout",
     "output_type": "stream",
     "text": [
      "Combined data (1 hour intervals) saved successfully.\n"
     ]
    }
   ],
   "source": [
    "# Save the combined data to a new CSV file\n",
    "mtalbert_hourly.to_csv('../AcrossStationData/MtAlbert_Data_Hourly.csv')\n",
    "print(\"Combined data (1 hour intervals) saved successfully.\")"
   ]
  },
  {
   "cell_type": "code",
   "execution_count": 197,
   "metadata": {},
   "outputs": [],
   "source": [
    "# mtalbert = pd.read_csv('../Data/soil data/mtalbert-648717-20241008172730/MtAlbert_Data_15mins.csv', parse_dates=['Timestamp (UTC+12:00)'])\n",
    "# mtalbert.head()"
   ]
  },
  {
   "cell_type": "code",
   "execution_count": 198,
   "metadata": {},
   "outputs": [],
   "source": [
    "# mtalbert['Location'] = 'Central Auckland'\n",
    "# mtalbert['Land position'] = 'Flat ridge'\n",
    "# mtalbert['Slope(degree)'] = '0-3'\n",
    "# mtalbert['Soil Order'] = 'Ultic'\n",
    "# mtalbert['Soil Types / Series'] = 'Whareora sandy clay loam'\n",
    "# mtalbert['NZ Soil Classification'] = 'Mottled Yellow Ultic'\n",
    "# mtalbert['Soil Profile Description'] = '0-10cm dark grey sandy clay loam, structure crumbly when wet, likely to be granular when dry; 10-15cm dark grey sandy clay loam, mixing with yellow brown sandy clay; 15-40 yellow brown sandy clay with grey mottles, structure massive with sticky consistence when wet, likely to be nutty of blocky when dry'\n",
    "# mtalbert['Pastoral land use'] = 'Mixed dairy and drystock'\n",
    "# mtalbert.head()\n",
    "# mtalbert.to_csv('../Data/soil data/mtalbert_soil_data.csv')"
   ]
  },
  {
   "cell_type": "markdown",
   "metadata": {},
   "source": [
    "Data Transformation\n"
   ]
  },
  {
   "cell_type": "code",
   "execution_count": null,
   "metadata": {},
   "outputs": [],
   "source": []
  },
  {
   "cell_type": "markdown",
   "metadata": {},
   "source": [
    "Feature Engineering: Scaling, Normalization and Standardization\n"
   ]
  },
  {
   "cell_type": "code",
   "execution_count": null,
   "metadata": {},
   "outputs": [],
   "source": []
  },
  {
   "cell_type": "markdown",
   "metadata": {},
   "source": [
    "Feature Selection\n"
   ]
  },
  {
   "cell_type": "code",
   "execution_count": null,
   "metadata": {},
   "outputs": [],
   "source": []
  },
  {
   "cell_type": "markdown",
   "metadata": {},
   "source": [
    "Handling Imbalanced Data\n"
   ]
  },
  {
   "cell_type": "code",
   "execution_count": null,
   "metadata": {},
   "outputs": [],
   "source": []
  },
  {
   "cell_type": "markdown",
   "metadata": {},
   "source": [
    "Encoding Categorical Features\n"
   ]
  },
  {
   "cell_type": "code",
   "execution_count": null,
   "metadata": {},
   "outputs": [],
   "source": []
  },
  {
   "cell_type": "markdown",
   "metadata": {},
   "source": [
    "Data Splitting"
   ]
  },
  {
   "cell_type": "code",
   "execution_count": null,
   "metadata": {},
   "outputs": [],
   "source": []
  }
 ],
 "metadata": {
  "kernelspec": {
   "display_name": "level8",
   "language": "python",
   "name": "python3"
  },
  "language_info": {
   "codemirror_mode": {
    "name": "ipython",
    "version": 3
   },
   "file_extension": ".py",
   "mimetype": "text/x-python",
   "name": "python",
   "nbconvert_exporter": "python",
   "pygments_lexer": "ipython3",
   "version": "3.10.14"
  }
 },
 "nbformat": 4,
 "nbformat_minor": 2
}
