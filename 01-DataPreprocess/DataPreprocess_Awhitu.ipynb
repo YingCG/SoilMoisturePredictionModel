{
 "cells": [
  {
   "cell_type": "markdown",
   "metadata": {},
   "source": [
    "# Step 1: Data Collection"
   ]
  },
  {
   "cell_type": "code",
   "execution_count": 1,
   "metadata": {},
   "outputs": [],
   "source": [
    "# import library\n",
    "import numpy as np\n",
    "import pandas as pd\n",
    "import matplotlib.pyplot as plt\n",
    "import seaborn as sns\n",
    "%matplotlib inline\n",
    "\n"
   ]
  },
  {
   "cell_type": "code",
   "execution_count": 2,
   "metadata": {},
   "outputs": [
    {
     "name": "stdout",
     "output_type": "stream",
     "text": [
      "                       Rain(mm)\n",
      "Timestamp (UTC+12:00)          \n",
      "1990-01-04 07:00:00         0.0\n",
      "1990-01-05 07:00:00        11.0\n",
      "1990-01-06 07:00:00         0.0\n",
      "1990-01-07 07:00:00         2.0\n",
      "1990-01-08 07:00:00         0.0\n",
      "2024-10-29 18:45:00         0.0\n",
      "2024-10-29 19:00:00         0.0\n",
      "2024-10-29 19:15:00         0.0\n",
      "2024-10-29 19:21:00         0.5\n",
      "2024-10-29 19:30:00         0.0\n"
     ]
    }
   ],
   "source": [
    "# Rainfall data in Awhitu\n",
    "rain = pd.read_csv('../Data/soil data/Awhitu-741611-20240910095744/AwhituRainfallContinuous741611-Maximum-mm-20240910095744.csv',index_col='Timestamp (UTC+12:00)', parse_dates=['Timestamp (UTC+12:00)'])\n",
    "rain.head(5)\n",
    "\n",
    "# smheadtail = (np.r_[0:5, -5:0])\n",
    "rainheadtail = rain.iloc[np.r_[0:5, -5:0]]\n",
    "print(rainheadtail)"
   ]
  },
  {
   "cell_type": "code",
   "execution_count": 3,
   "metadata": {},
   "outputs": [
    {
     "name": "stdout",
     "output_type": "stream",
     "text": [
      "                       SoilTemp(c)\n",
      "Timestamp (UTC+12:00)             \n",
      "2014-03-12 07:00:00         21.900\n",
      "2014-03-12 07:15:00         21.900\n",
      "2014-03-12 07:30:00         21.900\n",
      "2014-03-12 07:45:00         21.800\n",
      "2014-03-12 08:00:00         22.000\n",
      "2024-10-29 18:30:00         15.911\n",
      "2024-10-29 18:45:00         15.908\n",
      "2024-10-29 19:00:00         15.908\n",
      "2024-10-29 19:15:00         15.908\n",
      "2024-10-29 19:30:00         15.905\n"
     ]
    }
   ],
   "source": [
    "# Soil Temperature data in Awhitu\n",
    "st = pd.read_csv('../Data/soil data/Awhitu-741611-20240910095744/AwhituSoilTemp741611-20240910100419.csv', index_col='Timestamp (UTC+12:00)', parse_dates=['Timestamp (UTC+12:00)'])\n",
    "st.head(5)\n",
    "\n",
    "# smheadtail = (np.r_[0:5, -5:0])\n",
    "stheadtail = st.iloc[np.r_[0:5, -5:0]]\n",
    "print(stheadtail)"
   ]
  },
  {
   "cell_type": "code",
   "execution_count": null,
   "metadata": {},
   "outputs": [],
   "source": []
  },
  {
   "cell_type": "code",
   "execution_count": 4,
   "metadata": {},
   "outputs": [
    {
     "name": "stdout",
     "output_type": "stream",
     "text": [
      "                       SoilMoisture(%)\n",
      "Timestamp (UTC+12:00)                 \n",
      "2014-05-27 17:45:00             43.589\n",
      "2014-05-27 18:00:00             43.587\n",
      "2014-05-27 18:15:00             43.586\n",
      "2014-05-27 18:30:00             43.561\n",
      "2014-05-27 18:45:00             43.561\n",
      "2024-10-29 18:30:00             46.147\n",
      "2024-10-29 18:45:00             46.057\n",
      "2024-10-29 19:00:00             46.168\n",
      "2024-10-29 19:15:00             46.236\n",
      "2024-10-29 19:30:00             46.236\n"
     ]
    }
   ],
   "source": [
    "# Soil Moisture data in Awhitu\n",
    "sm = pd.read_csv('../Data/soil data/Awhitu-741611-20240910095744/AwhituSoilMoisture741611-20240910100041.csv',index_col='Timestamp (UTC+12:00)', parse_dates=['Timestamp (UTC+12:00)'])\n",
    "sm.head(5)\n",
    "\n",
    "# smheadtail = (np.r_[0:5, -5:0])\n",
    "smheadtail = sm.iloc[np.r_[0:5, -5:0]]\n",
    "print(smheadtail)"
   ]
  },
  {
   "cell_type": "markdown",
   "metadata": {},
   "source": [
    "Data Description"
   ]
  },
  {
   "cell_type": "code",
   "execution_count": 5,
   "metadata": {},
   "outputs": [
    {
     "name": "stdout",
     "output_type": "stream",
     "text": [
      "Awhitu Rainfall Data Info:\n",
      "<class 'pandas.core.frame.DataFrame'>\n",
      "DatetimeIndex: 218578 entries, 1990-01-04 07:00:00 to 2024-10-29 19:30:00\n",
      "Data columns (total 1 columns):\n",
      " #   Column    Non-Null Count   Dtype  \n",
      "---  ------    --------------   -----  \n",
      " 0   Rain(mm)  218566 non-null  float64\n",
      "dtypes: float64(1)\n",
      "memory usage: 3.3 MB\n",
      "\n",
      " Awhitu Soil Moisture Data Info:\n",
      "<class 'pandas.core.frame.DataFrame'>\n",
      "DatetimeIndex: 279282 entries, 2014-05-27 17:45:00 to 2024-10-29 19:30:00\n",
      "Data columns (total 1 columns):\n",
      " #   Column           Non-Null Count   Dtype  \n",
      "---  ------           --------------   -----  \n",
      " 0   SoilMoisture(%)  278270 non-null  float64\n",
      "dtypes: float64(1)\n",
      "memory usage: 4.3 MB\n",
      "\n",
      " Awhitu Soil Temperature Data Info:\n",
      "<class 'pandas.core.frame.DataFrame'>\n",
      "DatetimeIndex: 363611 entries, 2014-03-12 07:00:00 to 2024-10-29 19:30:00\n",
      "Data columns (total 1 columns):\n",
      " #   Column       Non-Null Count   Dtype  \n",
      "---  ------       --------------   -----  \n",
      " 0   SoilTemp(c)  362509 non-null  float64\n",
      "dtypes: float64(1)\n",
      "memory usage: 5.5 MB\n"
     ]
    }
   ],
   "source": [
    "# Display info to check datatype\n",
    "print(\"Awhitu Rainfall Data Info:\")\n",
    "rain.info()\n",
    "print(\"\\n Awhitu Soil Moisture Data Info:\")\n",
    "sm.info()\n",
    "print(\"\\n Awhitu Soil Temperature Data Info:\")\n",
    "st.info()"
   ]
  },
  {
   "cell_type": "code",
   "execution_count": 6,
   "metadata": {},
   "outputs": [
    {
     "name": "stdout",
     "output_type": "stream",
     "text": [
      "Awhitu Rainfall Data statistics :\n"
     ]
    },
    {
     "data": {
      "text/html": [
       "<div>\n",
       "<style scoped>\n",
       "    .dataframe tbody tr th:only-of-type {\n",
       "        vertical-align: middle;\n",
       "    }\n",
       "\n",
       "    .dataframe tbody tr th {\n",
       "        vertical-align: top;\n",
       "    }\n",
       "\n",
       "    .dataframe thead th {\n",
       "        text-align: right;\n",
       "    }\n",
       "</style>\n",
       "<table border=\"1\" class=\"dataframe\">\n",
       "  <thead>\n",
       "    <tr style=\"text-align: right;\">\n",
       "      <th></th>\n",
       "      <th>Rain(mm)</th>\n",
       "    </tr>\n",
       "  </thead>\n",
       "  <tbody>\n",
       "    <tr>\n",
       "      <th>count</th>\n",
       "      <td>218566.000000</td>\n",
       "    </tr>\n",
       "    <tr>\n",
       "      <th>mean</th>\n",
       "      <td>0.310856</td>\n",
       "    </tr>\n",
       "    <tr>\n",
       "      <th>std</th>\n",
       "      <td>1.565508</td>\n",
       "    </tr>\n",
       "    <tr>\n",
       "      <th>min</th>\n",
       "      <td>0.000000</td>\n",
       "    </tr>\n",
       "    <tr>\n",
       "      <th>25%</th>\n",
       "      <td>0.000000</td>\n",
       "    </tr>\n",
       "    <tr>\n",
       "      <th>50%</th>\n",
       "      <td>0.000000</td>\n",
       "    </tr>\n",
       "    <tr>\n",
       "      <th>75%</th>\n",
       "      <td>0.490000</td>\n",
       "    </tr>\n",
       "    <tr>\n",
       "      <th>max</th>\n",
       "      <td>108.000000</td>\n",
       "    </tr>\n",
       "  </tbody>\n",
       "</table>\n",
       "</div>"
      ],
      "text/plain": [
       "            Rain(mm)\n",
       "count  218566.000000\n",
       "mean        0.310856\n",
       "std         1.565508\n",
       "min         0.000000\n",
       "25%         0.000000\n",
       "50%         0.000000\n",
       "75%         0.490000\n",
       "max       108.000000"
      ]
     },
     "execution_count": 6,
     "metadata": {},
     "output_type": "execute_result"
    }
   ],
   "source": [
    "# Overview of data\n",
    "print(\"Awhitu Rainfall Data statistics :\")\n",
    "rain.describe()\n"
   ]
  },
  {
   "cell_type": "code",
   "execution_count": 7,
   "metadata": {},
   "outputs": [
    {
     "data": {
      "text/plain": [
       "<Axes: xlabel='Timestamp (UTC+12:00)'>"
      ]
     },
     "execution_count": 7,
     "metadata": {},
     "output_type": "execute_result"
    },
    {
     "data": {
      "image/png": "[encoded data removed]",
      "text/plain": [
       "<Figure size 640x480 with 1 Axes>"
      ]
     },
     "metadata": {},
     "output_type": "display_data"
    }
   ],
   "source": [
    "rain.plot()"
   ]
  },
  {
   "cell_type": "code",
   "execution_count": 8,
   "metadata": {},
   "outputs": [
    {
     "name": "stdout",
     "output_type": "stream",
     "text": [
      "                       Rain(mm)\n",
      "Timestamp (UTC+12:00)          \n",
      "1990-01-05 07:00:00       11.00\n",
      "1990-01-16 07:00:00       19.00\n",
      "1990-01-17 07:00:00       18.00\n",
      "1990-01-30 07:00:00        6.50\n",
      "1990-02-25 07:00:00        8.50\n",
      "...                         ...\n",
      "2023-04-22 12:00:00        4.52\n",
      "2023-04-30 18:00:00        4.51\n",
      "2023-05-01 00:00:00        4.17\n",
      "2023-05-01 06:00:00       10.22\n",
      "2023-05-01 12:00:00        6.52\n",
      "\n",
      "[4432 rows x 1 columns]\n"
     ]
    }
   ],
   "source": [
    "mean_rain = rain['Rain(mm)'].mean()\n",
    "std_rain = rain['Rain(mm)'].std()\n",
    "\n",
    "# Define thresholds for outliers\n",
    "lower_threshold = mean_rain - 2 * std_rain\n",
    "upper_threshold = mean_rain + 2 * std_rain\n",
    "\n",
    "# Find rows with unusual values\n",
    "troubling_rows = rain[(rain['Rain(mm)'] < lower_threshold) | (rain['Rain(mm)'] > upper_threshold)]\n",
    "\n",
    "# Display the troubling rows\n",
    "print(troubling_rows)"
   ]
  },
  {
   "cell_type": "code",
   "execution_count": 9,
   "metadata": {},
   "outputs": [
    {
     "name": "stdout",
     "output_type": "stream",
     "text": [
      "\n",
      "Awhitu Soil Moisture Data statistics :\n"
     ]
    },
    {
     "data": {
      "text/html": [
       "<div>\n",
       "<style scoped>\n",
       "    .dataframe tbody tr th:only-of-type {\n",
       "        vertical-align: middle;\n",
       "    }\n",
       "\n",
       "    .dataframe tbody tr th {\n",
       "        vertical-align: top;\n",
       "    }\n",
       "\n",
       "    .dataframe thead th {\n",
       "        text-align: right;\n",
       "    }\n",
       "</style>\n",
       "<table border=\"1\" class=\"dataframe\">\n",
       "  <thead>\n",
       "    <tr style=\"text-align: right;\">\n",
       "      <th></th>\n",
       "      <th>SoilMoisture(%)</th>\n",
       "    </tr>\n",
       "  </thead>\n",
       "  <tbody>\n",
       "    <tr>\n",
       "      <th>count</th>\n",
       "      <td>278270.000000</td>\n",
       "    </tr>\n",
       "    <tr>\n",
       "      <th>mean</th>\n",
       "      <td>44.748779</td>\n",
       "    </tr>\n",
       "    <tr>\n",
       "      <th>std</th>\n",
       "      <td>4.281101</td>\n",
       "    </tr>\n",
       "    <tr>\n",
       "      <th>min</th>\n",
       "      <td>0.000000</td>\n",
       "    </tr>\n",
       "    <tr>\n",
       "      <th>25%</th>\n",
       "      <td>42.481000</td>\n",
       "    </tr>\n",
       "    <tr>\n",
       "      <th>50%</th>\n",
       "      <td>45.836000</td>\n",
       "    </tr>\n",
       "    <tr>\n",
       "      <th>75%</th>\n",
       "      <td>47.192000</td>\n",
       "    </tr>\n",
       "    <tr>\n",
       "      <th>max</th>\n",
       "      <td>53.619000</td>\n",
       "    </tr>\n",
       "  </tbody>\n",
       "</table>\n",
       "</div>"
      ],
      "text/plain": [
       "       SoilMoisture(%)\n",
       "count    278270.000000\n",
       "mean         44.748779\n",
       "std           4.281101\n",
       "min           0.000000\n",
       "25%          42.481000\n",
       "50%          45.836000\n",
       "75%          47.192000\n",
       "max          53.619000"
      ]
     },
     "execution_count": 9,
     "metadata": {},
     "output_type": "execute_result"
    }
   ],
   "source": [
    "print(\"\\nAwhitu Soil Moisture Data statistics :\")\n",
    "sm.describe()\n"
   ]
  },
  {
   "cell_type": "code",
   "execution_count": 10,
   "metadata": {},
   "outputs": [
    {
     "data": {
      "text/plain": [
       "<Axes: xlabel='Timestamp (UTC+12:00)'>"
      ]
     },
     "execution_count": 10,
     "metadata": {},
     "output_type": "execute_result"
    },
    {
     "data": {
      "image/png": "[encoded data removed]",
      "text/plain": [
       "<Figure size 640x480 with 1 Axes>"
      ]
     },
     "metadata": {},
     "output_type": "display_data"
    }
   ],
   "source": [
    "sm.plot()"
   ]
  },
  {
   "cell_type": "code",
   "execution_count": 11,
   "metadata": {},
   "outputs": [
    {
     "name": "stdout",
     "output_type": "stream",
     "text": [
      "                       SoilMoisture(%)\n",
      "Timestamp (UTC+12:00)                 \n",
      "2014-06-11 02:00:00             53.455\n",
      "2014-06-11 02:15:00             53.569\n",
      "2014-06-11 02:30:00             53.501\n",
      "2014-06-11 02:45:00             53.500\n",
      "2014-06-11 03:00:00             53.501\n",
      "...                                ...\n",
      "2023-05-11 05:07:00              0.000\n",
      "2023-07-18 07:07:00              0.000\n",
      "2023-07-19 06:52:00              0.000\n",
      "2024-01-08 11:07:00              0.000\n",
      "2024-07-25 11:45:00              0.000\n",
      "\n",
      "[2461 rows x 1 columns]\n"
     ]
    }
   ],
   "source": [
    "mean_sm = sm['SoilMoisture(%)'].mean()\n",
    "std_sm = sm['SoilMoisture(%)'].std()\n",
    "\n",
    "# Define thresholds for outliers\n",
    "lower_threshold = mean_sm - 2 * std_sm\n",
    "upper_threshold = mean_sm + 2 * std_sm\n",
    "\n",
    "# Find rows with unusual values\n",
    "troubling_rows = sm[(sm['SoilMoisture(%)'] < lower_threshold) | (sm['SoilMoisture(%)'] > upper_threshold)]\n",
    "\n",
    "# Display the troubling rows\n",
    "print(troubling_rows)"
   ]
  },
  {
   "cell_type": "code",
   "execution_count": 12,
   "metadata": {},
   "outputs": [
    {
     "name": "stdout",
     "output_type": "stream",
     "text": [
      "\n",
      "Awhitu Soil Temperature Data statistics :\n"
     ]
    },
    {
     "data": {
      "text/html": [
       "<div>\n",
       "<style scoped>\n",
       "    .dataframe tbody tr th:only-of-type {\n",
       "        vertical-align: middle;\n",
       "    }\n",
       "\n",
       "    .dataframe tbody tr th {\n",
       "        vertical-align: top;\n",
       "    }\n",
       "\n",
       "    .dataframe thead th {\n",
       "        text-align: right;\n",
       "    }\n",
       "</style>\n",
       "<table border=\"1\" class=\"dataframe\">\n",
       "  <thead>\n",
       "    <tr style=\"text-align: right;\">\n",
       "      <th></th>\n",
       "      <th>SoilTemp(c)</th>\n",
       "    </tr>\n",
       "  </thead>\n",
       "  <tbody>\n",
       "    <tr>\n",
       "      <th>count</th>\n",
       "      <td>362509.000000</td>\n",
       "    </tr>\n",
       "    <tr>\n",
       "      <th>mean</th>\n",
       "      <td>22.749571</td>\n",
       "    </tr>\n",
       "    <tr>\n",
       "      <th>std</th>\n",
       "      <td>45.025696</td>\n",
       "    </tr>\n",
       "    <tr>\n",
       "      <th>min</th>\n",
       "      <td>-11.500000</td>\n",
       "    </tr>\n",
       "    <tr>\n",
       "      <th>25%</th>\n",
       "      <td>14.000000</td>\n",
       "    </tr>\n",
       "    <tr>\n",
       "      <th>50%</th>\n",
       "      <td>17.600000</td>\n",
       "    </tr>\n",
       "    <tr>\n",
       "      <th>75%</th>\n",
       "      <td>21.900000</td>\n",
       "    </tr>\n",
       "    <tr>\n",
       "      <th>max</th>\n",
       "      <td>479.000000</td>\n",
       "    </tr>\n",
       "  </tbody>\n",
       "</table>\n",
       "</div>"
      ],
      "text/plain": [
       "         SoilTemp(c)\n",
       "count  362509.000000\n",
       "mean       22.749571\n",
       "std        45.025696\n",
       "min       -11.500000\n",
       "25%        14.000000\n",
       "50%        17.600000\n",
       "75%        21.900000\n",
       "max       479.000000"
      ]
     },
     "execution_count": 12,
     "metadata": {},
     "output_type": "execute_result"
    }
   ],
   "source": [
    "print(\"\\nAwhitu Soil Temperature Data statistics :\")\n",
    "st.describe()"
   ]
  },
  {
   "cell_type": "code",
   "execution_count": 13,
   "metadata": {},
   "outputs": [
    {
     "data": {
      "text/plain": [
       "<Axes: xlabel='Timestamp (UTC+12:00)'>"
      ]
     },
     "execution_count": 13,
     "metadata": {},
     "output_type": "execute_result"
    },
    {
     "data": {
      "image/png": "[encoded data removed]",
      "text/plain": [
       "<Figure size 640x480 with 1 Axes>"
      ]
     },
     "metadata": {},
     "output_type": "display_data"
    }
   ],
   "source": [
    "st.plot()"
   ]
  },
  {
   "cell_type": "code",
   "execution_count": 14,
   "metadata": {},
   "outputs": [
    {
     "name": "stdout",
     "output_type": "stream",
     "text": [
      "                       SoilTemp(c)\n",
      "Timestamp (UTC+12:00)             \n",
      "2023-01-31 12:30:00          440.2\n",
      "2023-01-31 12:45:00          441.1\n",
      "2023-01-31 13:00:00          442.0\n",
      "2023-01-31 13:15:00          442.1\n",
      "2023-01-31 13:30:00          442.5\n",
      "...                            ...\n",
      "2023-03-14 08:45:00          441.6\n",
      "2023-03-14 09:00:00          442.7\n",
      "2023-03-14 09:15:00          441.7\n",
      "2023-03-14 09:30:00          441.1\n",
      "2023-03-14 09:45:00          411.6\n",
      "\n",
      "[4022 rows x 1 columns]\n"
     ]
    }
   ],
   "source": [
    "mean_st = st['SoilTemp(c)'].mean()\n",
    "std_st = st['SoilTemp(c)'].std()\n",
    "\n",
    "# Define thresholds for outliers\n",
    "lower_threshold = mean_st - 2 * std_st\n",
    "upper_threshold = mean_st + 2 * std_st\n",
    "\n",
    "# Find rows with unusual values\n",
    "troubling_rows = st[(st['SoilTemp(c)'] < lower_threshold) | (st['SoilTemp(c)'] > upper_threshold)]\n",
    "\n",
    "# Display the troubling rows\n",
    "print(troubling_rows)"
   ]
  },
  {
   "cell_type": "code",
   "execution_count": 15,
   "metadata": {},
   "outputs": [
    {
     "name": "stdout",
     "output_type": "stream",
     "text": [
      "                       SoilMoisture(%)\n",
      "Timestamp (UTC+12:00)                 \n",
      "2014-05-27 17:45:00             43.589\n",
      "2014-05-27 18:00:00             43.587\n",
      "2014-05-27 18:15:00             43.586\n",
      "2014-05-27 18:30:00             43.561\n",
      "2014-05-27 18:45:00             43.561\n",
      "...                                ...\n",
      "2024-10-29 18:30:00             46.147\n",
      "2024-10-29 18:45:00             46.057\n",
      "2024-10-29 19:00:00             46.168\n",
      "2024-10-29 19:15:00             46.236\n",
      "2024-10-29 19:30:00             46.236\n",
      "\n",
      "[279282 rows x 1 columns]\n"
     ]
    }
   ],
   "source": [
    "# Replace -1 with NaN\n",
    "sm.replace(-1, np.nan, inplace=True)\n",
    "print(sm)"
   ]
  },
  {
   "cell_type": "markdown",
   "metadata": {},
   "source": [
    "Data Cleaning\n"
   ]
  },
  {
   "cell_type": "code",
   "execution_count": 16,
   "metadata": {},
   "outputs": [
    {
     "name": "stdout",
     "output_type": "stream",
     "text": [
      "Missing Value in Soil Moisture Data\n",
      "                       SoilMoisture(%)\n",
      "Timestamp (UTC+12:00)                 \n",
      "2017-08-01 16:00:00                NaN\n",
      "2018-07-07 11:14:00                NaN\n",
      "2018-07-10 10:15:00                NaN\n",
      "2018-07-10 11:14:00                NaN\n",
      "2018-07-11 04:00:00                NaN\n",
      "...                                ...\n",
      "2024-07-25 11:44:00                NaN\n",
      "2024-07-25 11:45:00                NaN\n",
      "2024-07-25 13:29:00                NaN\n",
      "2024-10-03 14:15:00                NaN\n",
      "2024-10-03 14:44:00                NaN\n",
      "\n",
      "[1012 rows x 1 columns]\n"
     ]
    }
   ],
   "source": [
    "# Display missing value\n",
    "print(\"Missing Value in Soil Moisture Data\")\n",
    "sm.isna().sum()\n",
    "print(sm[sm['SoilMoisture(%)'].isnull()])"
   ]
  },
  {
   "cell_type": "code",
   "execution_count": 17,
   "metadata": {},
   "outputs": [
    {
     "name": "stdout",
     "output_type": "stream",
     "text": [
      "Missing Value in Soil Temperature Data\n",
      "                       SoilTemp(c)\n",
      "Timestamp (UTC+12:00)             \n",
      "2014-03-12 11:45:00            NaN\n",
      "2014-05-27 17:29:00            NaN\n",
      "2014-08-30 06:45:00            NaN\n",
      "2014-08-30 11:59:00            NaN\n",
      "2014-10-17 06:00:00            NaN\n",
      "...                            ...\n",
      "2024-05-02 15:59:00            NaN\n",
      "2024-06-15 02:00:00            NaN\n",
      "2024-06-15 08:44:00            NaN\n",
      "2024-07-25 10:00:00            NaN\n",
      "2024-07-25 13:29:00            NaN\n",
      "\n",
      "[1102 rows x 1 columns]\n"
     ]
    }
   ],
   "source": [
    "# Display missing value\n",
    "\n",
    "print(\"Missing Value in Soil Temperature Data\")\n",
    "st.isna().sum()\n",
    "\n",
    "print(st[st['SoilTemp(c)'].isnull()])"
   ]
  },
  {
   "cell_type": "code",
   "execution_count": 18,
   "metadata": {},
   "outputs": [
    {
     "name": "stdout",
     "output_type": "stream",
     "text": [
      "Missing Value in Rainfall Data\n",
      "                       Rain(mm)\n",
      "Timestamp (UTC+12:00)          \n",
      "2018-10-02 08:30:00         NaN\n",
      "2018-10-09 13:14:00         NaN\n",
      "2018-10-18 07:00:00         NaN\n",
      "2018-10-25 23:59:00         NaN\n",
      "2018-12-06 15:15:00         NaN\n",
      "2018-12-14 17:59:00         NaN\n",
      "2018-12-25 18:45:00         NaN\n",
      "2019-01-14 05:59:00         NaN\n",
      "2019-01-28 08:45:00         NaN\n",
      "2019-02-06 22:59:00         NaN\n",
      "2019-02-24 16:15:00         NaN\n",
      "2019-03-07 16:59:00         NaN\n"
     ]
    }
   ],
   "source": [
    "# Display missing value\n",
    "print(\"Missing Value in Rainfall Data\")\n",
    "rain.isna().sum()\n",
    "print(rain[rain['Rain(mm)'].isnull()])"
   ]
  },
  {
   "cell_type": "markdown",
   "metadata": {},
   "source": [
    "# Step 2: Handle Missing Values"
   ]
  },
  {
   "cell_type": "code",
   "execution_count": 19,
   "metadata": {},
   "outputs": [
    {
     "data": {
      "text/plain": [
       "SoilMoisture(%)    2434\n",
       "dtype: int64"
      ]
     },
     "execution_count": 19,
     "metadata": {},
     "output_type": "execute_result"
    }
   ],
   "source": [
    "# Replace -1 with NaN\n",
    "sm.replace(0, np.nan, inplace=True)\n",
    "# sm.isna().sum()\n",
    "sm.isnull().sum()\n"
   ]
  },
  {
   "cell_type": "code",
   "execution_count": 20,
   "metadata": {},
   "outputs": [
    {
     "data": {
      "text/plain": [
       "<Axes: xlabel='Timestamp (UTC+12:00)'>"
      ]
     },
     "execution_count": 20,
     "metadata": {},
     "output_type": "execute_result"
    },
    {
     "data": {
      "image/png": "[encoded data removed]",
      "text/plain": [
       "<Figure size 640x480 with 1 Axes>"
      ]
     },
     "metadata": {},
     "output_type": "display_data"
    }
   ],
   "source": [
    "sm.interpolate(method='linear', imit_direction='both', inplace=True)\n",
    "sm.plot()"
   ]
  },
  {
   "cell_type": "code",
   "execution_count": 21,
   "metadata": {},
   "outputs": [
    {
     "name": "stdout",
     "output_type": "stream",
     "text": [
      "                       SoilMoisture(%)\n",
      "Timestamp (UTC+12:00)                 \n",
      "2014-06-11 01:45:00             52.220\n",
      "2014-06-11 02:00:00             53.455\n",
      "2014-06-11 02:15:00             53.569\n",
      "2014-06-11 02:30:00             53.501\n",
      "2014-06-11 02:45:00             53.500\n",
      "...                                ...\n",
      "2024-09-21 06:45:00             50.911\n",
      "2024-09-21 07:00:00             50.911\n",
      "2024-09-21 07:15:00             50.817\n",
      "2024-09-21 07:30:00             50.864\n",
      "2024-09-21 07:45:00             50.793\n",
      "\n",
      "[4217 rows x 1 columns]\n"
     ]
    }
   ],
   "source": [
    "mean_sm = sm['SoilMoisture(%)'].mean()\n",
    "std_sm = sm['SoilMoisture(%)'].std()\n",
    "\n",
    "# Define thresholds for outliers\n",
    "lower_threshold = mean_sm - 2 * std_sm\n",
    "upper_threshold = mean_sm + 2 * std_sm\n",
    "\n",
    "# Find rows with unusual values\n",
    "troubling_rows = sm[(sm['SoilMoisture(%)'] < lower_threshold) | (sm['SoilMoisture(%)'] > upper_threshold)]\n",
    "\n",
    "# Display the troubling rows\n",
    "print(troubling_rows)"
   ]
  },
  {
   "cell_type": "code",
   "execution_count": 22,
   "metadata": {},
   "outputs": [
    {
     "data": {
      "text/plain": [
       "<Axes: xlabel='Timestamp (UTC+12:00)'>"
      ]
     },
     "execution_count": 22,
     "metadata": {},
     "output_type": "execute_result"
    },
    {
     "data": {
      "image/png": "[encoded data removed]",
      "text/plain": [
       "<Figure size 1200x400 with 1 Axes>"
      ]
     },
     "metadata": {},
     "output_type": "display_data"
    }
   ],
   "source": [
    "# sm.to_csv('../Data/soil data/Awhitu-741611-20240910095744/AwhituSMc.csv')\n",
    "sm = pd.read_csv('../Data/soil data/Awhitu-741611-20240910095744/AwhituSMc.csv', index_col='Timestamp (UTC+12:00)', parse_dates=['Timestamp (UTC+12:00)'])\n",
    "sm.plot(figsize=(12,4))"
   ]
  },
  {
   "cell_type": "code",
   "execution_count": null,
   "metadata": {},
   "outputs": [],
   "source": []
  },
  {
   "cell_type": "code",
   "execution_count": 23,
   "metadata": {},
   "outputs": [
    {
     "data": {
      "text/html": [
       "<div>\n",
       "<style scoped>\n",
       "    .dataframe tbody tr th:only-of-type {\n",
       "        vertical-align: middle;\n",
       "    }\n",
       "\n",
       "    .dataframe tbody tr th {\n",
       "        vertical-align: top;\n",
       "    }\n",
       "\n",
       "    .dataframe thead th {\n",
       "        text-align: right;\n",
       "    }\n",
       "</style>\n",
       "<table border=\"1\" class=\"dataframe\">\n",
       "  <thead>\n",
       "    <tr style=\"text-align: right;\">\n",
       "      <th></th>\n",
       "      <th>SoilMoisture(%)</th>\n",
       "    </tr>\n",
       "  </thead>\n",
       "  <tbody>\n",
       "    <tr>\n",
       "      <th>count</th>\n",
       "      <td>274583.000000</td>\n",
       "    </tr>\n",
       "    <tr>\n",
       "      <th>mean</th>\n",
       "      <td>44.957379</td>\n",
       "    </tr>\n",
       "    <tr>\n",
       "      <th>std</th>\n",
       "      <td>2.849027</td>\n",
       "    </tr>\n",
       "    <tr>\n",
       "      <th>min</th>\n",
       "      <td>31.342000</td>\n",
       "    </tr>\n",
       "    <tr>\n",
       "      <th>25%</th>\n",
       "      <td>42.502000</td>\n",
       "    </tr>\n",
       "    <tr>\n",
       "      <th>50%</th>\n",
       "      <td>45.827000</td>\n",
       "    </tr>\n",
       "    <tr>\n",
       "      <th>75%</th>\n",
       "      <td>47.174000</td>\n",
       "    </tr>\n",
       "    <tr>\n",
       "      <th>max</th>\n",
       "      <td>53.619000</td>\n",
       "    </tr>\n",
       "  </tbody>\n",
       "</table>\n",
       "</div>"
      ],
      "text/plain": [
       "       SoilMoisture(%)\n",
       "count    274583.000000\n",
       "mean         44.957379\n",
       "std           2.849027\n",
       "min          31.342000\n",
       "25%          42.502000\n",
       "50%          45.827000\n",
       "75%          47.174000\n",
       "max          53.619000"
      ]
     },
     "execution_count": 23,
     "metadata": {},
     "output_type": "execute_result"
    }
   ],
   "source": [
    "sm.describe()"
   ]
  },
  {
   "cell_type": "code",
   "execution_count": 24,
   "metadata": {},
   "outputs": [],
   "source": [
    "# soil moisture and soil temperature using linear to fill data\n",
    "st.interpolate(method='linear', inplace=True)\n",
    "\n",
    "rain.fillna(0, inplace=True)\n"
   ]
  },
  {
   "cell_type": "code",
   "execution_count": 25,
   "metadata": {},
   "outputs": [],
   "source": [
    "# double check missing value\n",
    "\n",
    "# sm.isna().sum()\n",
    "# st.isna().sum()\n",
    "# rain.isna().sum()\n"
   ]
  },
  {
   "cell_type": "markdown",
   "metadata": {},
   "source": [
    "# Step 3: Resample Data to 15 minutes interval"
   ]
  },
  {
   "cell_type": "code",
   "execution_count": 28,
   "metadata": {},
   "outputs": [
    {
     "name": "stderr",
     "output_type": "stream",
     "text": [
      "C:\\Users\\Ying\\AppData\\Local\\Temp\\ipykernel_13160\\1153708465.py:1: FutureWarning: 'T' is deprecated and will be removed in a future version, please use 'min' instead.\n",
      "  soil_moisture_15mins = sm.resample('15T').mean()\n",
      "C:\\Users\\Ying\\AppData\\Local\\Temp\\ipykernel_13160\\1153708465.py:3: FutureWarning: 'T' is deprecated and will be removed in a future version, please use 'min' instead.\n",
      "  soil_temp_15mins = st.resample('15T').mean()\n",
      "C:\\Users\\Ying\\AppData\\Local\\Temp\\ipykernel_13160\\1153708465.py:4: FutureWarning: 'T' is deprecated and will be removed in a future version, please use 'min' instead.\n",
      "  rainfall_15mins = rain.resample('15T').sum()\n"
     ]
    }
   ],
   "source": [
    "soil_moisture_15mins = sm.resample('15T').mean()\n",
    "\n",
    "soil_temp_15mins = st.resample('15T').mean()\n",
    "rainfall_15mins = rain.resample('15T').sum()\n"
   ]
  },
  {
   "cell_type": "markdown",
   "metadata": {},
   "source": [
    "# Step 4: Combine Data"
   ]
  },
  {
   "cell_type": "code",
   "execution_count": 29,
   "metadata": {},
   "outputs": [],
   "source": [
    "# Determine the latest common start date\n",
    "latest_start_date = max(rainfall_15mins.index.min(), soil_moisture_15mins.index.min(), soil_temp_15mins.index.min())\n",
    "end_date = min(rainfall_15mins.index.max(), soil_moisture_15mins.index.max(), soil_temp_15mins.index.max())\n",
    "\n",
    "\n"
   ]
  },
  {
   "cell_type": "code",
   "execution_count": 30,
   "metadata": {},
   "outputs": [],
   "source": [
    "# Filter datasets to the common time range\n",
    "soil_moisture_15mins = soil_moisture_15mins[latest_start_date:end_date]\n",
    "soil_temp_15mins = soil_temp_15mins[latest_start_date:end_date]\n",
    "rainfall_15mins = rainfall_15mins[latest_start_date:end_date]\n"
   ]
  },
  {
   "cell_type": "code",
   "execution_count": 31,
   "metadata": {},
   "outputs": [],
   "source": [
    "# Merge datasets on the timestamp\n",
    "awhitu_data_15mins = rainfall_15mins.join(soil_temp_15mins, how='inner', rsuffix='_rain')\n",
    "awhitu_data_15mins = awhitu_data_15mins.join(soil_moisture_15mins, how='inner', rsuffix='_soil_moisture')\n",
    "awhitu_data_15mins.dropna(inplace=True)  # Drop any rows with missing values after merging\n"
   ]
  },
  {
   "cell_type": "code",
   "execution_count": 32,
   "metadata": {},
   "outputs": [
    {
     "data": {
      "text/html": [
       "<div>\n",
       "<style scoped>\n",
       "    .dataframe tbody tr th:only-of-type {\n",
       "        vertical-align: middle;\n",
       "    }\n",
       "\n",
       "    .dataframe tbody tr th {\n",
       "        vertical-align: top;\n",
       "    }\n",
       "\n",
       "    .dataframe thead th {\n",
       "        text-align: right;\n",
       "    }\n",
       "</style>\n",
       "<table border=\"1\" class=\"dataframe\">\n",
       "  <thead>\n",
       "    <tr style=\"text-align: right;\">\n",
       "      <th></th>\n",
       "      <th>Rain(mm)</th>\n",
       "      <th>SoilTemp(c)</th>\n",
       "      <th>SoilMoisture(%)</th>\n",
       "    </tr>\n",
       "    <tr>\n",
       "      <th>Timestamp (UTC+12:00)</th>\n",
       "      <th></th>\n",
       "      <th></th>\n",
       "      <th></th>\n",
       "    </tr>\n",
       "  </thead>\n",
       "  <tbody>\n",
       "    <tr>\n",
       "      <th>2014-05-27 17:45:00</th>\n",
       "      <td>0.0</td>\n",
       "      <td>14.2</td>\n",
       "      <td>43.589</td>\n",
       "    </tr>\n",
       "    <tr>\n",
       "      <th>2014-05-27 18:00:00</th>\n",
       "      <td>0.0</td>\n",
       "      <td>14.2</td>\n",
       "      <td>43.587</td>\n",
       "    </tr>\n",
       "    <tr>\n",
       "      <th>2014-05-27 18:15:00</th>\n",
       "      <td>0.0</td>\n",
       "      <td>14.0</td>\n",
       "      <td>43.586</td>\n",
       "    </tr>\n",
       "    <tr>\n",
       "      <th>2014-05-27 18:30:00</th>\n",
       "      <td>0.0</td>\n",
       "      <td>14.0</td>\n",
       "      <td>43.561</td>\n",
       "    </tr>\n",
       "    <tr>\n",
       "      <th>2014-05-27 18:45:00</th>\n",
       "      <td>0.0</td>\n",
       "      <td>13.9</td>\n",
       "      <td>43.561</td>\n",
       "    </tr>\n",
       "  </tbody>\n",
       "</table>\n",
       "</div>"
      ],
      "text/plain": [
       "                       Rain(mm)  SoilTemp(c)  SoilMoisture(%)\n",
       "Timestamp (UTC+12:00)                                        \n",
       "2014-05-27 17:45:00         0.0         14.2           43.589\n",
       "2014-05-27 18:00:00         0.0         14.2           43.587\n",
       "2014-05-27 18:15:00         0.0         14.0           43.586\n",
       "2014-05-27 18:30:00         0.0         14.0           43.561\n",
       "2014-05-27 18:45:00         0.0         13.9           43.561"
      ]
     },
     "execution_count": 32,
     "metadata": {},
     "output_type": "execute_result"
    }
   ],
   "source": [
    "awhitu_data_15mins.head()"
   ]
  },
  {
   "cell_type": "code",
   "execution_count": 33,
   "metadata": {},
   "outputs": [
    {
     "name": "stdout",
     "output_type": "stream",
     "text": [
      "Combined data (15-minute intervals) saved successfully.\n"
     ]
    }
   ],
   "source": [
    "# Save the combined data to a new CSV file\n",
    "awhitu_data_15mins.to_csv('../Data/soil data/Awhitu-741611-20240910095744/awhituCombined_Data_15mins.csv')\n",
    "print(\"Combined data (15-minute intervals) saved successfully.\")"
   ]
  },
  {
   "cell_type": "code",
   "execution_count": 34,
   "metadata": {},
   "outputs": [],
   "source": [
    "# awhitu = pd.read_csv('../Data/soil data/Awhitu-741611-20240910095744/awhituCombined_Data_15mins.csv', parse_dates=['Timestamp (UTC+12:00)'])\n",
    "# awhitu.head()"
   ]
  },
  {
   "cell_type": "code",
   "execution_count": 35,
   "metadata": {},
   "outputs": [],
   "source": [
    "# awhitu['Location'] = 'South Auckland'\n",
    "# awhitu['Land position'] = 'Terrace'\n",
    "# awhitu['Slope(degree)'] = '0-3'\n",
    "# awhitu['Soil Order'] = 'Granular'\n",
    "# awhitu['Soil Types / Series'] = 'Matakawau clay loam'\n",
    "# awhitu['NZ Soil Classification'] = 'Typic Orthic Granular'\n",
    "# awhitu['Soil Profile Description'] = '0-10cm brown sandy loam, powdery structure; 10-20cm brown sandy clay loam nutty to crumbly structure; 20-30+cm orange-brown sandy clay, crumbly structure'\n",
    "# awhitu['Pastoral land use'] = 'Regional Park'\n",
    "# awhitu.head()\n",
    "# awhitu.to_csv('../Data/soil data/awhitu_soil_data.csv')\n"
   ]
  },
  {
   "cell_type": "markdown",
   "metadata": {},
   "source": [
    "Data Transformation\n"
   ]
  },
  {
   "cell_type": "code",
   "execution_count": null,
   "metadata": {},
   "outputs": [],
   "source": []
  },
  {
   "cell_type": "markdown",
   "metadata": {},
   "source": [
    "Feature Engineering: Scaling, Normalization and Standardization\n"
   ]
  },
  {
   "cell_type": "code",
   "execution_count": null,
   "metadata": {},
   "outputs": [],
   "source": []
  },
  {
   "cell_type": "markdown",
   "metadata": {},
   "source": [
    "Feature Selection\n"
   ]
  },
  {
   "cell_type": "code",
   "execution_count": null,
   "metadata": {},
   "outputs": [],
   "source": []
  },
  {
   "cell_type": "markdown",
   "metadata": {},
   "source": [
    "Handling Imbalanced Data\n"
   ]
  },
  {
   "cell_type": "code",
   "execution_count": null,
   "metadata": {},
   "outputs": [],
   "source": []
  },
  {
   "cell_type": "markdown",
   "metadata": {},
   "source": [
    "Encoding Categorical Features\n"
   ]
  },
  {
   "cell_type": "code",
   "execution_count": null,
   "metadata": {},
   "outputs": [],
   "source": []
  },
  {
   "cell_type": "markdown",
   "metadata": {},
   "source": [
    "Data Splitting"
   ]
  },
  {
   "cell_type": "code",
   "execution_count": null,
   "metadata": {},
   "outputs": [],
   "source": []
  }
 ],
 "metadata": {
  "kernelspec": {
   "display_name": "level8",
   "language": "python",
   "name": "python3"
  },
  "language_info": {
   "codemirror_mode": {
    "name": "ipython",
    "version": 3
   },
   "file_extension": ".py",
   "mimetype": "text/x-python",
   "name": "python",
   "nbconvert_exporter": "python",
   "pygments_lexer": "ipython3",
   "version": "3.10.14"
  }
 },
 "nbformat": 4,
 "nbformat_minor": 2
}
