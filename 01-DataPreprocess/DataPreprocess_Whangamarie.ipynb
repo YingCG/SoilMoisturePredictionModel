{
 "cells": [
  {
   "cell_type": "markdown",
   "metadata": {},
   "source": [
    "# Step 1: Data Collection"
   ]
  },
  {
   "cell_type": "code",
   "execution_count": 1,
   "metadata": {},
   "outputs": [
    {
     "name": "stdout",
     "output_type": "stream",
     "text": [
      "       Timestamp (UTC+12:00)  SoilMoisture(%)\n",
      "0        2014-05-28 17:15:00           44.611\n",
      "1        2014-05-28 17:30:00           44.598\n",
      "2        2014-05-28 17:45:00           44.600\n",
      "3        2014-05-28 18:00:00           44.601\n",
      "4        2014-05-28 18:15:00           44.602\n",
      "278729   2024-09-10 21:15:00           48.199\n",
      "278730   2024-09-10 21:30:00           48.199\n",
      "278731   2024-09-10 21:45:00           48.199\n",
      "278732   2024-09-10 22:00:00           48.199\n",
      "278733   2024-09-10 22:15:00           48.199\n"
     ]
    }
   ],
   "source": [
    "# import library\n",
    "import numpy as np\n",
    "import pandas as pd\n",
    "import matplotlib.pyplot as plt\n",
    "import seaborn as sns\n",
    "%matplotlib inline\n",
    "\n",
    "# Soil Moisture data in Whangamarie\n",
    "sm = pd.read_csv('../Data/soil data/Whangamarie741813-20240910102615/Whangamarie-SoilMoistureContinuous@741813-20240910102603.csv', parse_dates=['Timestamp (UTC+12:00)'])\n",
    "sm.head(5)\n",
    "\n",
    "# smheadtail = (np.r_[0:5, -5:0])\n",
    "smheadtail = sm.iloc[np.r_[0:5, -5:0]]\n",
    "print(smheadtail)"
   ]
  },
  {
   "cell_type": "code",
   "execution_count": 2,
   "metadata": {},
   "outputs": [
    {
     "name": "stdout",
     "output_type": "stream",
     "text": [
      "       Timestamp (UTC+12:00)  SoilTemp(c)\n",
      "0        2014-03-12 07:00:00       22.300\n",
      "1        2014-03-12 07:15:00       22.300\n",
      "2        2014-03-12 07:30:00       22.200\n",
      "3        2014-03-12 07:45:00       22.200\n",
      "4        2014-03-12 08:00:00       22.200\n",
      "368224   2024-09-10 21:15:00       16.513\n",
      "368225   2024-09-10 21:30:00       16.513\n",
      "368226   2024-09-10 21:45:00       16.513\n",
      "368227   2024-09-10 22:00:00       16.433\n",
      "368228   2024-09-10 22:15:00       16.436\n"
     ]
    }
   ],
   "source": [
    "# Soil Temperature data in Whangamarie\n",
    "st = pd.read_csv('../Data/soil data/Whangamarie741813-20240910102615/Whangamarie-SoilTempContinuous@741813-20240910102611.csv', parse_dates=['Timestamp (UTC+12:00)'])\n",
    "st.head(5)\n",
    "\n",
    "# smheadtail = (np.r_[0:5, -5:0])\n",
    "stheadtail = st.iloc[np.r_[0:5, -5:0]]\n",
    "print(stheadtail)"
   ]
  },
  {
   "cell_type": "code",
   "execution_count": 3,
   "metadata": {},
   "outputs": [
    {
     "name": "stdout",
     "output_type": "stream",
     "text": [
      "       Timestamp (UTC+12:00)  Rain(mm)\n",
      "0        1992-07-01 05:55:00      0.50\n",
      "1        1992-07-01 05:57:00      0.51\n",
      "2        1992-07-01 05:58:00      0.50\n",
      "3        1992-07-01 06:00:00      0.51\n",
      "4        1992-07-01 15:54:00      0.52\n",
      "242622   2024-09-10 21:15:00      0.00\n",
      "242623   2024-09-10 21:30:00      0.00\n",
      "242624   2024-09-10 21:45:00      0.00\n",
      "242625   2024-09-10 22:00:00      0.00\n",
      "242626   2024-09-10 22:15:00      0.00\n"
     ]
    }
   ],
   "source": [
    "# Rainfall data in Whangamarie\n",
    "rain = pd.read_csv('../Data/soil data/Whangamarie741813-20240910102615/Whangamarie-RainfallContinuous@741813-20240910102556.csv', parse_dates=['Timestamp (UTC+12:00)'])\n",
    "rain.head(5)\n",
    "\n",
    "# smheadtail = (np.r_[0:5, -5:0])\n",
    "rainheadtail = rain.iloc[np.r_[0:5, -5:0]]\n",
    "print(rainheadtail)"
   ]
  },
  {
   "cell_type": "markdown",
   "metadata": {},
   "source": [
    "Data Description"
   ]
  },
  {
   "cell_type": "code",
   "execution_count": 4,
   "metadata": {},
   "outputs": [
    {
     "name": "stdout",
     "output_type": "stream",
     "text": [
      "Whangamarie Rainfall Data Info:\n",
      "<class 'pandas.core.frame.DataFrame'>\n",
      "RangeIndex: 242627 entries, 0 to 242626\n",
      "Data columns (total 2 columns):\n",
      " #   Column                 Non-Null Count   Dtype         \n",
      "---  ------                 --------------   -----         \n",
      " 0   Timestamp (UTC+12:00)  242627 non-null  datetime64[ns]\n",
      " 1   Rain(mm)               242619 non-null  float64       \n",
      "dtypes: datetime64[ns](1), float64(1)\n",
      "memory usage: 3.7 MB\n",
      "\n",
      " Whangamarie Soil Moisture Data Info:\n",
      "<class 'pandas.core.frame.DataFrame'>\n",
      "RangeIndex: 278734 entries, 0 to 278733\n",
      "Data columns (total 2 columns):\n",
      " #   Column                 Non-Null Count   Dtype         \n",
      "---  ------                 --------------   -----         \n",
      " 0   Timestamp (UTC+12:00)  278734 non-null  datetime64[ns]\n",
      " 1   SoilMoisture(%)        278578 non-null  float64       \n",
      "dtypes: datetime64[ns](1), float64(1)\n",
      "memory usage: 4.3 MB\n",
      "\n",
      " Whangamarie Soil Temperature Data Info:\n",
      "<class 'pandas.core.frame.DataFrame'>\n",
      "RangeIndex: 368229 entries, 0 to 368228\n",
      "Data columns (total 2 columns):\n",
      " #   Column                 Non-Null Count   Dtype         \n",
      "---  ------                 --------------   -----         \n",
      " 0   Timestamp (UTC+12:00)  368229 non-null  datetime64[ns]\n",
      " 1   SoilTemp(c)            368069 non-null  float64       \n",
      "dtypes: datetime64[ns](1), float64(1)\n",
      "memory usage: 5.6 MB\n"
     ]
    }
   ],
   "source": [
    "# Display info to check datatype\n",
    "print(\"Whangamarie Rainfall Data Info:\")\n",
    "rain.info()\n",
    "print(\"\\n Whangamarie Soil Moisture Data Info:\")\n",
    "sm.info()\n",
    "print(\"\\n Whangamarie Soil Temperature Data Info:\")\n",
    "st.info()"
   ]
  },
  {
   "cell_type": "code",
   "execution_count": 5,
   "metadata": {},
   "outputs": [
    {
     "name": "stdout",
     "output_type": "stream",
     "text": [
      "Whangamarie Rainfall Data statistics :\n"
     ]
    },
    {
     "data": {
      "text/html": [
       "<div>\n",
       "<style scoped>\n",
       "    .dataframe tbody tr th:only-of-type {\n",
       "        vertical-align: middle;\n",
       "    }\n",
       "\n",
       "    .dataframe tbody tr th {\n",
       "        vertical-align: top;\n",
       "    }\n",
       "\n",
       "    .dataframe thead th {\n",
       "        text-align: right;\n",
       "    }\n",
       "</style>\n",
       "<table border=\"1\" class=\"dataframe\">\n",
       "  <thead>\n",
       "    <tr style=\"text-align: right;\">\n",
       "      <th></th>\n",
       "      <th>Timestamp (UTC+12:00)</th>\n",
       "      <th>Rain(mm)</th>\n",
       "    </tr>\n",
       "  </thead>\n",
       "  <tbody>\n",
       "    <tr>\n",
       "      <th>count</th>\n",
       "      <td>242627</td>\n",
       "      <td>242619.000000</td>\n",
       "    </tr>\n",
       "    <tr>\n",
       "      <th>mean</th>\n",
       "      <td>2017-02-02 11:29:59.331566592</td>\n",
       "      <td>0.179269</td>\n",
       "    </tr>\n",
       "    <tr>\n",
       "      <th>min</th>\n",
       "      <td>1992-07-01 05:55:00</td>\n",
       "      <td>0.000000</td>\n",
       "    </tr>\n",
       "    <tr>\n",
       "      <th>25%</th>\n",
       "      <td>2012-09-04 09:30:00</td>\n",
       "      <td>0.000000</td>\n",
       "    </tr>\n",
       "    <tr>\n",
       "      <th>50%</th>\n",
       "      <td>2021-06-20 13:00:00</td>\n",
       "      <td>0.000000</td>\n",
       "    </tr>\n",
       "    <tr>\n",
       "      <th>75%</th>\n",
       "      <td>2023-01-27 20:07:30</td>\n",
       "      <td>0.510000</td>\n",
       "    </tr>\n",
       "    <tr>\n",
       "      <th>max</th>\n",
       "      <td>2024-09-10 22:15:00</td>\n",
       "      <td>48.450000</td>\n",
       "    </tr>\n",
       "    <tr>\n",
       "      <th>std</th>\n",
       "      <td>NaN</td>\n",
       "      <td>0.333941</td>\n",
       "    </tr>\n",
       "  </tbody>\n",
       "</table>\n",
       "</div>"
      ],
      "text/plain": [
       "               Timestamp (UTC+12:00)       Rain(mm)\n",
       "count                         242627  242619.000000\n",
       "mean   2017-02-02 11:29:59.331566592       0.179269\n",
       "min              1992-07-01 05:55:00       0.000000\n",
       "25%              2012-09-04 09:30:00       0.000000\n",
       "50%              2021-06-20 13:00:00       0.000000\n",
       "75%              2023-01-27 20:07:30       0.510000\n",
       "max              2024-09-10 22:15:00      48.450000\n",
       "std                              NaN       0.333941"
      ]
     },
     "execution_count": 5,
     "metadata": {},
     "output_type": "execute_result"
    }
   ],
   "source": [
    "# Overview of data\n",
    "print(\"Whangamarie Rainfall Data statistics :\")\n",
    "rain.describe()\n"
   ]
  },
  {
   "cell_type": "code",
   "execution_count": 6,
   "metadata": {},
   "outputs": [
    {
     "name": "stdout",
     "output_type": "stream",
     "text": [
      "\n",
      "Whangamarie Soil Moisture Data statistics :\n"
     ]
    },
    {
     "data": {
      "text/html": [
       "<div>\n",
       "<style scoped>\n",
       "    .dataframe tbody tr th:only-of-type {\n",
       "        vertical-align: middle;\n",
       "    }\n",
       "\n",
       "    .dataframe tbody tr th {\n",
       "        vertical-align: top;\n",
       "    }\n",
       "\n",
       "    .dataframe thead th {\n",
       "        text-align: right;\n",
       "    }\n",
       "</style>\n",
       "<table border=\"1\" class=\"dataframe\">\n",
       "  <thead>\n",
       "    <tr style=\"text-align: right;\">\n",
       "      <th></th>\n",
       "      <th>Timestamp (UTC+12:00)</th>\n",
       "      <th>SoilMoisture(%)</th>\n",
       "    </tr>\n",
       "  </thead>\n",
       "  <tbody>\n",
       "    <tr>\n",
       "      <th>count</th>\n",
       "      <td>278734</td>\n",
       "      <td>278578.000000</td>\n",
       "    </tr>\n",
       "    <tr>\n",
       "      <th>mean</th>\n",
       "      <td>2019-10-08 23:37:50.932214784</td>\n",
       "      <td>44.704142</td>\n",
       "    </tr>\n",
       "    <tr>\n",
       "      <th>min</th>\n",
       "      <td>2014-05-28 17:15:00</td>\n",
       "      <td>0.000000</td>\n",
       "    </tr>\n",
       "    <tr>\n",
       "      <th>25%</th>\n",
       "      <td>2016-05-23 14:03:45</td>\n",
       "      <td>43.633000</td>\n",
       "    </tr>\n",
       "    <tr>\n",
       "      <th>50%</th>\n",
       "      <td>2020-09-14 14:52:30</td>\n",
       "      <td>44.933000</td>\n",
       "    </tr>\n",
       "    <tr>\n",
       "      <th>75%</th>\n",
       "      <td>2022-09-10 05:41:15</td>\n",
       "      <td>46.367000</td>\n",
       "    </tr>\n",
       "    <tr>\n",
       "      <th>max</th>\n",
       "      <td>2024-09-10 22:15:00</td>\n",
       "      <td>58.854000</td>\n",
       "    </tr>\n",
       "    <tr>\n",
       "      <th>std</th>\n",
       "      <td>NaN</td>\n",
       "      <td>2.639300</td>\n",
       "    </tr>\n",
       "  </tbody>\n",
       "</table>\n",
       "</div>"
      ],
      "text/plain": [
       "               Timestamp (UTC+12:00)  SoilMoisture(%)\n",
       "count                         278734    278578.000000\n",
       "mean   2019-10-08 23:37:50.932214784        44.704142\n",
       "min              2014-05-28 17:15:00         0.000000\n",
       "25%              2016-05-23 14:03:45        43.633000\n",
       "50%              2020-09-14 14:52:30        44.933000\n",
       "75%              2022-09-10 05:41:15        46.367000\n",
       "max              2024-09-10 22:15:00        58.854000\n",
       "std                              NaN         2.639300"
      ]
     },
     "execution_count": 6,
     "metadata": {},
     "output_type": "execute_result"
    }
   ],
   "source": [
    "print(\"\\nWhangamarie Soil Moisture Data statistics :\")\n",
    "sm.describe()\n"
   ]
  },
  {
   "cell_type": "code",
   "execution_count": 7,
   "metadata": {},
   "outputs": [
    {
     "name": "stdout",
     "output_type": "stream",
     "text": [
      "\n",
      "Whangamarie Soil Temperature Data statistics :\n"
     ]
    },
    {
     "data": {
      "text/html": [
       "<div>\n",
       "<style scoped>\n",
       "    .dataframe tbody tr th:only-of-type {\n",
       "        vertical-align: middle;\n",
       "    }\n",
       "\n",
       "    .dataframe tbody tr th {\n",
       "        vertical-align: top;\n",
       "    }\n",
       "\n",
       "    .dataframe thead th {\n",
       "        text-align: right;\n",
       "    }\n",
       "</style>\n",
       "<table border=\"1\" class=\"dataframe\">\n",
       "  <thead>\n",
       "    <tr style=\"text-align: right;\">\n",
       "      <th></th>\n",
       "      <th>Timestamp (UTC+12:00)</th>\n",
       "      <th>SoilTemp(c)</th>\n",
       "    </tr>\n",
       "  </thead>\n",
       "  <tbody>\n",
       "    <tr>\n",
       "      <th>count</th>\n",
       "      <td>368229</td>\n",
       "      <td>368069.000000</td>\n",
       "    </tr>\n",
       "    <tr>\n",
       "      <th>mean</th>\n",
       "      <td>2019-06-12 06:19:15.220909056</td>\n",
       "      <td>18.378763</td>\n",
       "    </tr>\n",
       "    <tr>\n",
       "      <th>min</th>\n",
       "      <td>2014-03-12 07:00:00</td>\n",
       "      <td>0.000000</td>\n",
       "    </tr>\n",
       "    <tr>\n",
       "      <th>25%</th>\n",
       "      <td>2016-10-26 05:15:00</td>\n",
       "      <td>14.400000</td>\n",
       "    </tr>\n",
       "    <tr>\n",
       "      <th>50%</th>\n",
       "      <td>2019-06-12 19:00:00</td>\n",
       "      <td>18.300000</td>\n",
       "    </tr>\n",
       "    <tr>\n",
       "      <th>75%</th>\n",
       "      <td>2022-01-26 02:00:00</td>\n",
       "      <td>22.300000</td>\n",
       "    </tr>\n",
       "    <tr>\n",
       "      <th>max</th>\n",
       "      <td>2024-09-10 22:15:00</td>\n",
       "      <td>30.100000</td>\n",
       "    </tr>\n",
       "    <tr>\n",
       "      <th>std</th>\n",
       "      <td>NaN</td>\n",
       "      <td>4.404425</td>\n",
       "    </tr>\n",
       "  </tbody>\n",
       "</table>\n",
       "</div>"
      ],
      "text/plain": [
       "               Timestamp (UTC+12:00)    SoilTemp(c)\n",
       "count                         368229  368069.000000\n",
       "mean   2019-06-12 06:19:15.220909056      18.378763\n",
       "min              2014-03-12 07:00:00       0.000000\n",
       "25%              2016-10-26 05:15:00      14.400000\n",
       "50%              2019-06-12 19:00:00      18.300000\n",
       "75%              2022-01-26 02:00:00      22.300000\n",
       "max              2024-09-10 22:15:00      30.100000\n",
       "std                              NaN       4.404425"
      ]
     },
     "execution_count": 7,
     "metadata": {},
     "output_type": "execute_result"
    }
   ],
   "source": [
    "print(\"\\nWhangamarie Soil Temperature Data statistics :\")\n",
    "st.describe()"
   ]
  },
  {
   "cell_type": "markdown",
   "metadata": {},
   "source": [
    "Data Cleaning\n"
   ]
  },
  {
   "cell_type": "code",
   "execution_count": 8,
   "metadata": {},
   "outputs": [
    {
     "name": "stdout",
     "output_type": "stream",
     "text": [
      "Missing Value in Soil Moisture Data\n",
      "       Timestamp (UTC+12:00)  SoilMoisture(%)\n",
      "111456   2017-08-01 17:00:00              NaN\n",
      "111457   2018-07-07 11:14:00              NaN\n",
      "111742   2018-07-10 10:00:00              NaN\n",
      "111743   2018-07-10 10:44:00              NaN\n",
      "111810   2018-07-11 03:00:00              NaN\n",
      "...                      ...              ...\n",
      "247643   2023-10-17 01:59:00              NaN\n",
      "272540   2024-07-02 09:45:00              NaN\n",
      "272541   2024-07-08 10:44:00              NaN\n",
      "276460   2024-08-18 06:00:00              NaN\n",
      "276461   2024-08-18 06:29:00              NaN\n",
      "\n",
      "[156 rows x 2 columns]\n"
     ]
    }
   ],
   "source": [
    "# Display missing value\n",
    "print(\"Missing Value in Soil Moisture Data\")\n",
    "sm.isna().sum()\n",
    "print(sm[sm['SoilMoisture(%)'].isnull()])"
   ]
  },
  {
   "cell_type": "code",
   "execution_count": 9,
   "metadata": {},
   "outputs": [
    {
     "name": "stdout",
     "output_type": "stream",
     "text": [
      "Missing Value in Soil Temperature Data\n",
      "       Timestamp (UTC+12:00)  SoilTemp(c)\n",
      "133553   2018-01-01 11:00:00          NaN\n",
      "133554   2018-01-01 11:59:00          NaN\n",
      "143068   2018-04-10 14:00:00          NaN\n",
      "143069   2018-04-10 14:59:00          NaN\n",
      "143143   2018-04-11 09:00:00          NaN\n",
      "...                      ...          ...\n",
      "316124   2023-03-18 05:14:00          NaN\n",
      "316332   2023-03-20 08:45:00          NaN\n",
      "316333   2023-03-20 09:14:00          NaN\n",
      "361761   2024-07-05 13:45:00          NaN\n",
      "361762   2024-07-05 14:14:00          NaN\n",
      "\n",
      "[160 rows x 2 columns]\n"
     ]
    }
   ],
   "source": [
    "# Display missing value\n",
    "\n",
    "print(\"Missing Value in Soil Temperature Data\")\n",
    "st.isna().sum()\n",
    "\n",
    "print(st[st['SoilTemp(c)'].isnull()])"
   ]
  },
  {
   "cell_type": "code",
   "execution_count": 10,
   "metadata": {},
   "outputs": [
    {
     "name": "stdout",
     "output_type": "stream",
     "text": [
      "Missing Value in Rainfall Data\n",
      "      Timestamp (UTC+12:00)  Rain(mm)\n",
      "88159   2018-09-06 09:30:00       NaN\n",
      "88160   2018-09-17 01:59:00       NaN\n",
      "89223   2018-12-06 14:45:00       NaN\n",
      "89224   2018-12-14 17:59:00       NaN\n",
      "89823   2018-12-26 13:45:00       NaN\n",
      "89824   2019-01-14 05:59:00       NaN\n",
      "89928   2019-01-28 06:00:00       NaN\n",
      "89929   2019-02-07 13:59:00       NaN\n"
     ]
    }
   ],
   "source": [
    "# Display missing value\n",
    "print(\"Missing Value in Rainfall Data\")\n",
    "rain.isna().sum()\n",
    "print(rain[rain['Rain(mm)'].isnull()])"
   ]
  },
  {
   "cell_type": "markdown",
   "metadata": {},
   "source": [
    "# Step 2: Handle Missing Values"
   ]
  },
  {
   "cell_type": "code",
   "execution_count": 11,
   "metadata": {},
   "outputs": [],
   "source": [
    "# soil moisture and soil temperature using linear to fill data\n",
    "sm.interpolate(method='linear', inplace=True)\n",
    "st.interpolate(method='linear', inplace=True)\n",
    "\n",
    "# soil moisture and soil temperature using linear to fill data\n",
    "rain.fillna(0, inplace=True)\n"
   ]
  },
  {
   "cell_type": "code",
   "execution_count": 12,
   "metadata": {},
   "outputs": [],
   "source": [
    "# double check missing value\n",
    "\n",
    "# sm.isna().sum()\n",
    "# st.isna().sum()\n",
    "# rain.isna().sum()\n"
   ]
  },
  {
   "cell_type": "markdown",
   "metadata": {},
   "source": [
    "# Step 3: Resample Data to 15 minutes interval"
   ]
  },
  {
   "cell_type": "code",
   "execution_count": 13,
   "metadata": {},
   "outputs": [],
   "source": [
    "sm.set_index('Timestamp (UTC+12:00)', inplace=True)\n",
    "st.set_index('Timestamp (UTC+12:00)', inplace=True)\n",
    "rain.set_index('Timestamp (UTC+12:00)', inplace=True)\n"
   ]
  },
  {
   "cell_type": "code",
   "execution_count": 14,
   "metadata": {},
   "outputs": [
    {
     "name": "stderr",
     "output_type": "stream",
     "text": [
      "C:\\Users\\Ying\\AppData\\Local\\Temp\\ipykernel_11364\\3335301185.py:2: FutureWarning: 'T' is deprecated and will be removed in a future version, please use 'min' instead.\n",
      "  soil_moisture_15mins = sm.resample('15T').mean()\n",
      "C:\\Users\\Ying\\AppData\\Local\\Temp\\ipykernel_11364\\3335301185.py:4: FutureWarning: 'T' is deprecated and will be removed in a future version, please use 'min' instead.\n",
      "  soil_temp_15mins = st.resample('15T').mean()\n",
      "C:\\Users\\Ying\\AppData\\Local\\Temp\\ipykernel_11364\\3335301185.py:5: FutureWarning: 'T' is deprecated and will be removed in a future version, please use 'min' instead.\n",
      "  rainfall_15mins = rain.resample('15T').sum()\n"
     ]
    }
   ],
   "source": [
    "# soil_moisture_30min = sm.resample('30T').mean()\n",
    "soil_moisture_15mins = sm.resample('15T').mean()\n",
    "\n",
    "soil_temp_15mins = st.resample('15T').mean()\n",
    "rainfall_15mins = rain.resample('15T').sum()\n"
   ]
  },
  {
   "cell_type": "markdown",
   "metadata": {},
   "source": [
    "# Step 4: Combine Data"
   ]
  },
  {
   "cell_type": "code",
   "execution_count": 15,
   "metadata": {},
   "outputs": [],
   "source": [
    "# Determine the latest common start date\n",
    "latest_start_date = max(rainfall_15mins.index.min(), soil_moisture_15mins.index.min(), soil_temp_15mins.index.min())\n",
    "end_date = min(rainfall_15mins.index.max(), soil_moisture_15mins.index.max(), soil_temp_15mins.index.max())\n"
   ]
  },
  {
   "cell_type": "code",
   "execution_count": 16,
   "metadata": {},
   "outputs": [],
   "source": [
    "# Filter datasets to the common time range\n",
    "soil_moisture_15mins = soil_moisture_15mins[latest_start_date:end_date]\n",
    "soil_temp_15mins = soil_temp_15mins[latest_start_date:end_date]\n",
    "rainfall_15mins = rainfall_15mins[latest_start_date:end_date]\n"
   ]
  },
  {
   "cell_type": "code",
   "execution_count": 17,
   "metadata": {},
   "outputs": [],
   "source": [
    "# Merge datasets on the timestamp\n",
    "combined_data_15mins = rainfall_15mins.join(soil_temp_15mins, how='inner', rsuffix='_soil_moisture')\n",
    "combined_data_15mins = combined_data_15mins.join(soil_moisture_15mins, how='inner', rsuffix='_soil_temp')\n",
    "combined_data_15mins.dropna(inplace=True)  # Drop any rows with missing values after merging\n"
   ]
  },
  {
   "cell_type": "code",
   "execution_count": 18,
   "metadata": {},
   "outputs": [
    {
     "name": "stdout",
     "output_type": "stream",
     "text": [
      "Combined data (15-minute intervals) saved successfully.\n"
     ]
    }
   ],
   "source": [
    "# Save the combined data to a new CSV file\n",
    "combined_data_15mins.to_csv('../Data/soil data/Whangamarie741813-20240910102615/whangamarieCombined_Data_15mins.csv')\n",
    "print(\"Combined data (15-minute intervals) saved successfully.\")"
   ]
  },
  {
   "cell_type": "code",
   "execution_count": 19,
   "metadata": {},
   "outputs": [
    {
     "data": {
      "text/html": [
       "<div>\n",
       "<style scoped>\n",
       "    .dataframe tbody tr th:only-of-type {\n",
       "        vertical-align: middle;\n",
       "    }\n",
       "\n",
       "    .dataframe tbody tr th {\n",
       "        vertical-align: top;\n",
       "    }\n",
       "\n",
       "    .dataframe thead th {\n",
       "        text-align: right;\n",
       "    }\n",
       "</style>\n",
       "<table border=\"1\" class=\"dataframe\">\n",
       "  <thead>\n",
       "    <tr style=\"text-align: right;\">\n",
       "      <th></th>\n",
       "      <th>Timestamp (UTC+12:00)</th>\n",
       "      <th>Rain(mm)</th>\n",
       "      <th>SoilTemp(c)</th>\n",
       "      <th>SoilMoisture(%)</th>\n",
       "    </tr>\n",
       "  </thead>\n",
       "  <tbody>\n",
       "    <tr>\n",
       "      <th>0</th>\n",
       "      <td>2014-05-28 17:15:00</td>\n",
       "      <td>0.0</td>\n",
       "      <td>13.0</td>\n",
       "      <td>44.611</td>\n",
       "    </tr>\n",
       "    <tr>\n",
       "      <th>1</th>\n",
       "      <td>2014-05-28 17:30:00</td>\n",
       "      <td>0.0</td>\n",
       "      <td>13.0</td>\n",
       "      <td>44.598</td>\n",
       "    </tr>\n",
       "    <tr>\n",
       "      <th>2</th>\n",
       "      <td>2014-05-28 17:45:00</td>\n",
       "      <td>0.0</td>\n",
       "      <td>13.0</td>\n",
       "      <td>44.600</td>\n",
       "    </tr>\n",
       "    <tr>\n",
       "      <th>3</th>\n",
       "      <td>2014-05-28 18:00:00</td>\n",
       "      <td>0.0</td>\n",
       "      <td>13.0</td>\n",
       "      <td>44.601</td>\n",
       "    </tr>\n",
       "    <tr>\n",
       "      <th>4</th>\n",
       "      <td>2014-05-28 18:15:00</td>\n",
       "      <td>0.0</td>\n",
       "      <td>13.2</td>\n",
       "      <td>44.602</td>\n",
       "    </tr>\n",
       "  </tbody>\n",
       "</table>\n",
       "</div>"
      ],
      "text/plain": [
       "  Timestamp (UTC+12:00)  Rain(mm)  SoilTemp(c)  SoilMoisture(%)\n",
       "0   2014-05-28 17:15:00       0.0         13.0           44.611\n",
       "1   2014-05-28 17:30:00       0.0         13.0           44.598\n",
       "2   2014-05-28 17:45:00       0.0         13.0           44.600\n",
       "3   2014-05-28 18:00:00       0.0         13.0           44.601\n",
       "4   2014-05-28 18:15:00       0.0         13.2           44.602"
      ]
     },
     "execution_count": 19,
     "metadata": {},
     "output_type": "execute_result"
    }
   ],
   "source": [
    "whangamarie = pd.read_csv('../Data/soil data/Whangamarie741813-20240910102615/whangamarieCombined_Data_15mins.csv', parse_dates=['Timestamp (UTC+12:00)'])\n",
    "whangamarie.head()"
   ]
  },
  {
   "cell_type": "code",
   "execution_count": 20,
   "metadata": {},
   "outputs": [
    {
     "ename": "OSError",
     "evalue": "Cannot save file into a non-existent directory: 'Data\\soil data'",
     "output_type": "error",
     "traceback": [
      "\u001b[1;31m---------------------------------------------------------------------------\u001b[0m",
      "\u001b[1;31mOSError\u001b[0m                                   Traceback (most recent call last)",
      "Cell \u001b[1;32mIn[20], line 10\u001b[0m\n\u001b[0;32m      8\u001b[0m whangamarie[\u001b[38;5;124m'\u001b[39m\u001b[38;5;124mPastoral land use\u001b[39m\u001b[38;5;124m'\u001b[39m] \u001b[38;5;241m=\u001b[39m \u001b[38;5;124m'\u001b[39m\u001b[38;5;124mLifestyle block\u001b[39m\u001b[38;5;124m'\u001b[39m\n\u001b[0;32m      9\u001b[0m whangamarie\u001b[38;5;241m.\u001b[39mhead()\n\u001b[1;32m---> 10\u001b[0m \u001b[43mwhangamarie\u001b[49m\u001b[38;5;241;43m.\u001b[39;49m\u001b[43mto_csv\u001b[49m\u001b[43m(\u001b[49m\u001b[38;5;124;43m'\u001b[39;49m\u001b[38;5;124;43m./Data/soil data/whangamarie_soil_data.csv\u001b[39;49m\u001b[38;5;124;43m'\u001b[39;49m\u001b[43m)\u001b[49m\n",
      "File \u001b[1;32mc:\\Users\\Ying\\.conda\\envs\\level8\\lib\\site-packages\\pandas\\util\\_decorators.py:333\u001b[0m, in \u001b[0;36mdeprecate_nonkeyword_arguments.<locals>.decorate.<locals>.wrapper\u001b[1;34m(*args, **kwargs)\u001b[0m\n\u001b[0;32m    327\u001b[0m \u001b[38;5;28;01mif\u001b[39;00m \u001b[38;5;28mlen\u001b[39m(args) \u001b[38;5;241m>\u001b[39m num_allow_args:\n\u001b[0;32m    328\u001b[0m     warnings\u001b[38;5;241m.\u001b[39mwarn(\n\u001b[0;32m    329\u001b[0m         msg\u001b[38;5;241m.\u001b[39mformat(arguments\u001b[38;5;241m=\u001b[39m_format_argument_list(allow_args)),\n\u001b[0;32m    330\u001b[0m         \u001b[38;5;167;01mFutureWarning\u001b[39;00m,\n\u001b[0;32m    331\u001b[0m         stacklevel\u001b[38;5;241m=\u001b[39mfind_stack_level(),\n\u001b[0;32m    332\u001b[0m     )\n\u001b[1;32m--> 333\u001b[0m \u001b[38;5;28;01mreturn\u001b[39;00m func(\u001b[38;5;241m*\u001b[39margs, \u001b[38;5;241m*\u001b[39m\u001b[38;5;241m*\u001b[39mkwargs)\n",
      "File \u001b[1;32mc:\\Users\\Ying\\.conda\\envs\\level8\\lib\\site-packages\\pandas\\core\\generic.py:3967\u001b[0m, in \u001b[0;36mNDFrame.to_csv\u001b[1;34m(self, path_or_buf, sep, na_rep, float_format, columns, header, index, index_label, mode, encoding, compression, quoting, quotechar, lineterminator, chunksize, date_format, doublequote, escapechar, decimal, errors, storage_options)\u001b[0m\n\u001b[0;32m   3956\u001b[0m df \u001b[38;5;241m=\u001b[39m \u001b[38;5;28mself\u001b[39m \u001b[38;5;28;01mif\u001b[39;00m \u001b[38;5;28misinstance\u001b[39m(\u001b[38;5;28mself\u001b[39m, ABCDataFrame) \u001b[38;5;28;01melse\u001b[39;00m \u001b[38;5;28mself\u001b[39m\u001b[38;5;241m.\u001b[39mto_frame()\n\u001b[0;32m   3958\u001b[0m formatter \u001b[38;5;241m=\u001b[39m DataFrameFormatter(\n\u001b[0;32m   3959\u001b[0m     frame\u001b[38;5;241m=\u001b[39mdf,\n\u001b[0;32m   3960\u001b[0m     header\u001b[38;5;241m=\u001b[39mheader,\n\u001b[1;32m   (...)\u001b[0m\n\u001b[0;32m   3964\u001b[0m     decimal\u001b[38;5;241m=\u001b[39mdecimal,\n\u001b[0;32m   3965\u001b[0m )\n\u001b[1;32m-> 3967\u001b[0m \u001b[38;5;28;01mreturn\u001b[39;00m \u001b[43mDataFrameRenderer\u001b[49m\u001b[43m(\u001b[49m\u001b[43mformatter\u001b[49m\u001b[43m)\u001b[49m\u001b[38;5;241;43m.\u001b[39;49m\u001b[43mto_csv\u001b[49m\u001b[43m(\u001b[49m\n\u001b[0;32m   3968\u001b[0m \u001b[43m    \u001b[49m\u001b[43mpath_or_buf\u001b[49m\u001b[43m,\u001b[49m\n\u001b[0;32m   3969\u001b[0m \u001b[43m    \u001b[49m\u001b[43mlineterminator\u001b[49m\u001b[38;5;241;43m=\u001b[39;49m\u001b[43mlineterminator\u001b[49m\u001b[43m,\u001b[49m\n\u001b[0;32m   3970\u001b[0m \u001b[43m    \u001b[49m\u001b[43msep\u001b[49m\u001b[38;5;241;43m=\u001b[39;49m\u001b[43msep\u001b[49m\u001b[43m,\u001b[49m\n\u001b[0;32m   3971\u001b[0m \u001b[43m    \u001b[49m\u001b[43mencoding\u001b[49m\u001b[38;5;241;43m=\u001b[39;49m\u001b[43mencoding\u001b[49m\u001b[43m,\u001b[49m\n\u001b[0;32m   3972\u001b[0m \u001b[43m    \u001b[49m\u001b[43merrors\u001b[49m\u001b[38;5;241;43m=\u001b[39;49m\u001b[43merrors\u001b[49m\u001b[43m,\u001b[49m\n\u001b[0;32m   3973\u001b[0m \u001b[43m    \u001b[49m\u001b[43mcompression\u001b[49m\u001b[38;5;241;43m=\u001b[39;49m\u001b[43mcompression\u001b[49m\u001b[43m,\u001b[49m\n\u001b[0;32m   3974\u001b[0m \u001b[43m    \u001b[49m\u001b[43mquoting\u001b[49m\u001b[38;5;241;43m=\u001b[39;49m\u001b[43mquoting\u001b[49m\u001b[43m,\u001b[49m\n\u001b[0;32m   3975\u001b[0m \u001b[43m    \u001b[49m\u001b[43mcolumns\u001b[49m\u001b[38;5;241;43m=\u001b[39;49m\u001b[43mcolumns\u001b[49m\u001b[43m,\u001b[49m\n\u001b[0;32m   3976\u001b[0m \u001b[43m    \u001b[49m\u001b[43mindex_label\u001b[49m\u001b[38;5;241;43m=\u001b[39;49m\u001b[43mindex_label\u001b[49m\u001b[43m,\u001b[49m\n\u001b[0;32m   3977\u001b[0m \u001b[43m    \u001b[49m\u001b[43mmode\u001b[49m\u001b[38;5;241;43m=\u001b[39;49m\u001b[43mmode\u001b[49m\u001b[43m,\u001b[49m\n\u001b[0;32m   3978\u001b[0m \u001b[43m    \u001b[49m\u001b[43mchunksize\u001b[49m\u001b[38;5;241;43m=\u001b[39;49m\u001b[43mchunksize\u001b[49m\u001b[43m,\u001b[49m\n\u001b[0;32m   3979\u001b[0m \u001b[43m    \u001b[49m\u001b[43mquotechar\u001b[49m\u001b[38;5;241;43m=\u001b[39;49m\u001b[43mquotechar\u001b[49m\u001b[43m,\u001b[49m\n\u001b[0;32m   3980\u001b[0m \u001b[43m    \u001b[49m\u001b[43mdate_format\u001b[49m\u001b[38;5;241;43m=\u001b[39;49m\u001b[43mdate_format\u001b[49m\u001b[43m,\u001b[49m\n\u001b[0;32m   3981\u001b[0m \u001b[43m    \u001b[49m\u001b[43mdoublequote\u001b[49m\u001b[38;5;241;43m=\u001b[39;49m\u001b[43mdoublequote\u001b[49m\u001b[43m,\u001b[49m\n\u001b[0;32m   3982\u001b[0m \u001b[43m    \u001b[49m\u001b[43mescapechar\u001b[49m\u001b[38;5;241;43m=\u001b[39;49m\u001b[43mescapechar\u001b[49m\u001b[43m,\u001b[49m\n\u001b[0;32m   3983\u001b[0m \u001b[43m    \u001b[49m\u001b[43mstorage_options\u001b[49m\u001b[38;5;241;43m=\u001b[39;49m\u001b[43mstorage_options\u001b[49m\u001b[43m,\u001b[49m\n\u001b[0;32m   3984\u001b[0m \u001b[43m\u001b[49m\u001b[43m)\u001b[49m\n",
      "File \u001b[1;32mc:\\Users\\Ying\\.conda\\envs\\level8\\lib\\site-packages\\pandas\\io\\formats\\format.py:1014\u001b[0m, in \u001b[0;36mDataFrameRenderer.to_csv\u001b[1;34m(self, path_or_buf, encoding, sep, columns, index_label, mode, compression, quoting, quotechar, lineterminator, chunksize, date_format, doublequote, escapechar, errors, storage_options)\u001b[0m\n\u001b[0;32m    993\u001b[0m     created_buffer \u001b[38;5;241m=\u001b[39m \u001b[38;5;28;01mFalse\u001b[39;00m\n\u001b[0;32m    995\u001b[0m csv_formatter \u001b[38;5;241m=\u001b[39m CSVFormatter(\n\u001b[0;32m    996\u001b[0m     path_or_buf\u001b[38;5;241m=\u001b[39mpath_or_buf,\n\u001b[0;32m    997\u001b[0m     lineterminator\u001b[38;5;241m=\u001b[39mlineterminator,\n\u001b[1;32m   (...)\u001b[0m\n\u001b[0;32m   1012\u001b[0m     formatter\u001b[38;5;241m=\u001b[39m\u001b[38;5;28mself\u001b[39m\u001b[38;5;241m.\u001b[39mfmt,\n\u001b[0;32m   1013\u001b[0m )\n\u001b[1;32m-> 1014\u001b[0m \u001b[43mcsv_formatter\u001b[49m\u001b[38;5;241;43m.\u001b[39;49m\u001b[43msave\u001b[49m\u001b[43m(\u001b[49m\u001b[43m)\u001b[49m\n\u001b[0;32m   1016\u001b[0m \u001b[38;5;28;01mif\u001b[39;00m created_buffer:\n\u001b[0;32m   1017\u001b[0m     \u001b[38;5;28;01massert\u001b[39;00m \u001b[38;5;28misinstance\u001b[39m(path_or_buf, StringIO)\n",
      "File \u001b[1;32mc:\\Users\\Ying\\.conda\\envs\\level8\\lib\\site-packages\\pandas\\io\\formats\\csvs.py:251\u001b[0m, in \u001b[0;36mCSVFormatter.save\u001b[1;34m(self)\u001b[0m\n\u001b[0;32m    247\u001b[0m \u001b[38;5;250m\u001b[39m\u001b[38;5;124;03m\"\"\"\u001b[39;00m\n\u001b[0;32m    248\u001b[0m \u001b[38;5;124;03mCreate the writer & save.\u001b[39;00m\n\u001b[0;32m    249\u001b[0m \u001b[38;5;124;03m\"\"\"\u001b[39;00m\n\u001b[0;32m    250\u001b[0m \u001b[38;5;66;03m# apply compression and byte/text conversion\u001b[39;00m\n\u001b[1;32m--> 251\u001b[0m \u001b[38;5;28;01mwith\u001b[39;00m \u001b[43mget_handle\u001b[49m\u001b[43m(\u001b[49m\n\u001b[0;32m    252\u001b[0m \u001b[43m    \u001b[49m\u001b[38;5;28;43mself\u001b[39;49m\u001b[38;5;241;43m.\u001b[39;49m\u001b[43mfilepath_or_buffer\u001b[49m\u001b[43m,\u001b[49m\n\u001b[0;32m    253\u001b[0m \u001b[43m    \u001b[49m\u001b[38;5;28;43mself\u001b[39;49m\u001b[38;5;241;43m.\u001b[39;49m\u001b[43mmode\u001b[49m\u001b[43m,\u001b[49m\n\u001b[0;32m    254\u001b[0m \u001b[43m    \u001b[49m\u001b[43mencoding\u001b[49m\u001b[38;5;241;43m=\u001b[39;49m\u001b[38;5;28;43mself\u001b[39;49m\u001b[38;5;241;43m.\u001b[39;49m\u001b[43mencoding\u001b[49m\u001b[43m,\u001b[49m\n\u001b[0;32m    255\u001b[0m \u001b[43m    \u001b[49m\u001b[43merrors\u001b[49m\u001b[38;5;241;43m=\u001b[39;49m\u001b[38;5;28;43mself\u001b[39;49m\u001b[38;5;241;43m.\u001b[39;49m\u001b[43merrors\u001b[49m\u001b[43m,\u001b[49m\n\u001b[0;32m    256\u001b[0m \u001b[43m    \u001b[49m\u001b[43mcompression\u001b[49m\u001b[38;5;241;43m=\u001b[39;49m\u001b[38;5;28;43mself\u001b[39;49m\u001b[38;5;241;43m.\u001b[39;49m\u001b[43mcompression\u001b[49m\u001b[43m,\u001b[49m\n\u001b[0;32m    257\u001b[0m \u001b[43m    \u001b[49m\u001b[43mstorage_options\u001b[49m\u001b[38;5;241;43m=\u001b[39;49m\u001b[38;5;28;43mself\u001b[39;49m\u001b[38;5;241;43m.\u001b[39;49m\u001b[43mstorage_options\u001b[49m\u001b[43m,\u001b[49m\n\u001b[0;32m    258\u001b[0m \u001b[43m\u001b[49m\u001b[43m)\u001b[49m \u001b[38;5;28;01mas\u001b[39;00m handles:\n\u001b[0;32m    259\u001b[0m     \u001b[38;5;66;03m# Note: self.encoding is irrelevant here\u001b[39;00m\n\u001b[0;32m    260\u001b[0m     \u001b[38;5;28mself\u001b[39m\u001b[38;5;241m.\u001b[39mwriter \u001b[38;5;241m=\u001b[39m csvlib\u001b[38;5;241m.\u001b[39mwriter(\n\u001b[0;32m    261\u001b[0m         handles\u001b[38;5;241m.\u001b[39mhandle,\n\u001b[0;32m    262\u001b[0m         lineterminator\u001b[38;5;241m=\u001b[39m\u001b[38;5;28mself\u001b[39m\u001b[38;5;241m.\u001b[39mlineterminator,\n\u001b[1;32m   (...)\u001b[0m\n\u001b[0;32m    267\u001b[0m         quotechar\u001b[38;5;241m=\u001b[39m\u001b[38;5;28mself\u001b[39m\u001b[38;5;241m.\u001b[39mquotechar,\n\u001b[0;32m    268\u001b[0m     )\n\u001b[0;32m    270\u001b[0m     \u001b[38;5;28mself\u001b[39m\u001b[38;5;241m.\u001b[39m_save()\n",
      "File \u001b[1;32mc:\\Users\\Ying\\.conda\\envs\\level8\\lib\\site-packages\\pandas\\io\\common.py:749\u001b[0m, in \u001b[0;36mget_handle\u001b[1;34m(path_or_buf, mode, encoding, compression, memory_map, is_text, errors, storage_options)\u001b[0m\n\u001b[0;32m    747\u001b[0m \u001b[38;5;66;03m# Only for write methods\u001b[39;00m\n\u001b[0;32m    748\u001b[0m \u001b[38;5;28;01mif\u001b[39;00m \u001b[38;5;124m\"\u001b[39m\u001b[38;5;124mr\u001b[39m\u001b[38;5;124m\"\u001b[39m \u001b[38;5;129;01mnot\u001b[39;00m \u001b[38;5;129;01min\u001b[39;00m mode \u001b[38;5;129;01mand\u001b[39;00m is_path:\n\u001b[1;32m--> 749\u001b[0m     \u001b[43mcheck_parent_directory\u001b[49m\u001b[43m(\u001b[49m\u001b[38;5;28;43mstr\u001b[39;49m\u001b[43m(\u001b[49m\u001b[43mhandle\u001b[49m\u001b[43m)\u001b[49m\u001b[43m)\u001b[49m\n\u001b[0;32m    751\u001b[0m \u001b[38;5;28;01mif\u001b[39;00m compression:\n\u001b[0;32m    752\u001b[0m     \u001b[38;5;28;01mif\u001b[39;00m compression \u001b[38;5;241m!=\u001b[39m \u001b[38;5;124m\"\u001b[39m\u001b[38;5;124mzstd\u001b[39m\u001b[38;5;124m\"\u001b[39m:\n\u001b[0;32m    753\u001b[0m         \u001b[38;5;66;03m# compression libraries do not like an explicit text-mode\u001b[39;00m\n",
      "File \u001b[1;32mc:\\Users\\Ying\\.conda\\envs\\level8\\lib\\site-packages\\pandas\\io\\common.py:616\u001b[0m, in \u001b[0;36mcheck_parent_directory\u001b[1;34m(path)\u001b[0m\n\u001b[0;32m    614\u001b[0m parent \u001b[38;5;241m=\u001b[39m Path(path)\u001b[38;5;241m.\u001b[39mparent\n\u001b[0;32m    615\u001b[0m \u001b[38;5;28;01mif\u001b[39;00m \u001b[38;5;129;01mnot\u001b[39;00m parent\u001b[38;5;241m.\u001b[39mis_dir():\n\u001b[1;32m--> 616\u001b[0m     \u001b[38;5;28;01mraise\u001b[39;00m \u001b[38;5;167;01mOSError\u001b[39;00m(\u001b[38;5;124mrf\u001b[39m\u001b[38;5;124m\"\u001b[39m\u001b[38;5;124mCannot save file into a non-existent directory: \u001b[39m\u001b[38;5;124m'\u001b[39m\u001b[38;5;132;01m{\u001b[39;00mparent\u001b[38;5;132;01m}\u001b[39;00m\u001b[38;5;124m'\u001b[39m\u001b[38;5;124m\"\u001b[39m)\n",
      "\u001b[1;31mOSError\u001b[0m: Cannot save file into a non-existent directory: 'Data\\soil data'"
     ]
    }
   ],
   "source": [
    "whangamarie['Location'] = 'South Auckland'\n",
    "whangamarie['Land position'] = 'Terrace edge'\n",
    "whangamarie['Slope(degree)'] = '0-3'\n",
    "whangamarie['Soil Order'] = 'Allophanic'\n",
    "whangamarie['Soil Types / Series'] = 'Mauku silt loam'\n",
    "whangamarie['NZ Soil Classification'] = 'Typic Orthic Allophanic'\n",
    "whangamarie['Soil Profile Description'] = '0-15cm brown sandy loam, powdery structure friable consistence(when dry); 15-30cm Pale brown silt loam containing a little sand, powdery structure, friable consistence.; 30+cm orange brown clay loam, crumbly structure, firm consistence (slightly moist)'\n",
    "whangamarie['Pastoral land use'] = 'Lifestyle block'\n",
    "whangamarie.head()\n",
    "whangamarie.to_csv('./Data/soil data/whangamarie_soil_data.csv')\n"
   ]
  },
  {
   "cell_type": "markdown",
   "metadata": {},
   "source": [
    "Data Transformation\n"
   ]
  },
  {
   "cell_type": "code",
   "execution_count": null,
   "metadata": {},
   "outputs": [],
   "source": []
  },
  {
   "cell_type": "markdown",
   "metadata": {},
   "source": [
    "Feature Engineering: Scaling, Normalization and Standardization\n"
   ]
  },
  {
   "cell_type": "code",
   "execution_count": null,
   "metadata": {},
   "outputs": [],
   "source": []
  },
  {
   "cell_type": "markdown",
   "metadata": {},
   "source": [
    "Feature Selection\n"
   ]
  },
  {
   "cell_type": "code",
   "execution_count": null,
   "metadata": {},
   "outputs": [],
   "source": []
  },
  {
   "cell_type": "markdown",
   "metadata": {},
   "source": [
    "Handling Imbalanced Data\n"
   ]
  },
  {
   "cell_type": "code",
   "execution_count": null,
   "metadata": {},
   "outputs": [],
   "source": []
  },
  {
   "cell_type": "markdown",
   "metadata": {},
   "source": [
    "Encoding Categorical Features\n"
   ]
  },
  {
   "cell_type": "code",
   "execution_count": null,
   "metadata": {},
   "outputs": [],
   "source": []
  },
  {
   "cell_type": "markdown",
   "metadata": {},
   "source": [
    "Data Splitting"
   ]
  },
  {
   "cell_type": "code",
   "execution_count": null,
   "metadata": {},
   "outputs": [],
   "source": []
  }
 ],
 "metadata": {
  "kernelspec": {
   "display_name": "level8",
   "language": "python",
   "name": "python3"
  },
  "language_info": {
   "codemirror_mode": {
    "name": "ipython",
    "version": 3
   },
   "file_extension": ".py",
   "mimetype": "text/x-python",
   "name": "python",
   "nbconvert_exporter": "python",
   "pygments_lexer": "ipython3",
   "version": "3.10.14"
  }
 },
 "nbformat": 4,
 "nbformat_minor": 2
}
