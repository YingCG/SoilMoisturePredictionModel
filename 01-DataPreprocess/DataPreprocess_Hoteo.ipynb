{
 "cells": [
  {
   "cell_type": "markdown",
   "metadata": {},
   "source": [
    "# Step 1: Data Collection"
   ]
  },
  {
   "cell_type": "code",
   "execution_count": 3,
   "metadata": {},
   "outputs": [
    {
     "name": "stdout",
     "output_type": "stream",
     "text": [
      "      Timestamp (UTC+12:00)  SoilMoisture(%)\n",
      "0       2023-02-08 05:15:00           47.376\n",
      "1       2023-02-08 05:30:00           47.472\n",
      "2       2023-02-08 05:45:00           47.472\n",
      "3       2023-02-08 06:00:00           47.472\n",
      "4       2023-02-08 06:15:00           47.472\n",
      "55648   2024-09-09 20:30:00           50.241\n",
      "55649   2024-09-09 20:45:00           50.239\n",
      "55650   2024-09-09 21:00:00           50.433\n",
      "55651   2024-09-09 21:15:00           50.433\n",
      "55652   2024-09-09 21:30:00           50.433\n"
     ]
    }
   ],
   "source": [
    "# import library\n",
    "import numpy as np\n",
    "import pandas as pd\n",
    "import matplotlib.pyplot as plt\n",
    "import seaborn as sns\n",
    "%matplotlib inline\n",
    "\n",
    "# Soil Moisture data in Hoteo\n",
    "sm = pd.read_csv('../Data/soil data/HoteoatOldfields-643510-20240909094142/HoteoOldfields-SoilMoistureContinuous@643510-20240909094133.csv', parse_dates=['Timestamp (UTC+12:00)'])\n",
    "sm.head(5)\n",
    "\n",
    "# smheadtail = (np.r_[0:5, -5:0])\n",
    "smheadtail = sm.iloc[np.r_[0:5, -5:0]]\n",
    "print(smheadtail)"
   ]
  },
  {
   "cell_type": "code",
   "execution_count": 4,
   "metadata": {},
   "outputs": [
    {
     "name": "stdout",
     "output_type": "stream",
     "text": [
      "       Timestamp (UTC+12:00)  SoilTemp(c)\n",
      "0        2015-10-21 10:29:00        0.000\n",
      "1        2015-10-21 10:30:00       16.100\n",
      "2        2015-10-21 10:45:00       16.400\n",
      "3        2015-10-21 11:00:00       16.500\n",
      "4        2015-10-21 11:15:00       16.600\n",
      "310967   2024-09-09 20:30:00       15.511\n",
      "310968   2024-09-09 20:45:00       15.511\n",
      "310969   2024-09-09 21:00:00       15.355\n",
      "310970   2024-09-09 21:15:00       15.355\n",
      "310971   2024-09-09 21:30:00       15.355\n"
     ]
    }
   ],
   "source": [
    "# Soil Temperature data in Hoteo\n",
    "st = pd.read_csv('../Data/soil data/HoteoatOldfields-643510-20240909094142/HoteoOldfields-SoilTempContinuous@643510-20240909094139.csv', parse_dates=['Timestamp (UTC+12:00)'])\n",
    "st.head(5)\n",
    "\n",
    "# smheadtail = (np.r_[0:5, -5:0])\n",
    "stheadtail = st.iloc[np.r_[0:5, -5:0]]\n",
    "print(stheadtail)"
   ]
  },
  {
   "cell_type": "code",
   "execution_count": 5,
   "metadata": {},
   "outputs": [
    {
     "name": "stdout",
     "output_type": "stream",
     "text": [
      "       Timestamp (UTC+12:00)  Rain(mm)\n",
      "0        1978-05-09 01:23:00       0.0\n",
      "1        1978-05-09 01:29:00       0.5\n",
      "2        1978-05-09 01:41:00       0.0\n",
      "3        1978-05-09 01:47:00       0.5\n",
      "4        1978-05-09 08:29:00       0.0\n",
      "284909   2024-09-09 20:30:00       0.0\n",
      "284910   2024-09-09 20:45:00       0.0\n",
      "284911   2024-09-09 21:00:00       0.0\n",
      "284912   2024-09-09 21:15:00       0.0\n",
      "284913   2024-09-09 21:30:00       0.0\n"
     ]
    }
   ],
   "source": [
    "# Rainfall data in Hoteo\n",
    "rain = pd.read_csv('../Data/soil data/HoteoatOldfields-643510-20240909094142/HoteoOldfields-RainfallContinuous@643510-20240909094130.csv', parse_dates=['Timestamp (UTC+12:00)'])\n",
    "rain.head(5)\n",
    "\n",
    "# smheadtail = (np.r_[0:5, -5:0])\n",
    "rainheadtail = rain.iloc[np.r_[0:5, -5:0]]\n",
    "print(rainheadtail)"
   ]
  },
  {
   "cell_type": "markdown",
   "metadata": {},
   "source": [
    "Data Description"
   ]
  },
  {
   "cell_type": "code",
   "execution_count": 6,
   "metadata": {},
   "outputs": [
    {
     "name": "stdout",
     "output_type": "stream",
     "text": [
      "Hoteo Rainfall Data Info:\n",
      "<class 'pandas.core.frame.DataFrame'>\n",
      "RangeIndex: 284914 entries, 0 to 284913\n",
      "Data columns (total 2 columns):\n",
      " #   Column                 Non-Null Count   Dtype         \n",
      "---  ------                 --------------   -----         \n",
      " 0   Timestamp (UTC+12:00)  284914 non-null  datetime64[ns]\n",
      " 1   Rain(mm)               284896 non-null  float64       \n",
      "dtypes: datetime64[ns](1), float64(1)\n",
      "memory usage: 4.3 MB\n",
      "\n",
      "Hoteo Soil Moisture Data Info:\n",
      "<class 'pandas.core.frame.DataFrame'>\n",
      "RangeIndex: 55653 entries, 0 to 55652\n",
      "Data columns (total 2 columns):\n",
      " #   Column                 Non-Null Count  Dtype         \n",
      "---  ------                 --------------  -----         \n",
      " 0   Timestamp (UTC+12:00)  55653 non-null  datetime64[ns]\n",
      " 1   SoilMoisture(%)        55651 non-null  float64       \n",
      "dtypes: datetime64[ns](1), float64(1)\n",
      "memory usage: 869.7 KB\n",
      "\n",
      "Hoteo Soil Temperature Data Info:\n",
      "<class 'pandas.core.frame.DataFrame'>\n",
      "RangeIndex: 310972 entries, 0 to 310971\n",
      "Data columns (total 2 columns):\n",
      " #   Column                 Non-Null Count   Dtype         \n",
      "---  ------                 --------------   -----         \n",
      " 0   Timestamp (UTC+12:00)  310972 non-null  datetime64[ns]\n",
      " 1   SoilTemp(c)            310860 non-null  float64       \n",
      "dtypes: datetime64[ns](1), float64(1)\n",
      "memory usage: 4.7 MB\n"
     ]
    }
   ],
   "source": [
    "# Display info to check datatype\n",
    "print(\"Hoteo Rainfall Data Info:\")\n",
    "rain.info()\n",
    "print(\"\\nHoteo Soil Moisture Data Info:\")\n",
    "sm.info()\n",
    "print(\"\\nHoteo Soil Temperature Data Info:\")\n",
    "st.info()"
   ]
  },
  {
   "cell_type": "code",
   "execution_count": 7,
   "metadata": {},
   "outputs": [
    {
     "name": "stdout",
     "output_type": "stream",
     "text": [
      "Hoteo Rainfall Data statistics :\n"
     ]
    },
    {
     "data": {
      "text/html": [
       "<div>\n",
       "<style scoped>\n",
       "    .dataframe tbody tr th:only-of-type {\n",
       "        vertical-align: middle;\n",
       "    }\n",
       "\n",
       "    .dataframe tbody tr th {\n",
       "        vertical-align: top;\n",
       "    }\n",
       "\n",
       "    .dataframe thead th {\n",
       "        text-align: right;\n",
       "    }\n",
       "</style>\n",
       "<table border=\"1\" class=\"dataframe\">\n",
       "  <thead>\n",
       "    <tr style=\"text-align: right;\">\n",
       "      <th></th>\n",
       "      <th>Timestamp (UTC+12:00)</th>\n",
       "      <th>Rain(mm)</th>\n",
       "    </tr>\n",
       "  </thead>\n",
       "  <tbody>\n",
       "    <tr>\n",
       "      <th>count</th>\n",
       "      <td>284914</td>\n",
       "      <td>284896.000000</td>\n",
       "    </tr>\n",
       "    <tr>\n",
       "      <th>mean</th>\n",
       "      <td>2011-11-08 03:49:14.667794432</td>\n",
       "      <td>0.222728</td>\n",
       "    </tr>\n",
       "    <tr>\n",
       "      <th>min</th>\n",
       "      <td>1978-05-09 01:23:00</td>\n",
       "      <td>0.000000</td>\n",
       "    </tr>\n",
       "    <tr>\n",
       "      <th>25%</th>\n",
       "      <td>2001-11-07 23:53:00</td>\n",
       "      <td>0.000000</td>\n",
       "    </tr>\n",
       "    <tr>\n",
       "      <th>50%</th>\n",
       "      <td>2019-06-10 07:30:00</td>\n",
       "      <td>0.000000</td>\n",
       "    </tr>\n",
       "    <tr>\n",
       "      <th>75%</th>\n",
       "      <td>2022-10-29 15:26:15</td>\n",
       "      <td>0.500000</td>\n",
       "    </tr>\n",
       "    <tr>\n",
       "      <th>max</th>\n",
       "      <td>2024-09-09 21:30:00</td>\n",
       "      <td>55.040000</td>\n",
       "    </tr>\n",
       "    <tr>\n",
       "      <th>std</th>\n",
       "      <td>NaN</td>\n",
       "      <td>0.387282</td>\n",
       "    </tr>\n",
       "  </tbody>\n",
       "</table>\n",
       "</div>"
      ],
      "text/plain": [
       "               Timestamp (UTC+12:00)       Rain(mm)\n",
       "count                         284914  284896.000000\n",
       "mean   2011-11-08 03:49:14.667794432       0.222728\n",
       "min              1978-05-09 01:23:00       0.000000\n",
       "25%              2001-11-07 23:53:00       0.000000\n",
       "50%              2019-06-10 07:30:00       0.000000\n",
       "75%              2022-10-29 15:26:15       0.500000\n",
       "max              2024-09-09 21:30:00      55.040000\n",
       "std                              NaN       0.387282"
      ]
     },
     "execution_count": 7,
     "metadata": {},
     "output_type": "execute_result"
    }
   ],
   "source": [
    "# Overview of data\n",
    "print(\"Hoteo Rainfall Data statistics :\")\n",
    "rain.describe()\n"
   ]
  },
  {
   "cell_type": "code",
   "execution_count": 8,
   "metadata": {},
   "outputs": [
    {
     "name": "stdout",
     "output_type": "stream",
     "text": [
      "Hoteo Soil Moisture Data statistics :\n"
     ]
    },
    {
     "data": {
      "text/html": [
       "<div>\n",
       "<style scoped>\n",
       "    .dataframe tbody tr th:only-of-type {\n",
       "        vertical-align: middle;\n",
       "    }\n",
       "\n",
       "    .dataframe tbody tr th {\n",
       "        vertical-align: top;\n",
       "    }\n",
       "\n",
       "    .dataframe thead th {\n",
       "        text-align: right;\n",
       "    }\n",
       "</style>\n",
       "<table border=\"1\" class=\"dataframe\">\n",
       "  <thead>\n",
       "    <tr style=\"text-align: right;\">\n",
       "      <th></th>\n",
       "      <th>Timestamp (UTC+12:00)</th>\n",
       "      <th>SoilMoisture(%)</th>\n",
       "    </tr>\n",
       "  </thead>\n",
       "  <tbody>\n",
       "    <tr>\n",
       "      <th>count</th>\n",
       "      <td>55653</td>\n",
       "      <td>55651.000000</td>\n",
       "    </tr>\n",
       "    <tr>\n",
       "      <th>mean</th>\n",
       "      <td>2023-11-25 01:05:13.104414720</td>\n",
       "      <td>43.719762</td>\n",
       "    </tr>\n",
       "    <tr>\n",
       "      <th>min</th>\n",
       "      <td>2023-02-08 05:15:00</td>\n",
       "      <td>31.277000</td>\n",
       "    </tr>\n",
       "    <tr>\n",
       "      <th>25%</th>\n",
       "      <td>2023-07-03 02:45:00</td>\n",
       "      <td>36.535000</td>\n",
       "    </tr>\n",
       "    <tr>\n",
       "      <th>50%</th>\n",
       "      <td>2023-11-25 01:00:00</td>\n",
       "      <td>47.242000</td>\n",
       "    </tr>\n",
       "    <tr>\n",
       "      <th>75%</th>\n",
       "      <td>2024-04-17 23:15:00</td>\n",
       "      <td>50.294000</td>\n",
       "    </tr>\n",
       "    <tr>\n",
       "      <th>max</th>\n",
       "      <td>2024-09-09 21:30:00</td>\n",
       "      <td>59.222000</td>\n",
       "    </tr>\n",
       "    <tr>\n",
       "      <th>std</th>\n",
       "      <td>NaN</td>\n",
       "      <td>7.396094</td>\n",
       "    </tr>\n",
       "  </tbody>\n",
       "</table>\n",
       "</div>"
      ],
      "text/plain": [
       "               Timestamp (UTC+12:00)  SoilMoisture(%)\n",
       "count                          55653     55651.000000\n",
       "mean   2023-11-25 01:05:13.104414720        43.719762\n",
       "min              2023-02-08 05:15:00        31.277000\n",
       "25%              2023-07-03 02:45:00        36.535000\n",
       "50%              2023-11-25 01:00:00        47.242000\n",
       "75%              2024-04-17 23:15:00        50.294000\n",
       "max              2024-09-09 21:30:00        59.222000\n",
       "std                              NaN         7.396094"
      ]
     },
     "execution_count": 8,
     "metadata": {},
     "output_type": "execute_result"
    }
   ],
   "source": [
    "print(\"Hoteo Soil Moisture Data statistics :\")\n",
    "sm.describe()\n"
   ]
  },
  {
   "cell_type": "code",
   "execution_count": 9,
   "metadata": {},
   "outputs": [
    {
     "name": "stdout",
     "output_type": "stream",
     "text": [
      "Hoteo Soil Temperature Data statistics :\n"
     ]
    },
    {
     "data": {
      "text/html": [
       "<div>\n",
       "<style scoped>\n",
       "    .dataframe tbody tr th:only-of-type {\n",
       "        vertical-align: middle;\n",
       "    }\n",
       "\n",
       "    .dataframe tbody tr th {\n",
       "        vertical-align: top;\n",
       "    }\n",
       "\n",
       "    .dataframe thead th {\n",
       "        text-align: right;\n",
       "    }\n",
       "</style>\n",
       "<table border=\"1\" class=\"dataframe\">\n",
       "  <thead>\n",
       "    <tr style=\"text-align: right;\">\n",
       "      <th></th>\n",
       "      <th>Timestamp (UTC+12:00)</th>\n",
       "      <th>SoilTemp(c)</th>\n",
       "    </tr>\n",
       "  </thead>\n",
       "  <tbody>\n",
       "    <tr>\n",
       "      <th>count</th>\n",
       "      <td>310972</td>\n",
       "      <td>310860.000000</td>\n",
       "    </tr>\n",
       "    <tr>\n",
       "      <th>mean</th>\n",
       "      <td>2020-03-30 19:07:22.759798016</td>\n",
       "      <td>17.875659</td>\n",
       "    </tr>\n",
       "    <tr>\n",
       "      <th>min</th>\n",
       "      <td>2015-10-21 10:29:00</td>\n",
       "      <td>0.000000</td>\n",
       "    </tr>\n",
       "    <tr>\n",
       "      <th>25%</th>\n",
       "      <td>2018-01-08 04:26:15</td>\n",
       "      <td>14.200000</td>\n",
       "    </tr>\n",
       "    <tr>\n",
       "      <th>50%</th>\n",
       "      <td>2020-03-28 13:52:30</td>\n",
       "      <td>17.600000</td>\n",
       "    </tr>\n",
       "    <tr>\n",
       "      <th>75%</th>\n",
       "      <td>2022-06-21 11:18:45</td>\n",
       "      <td>21.286500</td>\n",
       "    </tr>\n",
       "    <tr>\n",
       "      <th>max</th>\n",
       "      <td>2024-09-09 21:30:00</td>\n",
       "      <td>34.000000</td>\n",
       "    </tr>\n",
       "    <tr>\n",
       "      <th>std</th>\n",
       "      <td>NaN</td>\n",
       "      <td>4.529009</td>\n",
       "    </tr>\n",
       "  </tbody>\n",
       "</table>\n",
       "</div>"
      ],
      "text/plain": [
       "               Timestamp (UTC+12:00)    SoilTemp(c)\n",
       "count                         310972  310860.000000\n",
       "mean   2020-03-30 19:07:22.759798016      17.875659\n",
       "min              2015-10-21 10:29:00       0.000000\n",
       "25%              2018-01-08 04:26:15      14.200000\n",
       "50%              2020-03-28 13:52:30      17.600000\n",
       "75%              2022-06-21 11:18:45      21.286500\n",
       "max              2024-09-09 21:30:00      34.000000\n",
       "std                              NaN       4.529009"
      ]
     },
     "execution_count": 9,
     "metadata": {},
     "output_type": "execute_result"
    }
   ],
   "source": [
    "print(\"Hoteo Soil Temperature Data statistics :\")\n",
    "st.describe()"
   ]
  },
  {
   "cell_type": "markdown",
   "metadata": {},
   "source": [
    "Data Cleaning\n"
   ]
  },
  {
   "cell_type": "code",
   "execution_count": 10,
   "metadata": {},
   "outputs": [
    {
     "name": "stdout",
     "output_type": "stream",
     "text": [
      "'Missing Value in Soil Moisture Data\n",
      "    Timestamp (UTC+12:00)  SoilMoisture(%)\n",
      "204   2023-02-10 08:00:00              NaN\n",
      "205   2023-02-10 08:29:00              NaN\n"
     ]
    }
   ],
   "source": [
    "# Display missing value\n",
    "print(\"'Missing Value in Soil Moisture Data\")\n",
    "sm.isna().sum()\n",
    "print(sm[sm['SoilMoisture(%)'].isnull()])"
   ]
  },
  {
   "cell_type": "code",
   "execution_count": 11,
   "metadata": {},
   "outputs": [
    {
     "name": "stdout",
     "output_type": "stream",
     "text": [
      "Missing Value in Soil Temperature Data\n",
      "       Timestamp (UTC+12:00)  SoilTemp(c)\n",
      "91884    2018-06-04 11:15:00          NaN\n",
      "91885    2018-06-04 11:44:00          NaN\n",
      "92909    2018-06-15 03:15:00          NaN\n",
      "92910    2018-06-15 03:44:00          NaN\n",
      "93934    2018-06-25 19:15:00          NaN\n",
      "...                      ...          ...\n",
      "244754   2022-10-19 12:59:00          NaN\n",
      "246085   2022-11-02 09:15:00          NaN\n",
      "246086   2022-11-02 10:29:00          NaN\n",
      "270585   2023-07-15 14:15:00          NaN\n",
      "270586   2023-07-17 05:29:00          NaN\n",
      "\n",
      "[112 rows x 2 columns]\n"
     ]
    }
   ],
   "source": [
    "# Display missing value\n",
    "\n",
    "print(\"Missing Value in Soil Temperature Data\")\n",
    "st.isna().sum()\n",
    "\n",
    "print(st[st['SoilTemp(c)'].isnull()])"
   ]
  },
  {
   "cell_type": "code",
   "execution_count": 12,
   "metadata": {},
   "outputs": [
    {
     "name": "stdout",
     "output_type": "stream",
     "text": [
      "Missing Value in Rainfall Data\n",
      "       Timestamp (UTC+12:00)  Rain(mm)\n",
      "139860   2018-12-26 02:00:00       NaN\n",
      "139861   2019-01-14 06:59:00       NaN\n",
      "139956   2019-02-03 05:30:00       NaN\n",
      "139957   2019-02-20 10:54:00       NaN\n",
      "157050   2020-10-01 06:45:00       NaN\n",
      "157051   2020-10-08 17:59:00       NaN\n",
      "157698   2020-12-10 00:00:00       NaN\n",
      "157699   2020-12-22 08:59:00       NaN\n",
      "157941   2021-01-24 18:30:00       NaN\n",
      "157942   2021-02-09 04:59:00       NaN\n",
      "158150   2021-02-16 12:30:00       NaN\n",
      "158151   2021-02-27 08:59:00       NaN\n",
      "158253   2021-03-18 14:15:00       NaN\n",
      "158254   2021-03-27 05:59:00       NaN\n",
      "158333   2021-04-01 16:00:00       NaN\n",
      "158334   2021-04-09 22:59:00       NaN\n",
      "158729   2021-05-01 03:45:00       NaN\n",
      "158730   2021-05-08 05:44:00       NaN\n"
     ]
    }
   ],
   "source": [
    "# Display missing value\n",
    "print(\"Missing Value in Rainfall Data\")\n",
    "rain.isna().sum()\n",
    "print(rain[rain['Rain(mm)'].isnull()])"
   ]
  },
  {
   "cell_type": "markdown",
   "metadata": {},
   "source": [
    "# Step 2: Handle Missing Values"
   ]
  },
  {
   "cell_type": "code",
   "execution_count": 13,
   "metadata": {},
   "outputs": [],
   "source": [
    "# soil moisture and soil temperature using linear to fill data\n",
    "sm.interpolate(method='linear', inplace=True)\n",
    "st.interpolate(method='linear', inplace=True)\n",
    "\n",
    "# soil moisture and soil temperature using linear to fill data\n",
    "rain.fillna(0, inplace=True)\n"
   ]
  },
  {
   "cell_type": "code",
   "execution_count": 14,
   "metadata": {},
   "outputs": [],
   "source": [
    "# double check missing value\n",
    "\n",
    "# sm.isna().sum()\n",
    "# st.isna().sum()\n",
    "# rain.isna().sum()\n"
   ]
  },
  {
   "cell_type": "markdown",
   "metadata": {},
   "source": [
    "# Step 3: Resample Data to 15 minutes interval"
   ]
  },
  {
   "cell_type": "code",
   "execution_count": 15,
   "metadata": {},
   "outputs": [],
   "source": [
    "sm.set_index('Timestamp (UTC+12:00)', inplace=True)\n",
    "st.set_index('Timestamp (UTC+12:00)', inplace=True)\n",
    "rain.set_index('Timestamp (UTC+12:00)', inplace=True)\n"
   ]
  },
  {
   "cell_type": "code",
   "execution_count": 16,
   "metadata": {},
   "outputs": [
    {
     "name": "stderr",
     "output_type": "stream",
     "text": [
      "C:\\Users\\Ying\\AppData\\Local\\Temp\\ipykernel_1340\\3335301185.py:2: FutureWarning: 'T' is deprecated and will be removed in a future version, please use 'min' instead.\n",
      "  soil_moisture_15mins = sm.resample('15T').mean()\n",
      "C:\\Users\\Ying\\AppData\\Local\\Temp\\ipykernel_1340\\3335301185.py:4: FutureWarning: 'T' is deprecated and will be removed in a future version, please use 'min' instead.\n",
      "  soil_temp_15mins = st.resample('15T').mean()\n",
      "C:\\Users\\Ying\\AppData\\Local\\Temp\\ipykernel_1340\\3335301185.py:5: FutureWarning: 'T' is deprecated and will be removed in a future version, please use 'min' instead.\n",
      "  rainfall_15mins = rain.resample('15T').sum()\n"
     ]
    }
   ],
   "source": [
    "# soil_moisture_30min = sm.resample('30T').mean()\n",
    "soil_moisture_15mins = sm.resample('15T').mean()\n",
    "\n",
    "soil_temp_15mins = st.resample('15T').mean()\n",
    "rainfall_15mins = rain.resample('15T').sum()\n"
   ]
  },
  {
   "cell_type": "markdown",
   "metadata": {},
   "source": [
    "# Step 4: Combine Data"
   ]
  },
  {
   "cell_type": "code",
   "execution_count": 17,
   "metadata": {},
   "outputs": [],
   "source": [
    "# Determine the latest common start date\n",
    "latest_start_date = max(rainfall_15mins.index.min(), soil_moisture_15mins.index.min(), soil_temp_15mins.index.min())\n",
    "end_date = min(rainfall_15mins.index.max(), soil_moisture_15mins.index.max(), soil_temp_15mins.index.max())\n"
   ]
  },
  {
   "cell_type": "code",
   "execution_count": 18,
   "metadata": {},
   "outputs": [],
   "source": [
    "# Filter datasets to the common time range\n",
    "soil_moisture_15mins = soil_moisture_15mins[latest_start_date:end_date]\n",
    "soil_temp_15mins = soil_temp_15mins[latest_start_date:end_date]\n",
    "rainfall_15mins = rainfall_15mins[latest_start_date:end_date]\n"
   ]
  },
  {
   "cell_type": "code",
   "execution_count": 19,
   "metadata": {},
   "outputs": [],
   "source": [
    "# Merge datasets on the timestamp\n",
    "combined_data_15mins = rainfall_15mins.join(soil_temp_15mins, how='inner', rsuffix='_soil_moisture')\n",
    "combined_data_15mins = combined_data_15mins.join(soil_moisture_15mins, how='inner', rsuffix='_soil_temp')\n",
    "combined_data_15mins.dropna(inplace=True)  # Drop any rows with missing values after merging\n"
   ]
  },
  {
   "cell_type": "code",
   "execution_count": 21,
   "metadata": {},
   "outputs": [
    {
     "name": "stdout",
     "output_type": "stream",
     "text": [
      "Combined data (15-minute intervals) saved successfully.\n"
     ]
    }
   ],
   "source": [
    "# Save the combined data to a new CSV file\n",
    "combined_data_15mins.to_csv('../Data/soil data/HoteoatOldfields-643510-20240909094142/hoteoCombined_Data_15mins.csv')\n",
    "print(\"Combined data (15-minute intervals) saved successfully.\")"
   ]
  },
  {
   "cell_type": "code",
   "execution_count": null,
   "metadata": {},
   "outputs": [
    {
     "data": {
      "text/html": [
       "<div>\n",
       "<style scoped>\n",
       "    .dataframe tbody tr th:only-of-type {\n",
       "        vertical-align: middle;\n",
       "    }\n",
       "\n",
       "    .dataframe tbody tr th {\n",
       "        vertical-align: top;\n",
       "    }\n",
       "\n",
       "    .dataframe thead th {\n",
       "        text-align: right;\n",
       "    }\n",
       "</style>\n",
       "<table border=\"1\" class=\"dataframe\">\n",
       "  <thead>\n",
       "    <tr style=\"text-align: right;\">\n",
       "      <th></th>\n",
       "      <th>Timestamp (UTC+12:00)</th>\n",
       "      <th>SoilMoisture(%)</th>\n",
       "      <th>SoilTemp(c)</th>\n",
       "      <th>Rain(mm)</th>\n",
       "    </tr>\n",
       "  </thead>\n",
       "  <tbody>\n",
       "    <tr>\n",
       "      <th>0</th>\n",
       "      <td>2023-02-08 05:15:00</td>\n",
       "      <td>47.376</td>\n",
       "      <td>21.8</td>\n",
       "      <td>0.0</td>\n",
       "    </tr>\n",
       "    <tr>\n",
       "      <th>1</th>\n",
       "      <td>2023-02-08 05:30:00</td>\n",
       "      <td>47.472</td>\n",
       "      <td>21.7</td>\n",
       "      <td>0.0</td>\n",
       "    </tr>\n",
       "    <tr>\n",
       "      <th>2</th>\n",
       "      <td>2023-02-08 05:45:00</td>\n",
       "      <td>47.472</td>\n",
       "      <td>21.6</td>\n",
       "      <td>0.0</td>\n",
       "    </tr>\n",
       "    <tr>\n",
       "      <th>3</th>\n",
       "      <td>2023-02-08 06:00:00</td>\n",
       "      <td>47.472</td>\n",
       "      <td>21.5</td>\n",
       "      <td>0.0</td>\n",
       "    </tr>\n",
       "    <tr>\n",
       "      <th>4</th>\n",
       "      <td>2023-02-08 06:15:00</td>\n",
       "      <td>47.472</td>\n",
       "      <td>21.4</td>\n",
       "      <td>0.0</td>\n",
       "    </tr>\n",
       "  </tbody>\n",
       "</table>\n",
       "</div>"
      ],
      "text/plain": [
       "  Timestamp (UTC+12:00)  SoilMoisture(%)  SoilTemp(c)  Rain(mm)\n",
       "0   2023-02-08 05:15:00           47.376         21.8       0.0\n",
       "1   2023-02-08 05:30:00           47.472         21.7       0.0\n",
       "2   2023-02-08 05:45:00           47.472         21.6       0.0\n",
       "3   2023-02-08 06:00:00           47.472         21.5       0.0\n",
       "4   2023-02-08 06:15:00           47.472         21.4       0.0"
      ]
     },
     "execution_count": 22,
     "metadata": {},
     "output_type": "execute_result"
    }
   ],
   "source": [
    "hoteo = pd.read_csv('./Data/soil data/HoteoatOldfields-643510-20240909094142/hoteoCombined_Data_15mins.csv', parse_dates=['Timestamp (UTC+12:00)'])\n",
    "hoteo.head()"
   ]
  },
  {
   "cell_type": "code",
   "execution_count": null,
   "metadata": {},
   "outputs": [
    {
     "data": {
      "text/html": [
       "<div>\n",
       "<style scoped>\n",
       "    .dataframe tbody tr th:only-of-type {\n",
       "        vertical-align: middle;\n",
       "    }\n",
       "\n",
       "    .dataframe tbody tr th {\n",
       "        vertical-align: top;\n",
       "    }\n",
       "\n",
       "    .dataframe thead th {\n",
       "        text-align: right;\n",
       "    }\n",
       "</style>\n",
       "<table border=\"1\" class=\"dataframe\">\n",
       "  <thead>\n",
       "    <tr style=\"text-align: right;\">\n",
       "      <th></th>\n",
       "      <th>Timestamp (UTC+12:00)</th>\n",
       "      <th>SoilMoisture(%)</th>\n",
       "      <th>SoilTemp(c)</th>\n",
       "      <th>Rain(mm)</th>\n",
       "    </tr>\n",
       "  </thead>\n",
       "  <tbody>\n",
       "    <tr>\n",
       "      <th>count</th>\n",
       "      <td>55495</td>\n",
       "      <td>55495.000000</td>\n",
       "      <td>55495.000000</td>\n",
       "      <td>55495.000000</td>\n",
       "    </tr>\n",
       "    <tr>\n",
       "      <th>mean</th>\n",
       "      <td>2023-11-25 10:11:59.902693888</td>\n",
       "      <td>43.701477</td>\n",
       "      <td>17.050040</td>\n",
       "      <td>0.045854</td>\n",
       "    </tr>\n",
       "    <tr>\n",
       "      <th>min</th>\n",
       "      <td>2023-02-08 05:15:00</td>\n",
       "      <td>31.277000</td>\n",
       "      <td>7.500000</td>\n",
       "      <td>0.000000</td>\n",
       "    </tr>\n",
       "    <tr>\n",
       "      <th>25%</th>\n",
       "      <td>2023-07-02 17:37:30</td>\n",
       "      <td>36.529000</td>\n",
       "      <td>13.700000</td>\n",
       "      <td>0.000000</td>\n",
       "    </tr>\n",
       "    <tr>\n",
       "      <th>50%</th>\n",
       "      <td>2023-11-25 20:45:00</td>\n",
       "      <td>47.209000</td>\n",
       "      <td>16.600000</td>\n",
       "      <td>0.000000</td>\n",
       "    </tr>\n",
       "    <tr>\n",
       "      <th>75%</th>\n",
       "      <td>2024-04-18 09:07:30</td>\n",
       "      <td>50.292000</td>\n",
       "      <td>20.000000</td>\n",
       "      <td>0.000000</td>\n",
       "    </tr>\n",
       "    <tr>\n",
       "      <th>max</th>\n",
       "      <td>2024-09-09 21:30:00</td>\n",
       "      <td>59.222000</td>\n",
       "      <td>29.500000</td>\n",
       "      <td>14.470000</td>\n",
       "    </tr>\n",
       "    <tr>\n",
       "      <th>std</th>\n",
       "      <td>NaN</td>\n",
       "      <td>7.398281</td>\n",
       "      <td>4.129613</td>\n",
       "      <td>0.293859</td>\n",
       "    </tr>\n",
       "  </tbody>\n",
       "</table>\n",
       "</div>"
      ],
      "text/plain": [
       "               Timestamp (UTC+12:00)  SoilMoisture(%)   SoilTemp(c)  \\\n",
       "count                          55495     55495.000000  55495.000000   \n",
       "mean   2023-11-25 10:11:59.902693888        43.701477     17.050040   \n",
       "min              2023-02-08 05:15:00        31.277000      7.500000   \n",
       "25%              2023-07-02 17:37:30        36.529000     13.700000   \n",
       "50%              2023-11-25 20:45:00        47.209000     16.600000   \n",
       "75%              2024-04-18 09:07:30        50.292000     20.000000   \n",
       "max              2024-09-09 21:30:00        59.222000     29.500000   \n",
       "std                              NaN         7.398281      4.129613   \n",
       "\n",
       "           Rain(mm)  \n",
       "count  55495.000000  \n",
       "mean       0.045854  \n",
       "min        0.000000  \n",
       "25%        0.000000  \n",
       "50%        0.000000  \n",
       "75%        0.000000  \n",
       "max       14.470000  \n",
       "std        0.293859  "
      ]
     },
     "execution_count": 24,
     "metadata": {},
     "output_type": "execute_result"
    }
   ],
   "source": [
    "hoteo.describe()"
   ]
  },
  {
   "cell_type": "code",
   "execution_count": null,
   "metadata": {},
   "outputs": [],
   "source": [
    "hoteo['Location'] = 'North Auckland'\n",
    "hoteo['Land position'] = 'Footslope'\n",
    "hoteo['Slope(degree)'] = '4-7'\n",
    "hoteo['Soil Order'] = 'Ultic'\n",
    "hoteo['Soil Types / Series'] = 'Aponga clay loam (colluvial variant)'\n",
    "hoteo['NZ Soil Classification'] = 'Typic Yellow Ultic'\n",
    "hoteo['Soil Profile Description'] = '0-20cm dark grey sandy loam, nutty structure (when dry); 20-30cm pale brown silty clay with grey mottles, blocky structure (when dry)'\n",
    "hoteo['Pastoral land use'] = 'Lifestyle block'\n",
    "hoteo.head()\n",
    "hoteo.to_csv('./Data/soil data/hoteo_soil_data.csv')\n"
   ]
  },
  {
   "cell_type": "markdown",
   "metadata": {},
   "source": [
    "Data Transformation\n"
   ]
  },
  {
   "cell_type": "code",
   "execution_count": null,
   "metadata": {},
   "outputs": [],
   "source": []
  },
  {
   "cell_type": "markdown",
   "metadata": {},
   "source": [
    "Feature Engineering: Scaling, Normalization and Standardization\n"
   ]
  },
  {
   "cell_type": "code",
   "execution_count": null,
   "metadata": {},
   "outputs": [],
   "source": []
  },
  {
   "cell_type": "markdown",
   "metadata": {},
   "source": [
    "Feature Selection\n"
   ]
  },
  {
   "cell_type": "code",
   "execution_count": null,
   "metadata": {},
   "outputs": [],
   "source": []
  },
  {
   "cell_type": "markdown",
   "metadata": {},
   "source": [
    "Handling Imbalanced Data\n"
   ]
  },
  {
   "cell_type": "code",
   "execution_count": null,
   "metadata": {},
   "outputs": [],
   "source": []
  },
  {
   "cell_type": "markdown",
   "metadata": {},
   "source": [
    "Encoding Categorical Features\n"
   ]
  },
  {
   "cell_type": "code",
   "execution_count": null,
   "metadata": {},
   "outputs": [],
   "source": []
  },
  {
   "cell_type": "markdown",
   "metadata": {},
   "source": [
    "Data Splitting"
   ]
  },
  {
   "cell_type": "code",
   "execution_count": null,
   "metadata": {},
   "outputs": [],
   "source": []
  }
 ],
 "metadata": {
  "kernelspec": {
   "display_name": "level8",
   "language": "python",
   "name": "python3"
  },
  "language_info": {
   "codemirror_mode": {
    "name": "ipython",
    "version": 3
   },
   "file_extension": ".py",
   "mimetype": "text/x-python",
   "name": "python",
   "nbconvert_exporter": "python",
   "pygments_lexer": "ipython3",
   "version": "3.10.14"
  }
 },
 "nbformat": 4,
 "nbformat_minor": 2
}
