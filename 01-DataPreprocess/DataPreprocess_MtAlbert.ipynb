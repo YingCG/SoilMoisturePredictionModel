{
 "cells": [
  {
   "cell_type": "markdown",
   "metadata": {},
   "source": [
    "# Step 1: Data Collection"
   ]
  },
  {
   "cell_type": "code",
   "execution_count": 1,
   "metadata": {},
   "outputs": [],
   "source": [
    "# import library\n",
    "import numpy as np\n",
    "import pandas as pd\n",
    "import matplotlib.pyplot as plt\n",
    "import seaborn as sns\n",
    "%matplotlib inline"
   ]
  },
  {
   "cell_type": "code",
   "execution_count": 2,
   "metadata": {},
   "outputs": [
    {
     "name": "stdout",
     "output_type": "stream",
     "text": [
      "                       SoilTemp(c)\n",
      "Timestamp (UTC+12:00)             \n",
      "2015-10-21 10:30:00         15.000\n",
      "2015-10-21 10:45:00         15.100\n",
      "2015-10-21 11:00:00         15.100\n",
      "2015-10-21 11:15:00         15.100\n",
      "2015-10-21 11:30:00         15.100\n",
      "2024-10-26 21:00:00         18.373\n",
      "2024-10-26 21:15:00         18.376\n",
      "2024-10-26 21:30:00         18.380\n",
      "2024-10-26 21:45:00         18.384\n",
      "2024-10-26 22:00:00         18.380\n"
     ]
    }
   ],
   "source": [
    "# Soil Temperature data in mtalbert\n",
    "st = pd.read_csv('../Data/soil data/mtalbert-648717-20241008172730/MtAlbertSoilTempContinuous@648717-20241026100525.csv', index_col='Timestamp (UTC+12:00)', parse_dates=True)\n",
    "st.head(5)\n",
    "\n",
    "# smheadtail = (np.r_[0:5, -5:0])\n",
    "stheadtail = st.iloc[np.r_[0:5, -5:0]]\n",
    "print(stheadtail)"
   ]
  },
  {
   "cell_type": "code",
   "execution_count": 3,
   "metadata": {},
   "outputs": [
    {
     "name": "stdout",
     "output_type": "stream",
     "text": [
      "                       Rain(mm)\n",
      "Timestamp (UTC+12:00)          \n",
      "2004-01-06 02:24:00        0.00\n",
      "2004-01-07 06:18:00        0.00\n",
      "2004-01-07 06:57:00        0.52\n",
      "2004-01-07 07:28:00        0.51\n",
      "2004-01-07 07:32:00        0.00\n",
      "2024-10-21 19:00:00        0.00\n",
      "2024-10-21 19:15:00        0.00\n",
      "2024-10-21 19:30:00        0.00\n",
      "2024-10-21 19:45:00        0.00\n",
      "2024-10-21 20:00:00        0.00\n"
     ]
    }
   ],
   "source": [
    "# Rainfall data in mtalbert\n",
    "rain = pd.read_csv('../Data/soil data/mtalbert-648717-20241008172730/MtAlbertRainfallContinuous@648717-20241026100512.csv', index_col='Timestamp (UTC+12:00)', parse_dates=True)\n",
    "rain.head(5)\n",
    "\n",
    "# smheadtail = (np.r_[0:5, -5:0])\n",
    "rainheadtail = rain.iloc[np.r_[0:5, -5:0]]\n",
    "print(rainheadtail)"
   ]
  },
  {
   "cell_type": "code",
   "execution_count": 4,
   "metadata": {},
   "outputs": [
    {
     "name": "stdout",
     "output_type": "stream",
     "text": [
      "                       Rain(mm)\n",
      "Timestamp (UTC+12:00)          \n",
      "2004-01-31             0.385146\n",
      "2004-02-29             0.436604\n",
      "2004-03-31             0.246667\n",
      "2004-04-30             0.327965\n",
      "2004-05-31             0.450168\n",
      "...                         ...\n",
      "2024-06-30             0.070188\n",
      "2024-07-31             0.044817\n",
      "2024-08-31             0.030314\n",
      "2024-09-30             0.041594\n",
      "2024-10-31             0.039088\n",
      "\n",
      "[250 rows x 1 columns]\n"
     ]
    },
    {
     "name": "stderr",
     "output_type": "stream",
     "text": [
      "C:\\Users\\Ying\\AppData\\Local\\Temp\\ipykernel_9732\\2823103313.py:1: FutureWarning: 'M' is deprecated and will be removed in a future version, please use 'ME' instead.\n",
      "  mtalbert_monthly_mean = rain.resample('M').mean()\n"
     ]
    }
   ],
   "source": [
    "mtalbert_monthly_mean = rain.resample('M').mean()\n",
    "print(mtalbert_monthly_mean)"
   ]
  },
  {
   "cell_type": "code",
   "execution_count": 5,
   "metadata": {},
   "outputs": [
    {
     "name": "stdout",
     "output_type": "stream",
     "text": [
      "                       SoilMoisture(%)\n",
      "Timestamp (UTC+12:00)                 \n",
      "2018-07-07 11:15:00             37.364\n",
      "2018-07-07 11:30:00             37.594\n",
      "2018-07-07 11:45:00             37.590\n",
      "2018-07-07 12:00:00             37.587\n",
      "2018-07-07 12:15:00             37.584\n",
      "2024-10-26 21:00:00             48.256\n",
      "2024-10-26 21:15:00             48.301\n",
      "2024-10-26 21:30:00             48.258\n",
      "2024-10-26 21:45:00             48.091\n",
      "2024-10-26 22:00:00             48.005\n"
     ]
    }
   ],
   "source": [
    "# Soil Moisture data in mtalbert\n",
    "sm = pd.read_csv('../Data/soil data/mtalbert-648717-20241008172730/MtAlbertSoilMoistureContinuous@648717-20241026100519.csv', index_col='Timestamp (UTC+12:00)', parse_dates=True)\n",
    "sm.head(5)\n",
    "\n",
    "# smheadtail = (np.r_[0:5, -5:0])\n",
    "smheadtail = sm.iloc[np.r_[0:5, -5:0]]\n",
    "print(smheadtail)"
   ]
  },
  {
   "cell_type": "code",
   "execution_count": 6,
   "metadata": {},
   "outputs": [
    {
     "name": "stdout",
     "output_type": "stream",
     "text": [
      "                       SoilMoisture(%)\n",
      "Timestamp (UTC+12:00)                 \n",
      "2018-07-31                   40.735383\n",
      "2018-08-31                         NaN\n",
      "2018-09-30                         NaN\n",
      "2018-10-31                         NaN\n",
      "2018-11-30                         NaN\n",
      "...                                ...\n",
      "2024-06-30                   47.276833\n",
      "2024-07-31                   48.737997\n",
      "2024-08-31                   48.964037\n",
      "2024-09-30                   49.487044\n",
      "2024-10-31                   48.254372\n",
      "\n",
      "[76 rows x 1 columns]\n"
     ]
    },
    {
     "name": "stderr",
     "output_type": "stream",
     "text": [
      "C:\\Users\\Ying\\AppData\\Local\\Temp\\ipykernel_9732\\1258324281.py:1: FutureWarning: 'M' is deprecated and will be removed in a future version, please use 'ME' instead.\n",
      "  mtalbert_monthly_mean = sm.resample('M').mean()\n"
     ]
    }
   ],
   "source": [
    "mtalbert_monthly_mean = sm.resample('M').mean()\n",
    "print(mtalbert_monthly_mean)"
   ]
  },
  {
   "cell_type": "code",
   "execution_count": 7,
   "metadata": {},
   "outputs": [
    {
     "name": "stdout",
     "output_type": "stream",
     "text": [
      "                       SoilMoisture(%)\n",
      "Timestamp (UTC+12:00)                 \n",
      "2018-08-31                         NaN\n",
      "2018-09-30                         NaN\n",
      "2018-10-31                         NaN\n",
      "2018-11-30                         NaN\n",
      "2018-12-31                         NaN\n",
      "2019-01-31                         NaN\n",
      "2019-02-28                         NaN\n",
      "2019-03-31                         NaN\n",
      "2019-04-30                         NaN\n"
     ]
    }
   ],
   "source": [
    "nan_rows = mtalbert_monthly_mean[mtalbert_monthly_mean.isna().any(axis=1)]\n",
    "print(nan_rows)"
   ]
  },
  {
   "cell_type": "markdown",
   "metadata": {},
   "source": [
    "Data Description"
   ]
  },
  {
   "cell_type": "code",
   "execution_count": 8,
   "metadata": {},
   "outputs": [
    {
     "name": "stdout",
     "output_type": "stream",
     "text": [
      "Mt Albert Rainfall Data Info:\n",
      "<class 'pandas.core.frame.DataFrame'>\n",
      "DatetimeIndex: 210873 entries, 2004-01-06 02:24:00 to 2024-10-21 20:00:00\n",
      "Data columns (total 1 columns):\n",
      " #   Column    Non-Null Count   Dtype  \n",
      "---  ------    --------------   -----  \n",
      " 0   Rain(mm)  210873 non-null  float64\n",
      "dtypes: float64(1)\n",
      "memory usage: 3.2 MB\n",
      "\n",
      "Mt Albert Soil Moisture Data Info:\n",
      "<class 'pandas.core.frame.DataFrame'>\n",
      "DatetimeIndex: 188099 entries, 2018-07-07 11:15:00 to 2024-10-26 22:00:00\n",
      "Data columns (total 1 columns):\n",
      " #   Column           Non-Null Count   Dtype  \n",
      "---  ------           --------------   -----  \n",
      " 0   SoilMoisture(%)  188099 non-null  float64\n",
      "dtypes: float64(1)\n",
      "memory usage: 2.9 MB\n",
      "\n",
      "Mt Albert Soil Temperature Data Info:\n",
      "<class 'pandas.core.frame.DataFrame'>\n",
      "DatetimeIndex: 315600 entries, 2015-10-21 10:30:00 to 2024-10-26 22:00:00\n",
      "Data columns (total 1 columns):\n",
      " #   Column       Non-Null Count   Dtype  \n",
      "---  ------       --------------   -----  \n",
      " 0   SoilTemp(c)  315600 non-null  float64\n",
      "dtypes: float64(1)\n",
      "memory usage: 4.8 MB\n"
     ]
    }
   ],
   "source": [
    "# Display info to check datatype\n",
    "print(\"Mt Albert Rainfall Data Info:\")\n",
    "rain.info()\n",
    "print(\"\\nMt Albert Soil Moisture Data Info:\")\n",
    "sm.info()\n",
    "print(\"\\nMt Albert Soil Temperature Data Info:\")\n",
    "st.info()"
   ]
  },
  {
   "cell_type": "code",
   "execution_count": 9,
   "metadata": {},
   "outputs": [
    {
     "name": "stdout",
     "output_type": "stream",
     "text": [
      "Mt Albert Rainfall Data statistics :\n"
     ]
    },
    {
     "data": {
      "text/html": [
       "<div>\n",
       "<style scoped>\n",
       "    .dataframe tbody tr th:only-of-type {\n",
       "        vertical-align: middle;\n",
       "    }\n",
       "\n",
       "    .dataframe tbody tr th {\n",
       "        vertical-align: top;\n",
       "    }\n",
       "\n",
       "    .dataframe thead th {\n",
       "        text-align: right;\n",
       "    }\n",
       "</style>\n",
       "<table border=\"1\" class=\"dataframe\">\n",
       "  <thead>\n",
       "    <tr style=\"text-align: right;\">\n",
       "      <th></th>\n",
       "      <th>Rain(mm)</th>\n",
       "    </tr>\n",
       "  </thead>\n",
       "  <tbody>\n",
       "    <tr>\n",
       "      <th>count</th>\n",
       "      <td>210873.000000</td>\n",
       "    </tr>\n",
       "    <tr>\n",
       "      <th>mean</th>\n",
       "      <td>0.227062</td>\n",
       "    </tr>\n",
       "    <tr>\n",
       "      <th>std</th>\n",
       "      <td>0.799602</td>\n",
       "    </tr>\n",
       "    <tr>\n",
       "      <th>min</th>\n",
       "      <td>0.000000</td>\n",
       "    </tr>\n",
       "    <tr>\n",
       "      <th>25%</th>\n",
       "      <td>0.000000</td>\n",
       "    </tr>\n",
       "    <tr>\n",
       "      <th>50%</th>\n",
       "      <td>0.000000</td>\n",
       "    </tr>\n",
       "    <tr>\n",
       "      <th>75%</th>\n",
       "      <td>0.490000</td>\n",
       "    </tr>\n",
       "    <tr>\n",
       "      <th>max</th>\n",
       "      <td>14.000000</td>\n",
       "    </tr>\n",
       "  </tbody>\n",
       "</table>\n",
       "</div>"
      ],
      "text/plain": [
       "            Rain(mm)\n",
       "count  210873.000000\n",
       "mean        0.227062\n",
       "std         0.799602\n",
       "min         0.000000\n",
       "25%         0.000000\n",
       "50%         0.000000\n",
       "75%         0.490000\n",
       "max        14.000000"
      ]
     },
     "execution_count": 9,
     "metadata": {},
     "output_type": "execute_result"
    }
   ],
   "source": [
    "# Overview of data\n",
    "print(\"Mt Albert Rainfall Data statistics :\")\n",
    "rain.describe()\n"
   ]
  },
  {
   "cell_type": "code",
   "execution_count": 10,
   "metadata": {},
   "outputs": [
    {
     "name": "stdout",
     "output_type": "stream",
     "text": [
      "\n",
      "Mt Albert  Soil Moisture Data statistics :\n"
     ]
    },
    {
     "data": {
      "text/html": [
       "<div>\n",
       "<style scoped>\n",
       "    .dataframe tbody tr th:only-of-type {\n",
       "        vertical-align: middle;\n",
       "    }\n",
       "\n",
       "    .dataframe tbody tr th {\n",
       "        vertical-align: top;\n",
       "    }\n",
       "\n",
       "    .dataframe thead th {\n",
       "        text-align: right;\n",
       "    }\n",
       "</style>\n",
       "<table border=\"1\" class=\"dataframe\">\n",
       "  <thead>\n",
       "    <tr style=\"text-align: right;\">\n",
       "      <th></th>\n",
       "      <th>SoilMoisture(%)</th>\n",
       "    </tr>\n",
       "  </thead>\n",
       "  <tbody>\n",
       "    <tr>\n",
       "      <th>count</th>\n",
       "      <td>188099.000000</td>\n",
       "    </tr>\n",
       "    <tr>\n",
       "      <th>mean</th>\n",
       "      <td>43.453771</td>\n",
       "    </tr>\n",
       "    <tr>\n",
       "      <th>std</th>\n",
       "      <td>5.151615</td>\n",
       "    </tr>\n",
       "    <tr>\n",
       "      <th>min</th>\n",
       "      <td>34.323000</td>\n",
       "    </tr>\n",
       "    <tr>\n",
       "      <th>25%</th>\n",
       "      <td>38.492000</td>\n",
       "    </tr>\n",
       "    <tr>\n",
       "      <th>50%</th>\n",
       "      <td>44.252000</td>\n",
       "    </tr>\n",
       "    <tr>\n",
       "      <th>75%</th>\n",
       "      <td>47.571000</td>\n",
       "    </tr>\n",
       "    <tr>\n",
       "      <th>max</th>\n",
       "      <td>53.250000</td>\n",
       "    </tr>\n",
       "  </tbody>\n",
       "</table>\n",
       "</div>"
      ],
      "text/plain": [
       "       SoilMoisture(%)\n",
       "count    188099.000000\n",
       "mean         43.453771\n",
       "std           5.151615\n",
       "min          34.323000\n",
       "25%          38.492000\n",
       "50%          44.252000\n",
       "75%          47.571000\n",
       "max          53.250000"
      ]
     },
     "execution_count": 10,
     "metadata": {},
     "output_type": "execute_result"
    }
   ],
   "source": [
    "print(\"\\nMt Albert  Soil Moisture Data statistics :\")\n",
    "sm.describe()\n"
   ]
  },
  {
   "cell_type": "code",
   "execution_count": 11,
   "metadata": {},
   "outputs": [
    {
     "name": "stdout",
     "output_type": "stream",
     "text": [
      "\n",
      "Mt Albert Soil Temperature Data statistics :\n"
     ]
    },
    {
     "data": {
      "text/html": [
       "<div>\n",
       "<style scoped>\n",
       "    .dataframe tbody tr th:only-of-type {\n",
       "        vertical-align: middle;\n",
       "    }\n",
       "\n",
       "    .dataframe tbody tr th {\n",
       "        vertical-align: top;\n",
       "    }\n",
       "\n",
       "    .dataframe thead th {\n",
       "        text-align: right;\n",
       "    }\n",
       "</style>\n",
       "<table border=\"1\" class=\"dataframe\">\n",
       "  <thead>\n",
       "    <tr style=\"text-align: right;\">\n",
       "      <th></th>\n",
       "      <th>SoilTemp(c)</th>\n",
       "    </tr>\n",
       "  </thead>\n",
       "  <tbody>\n",
       "    <tr>\n",
       "      <th>count</th>\n",
       "      <td>315600.000000</td>\n",
       "    </tr>\n",
       "    <tr>\n",
       "      <th>mean</th>\n",
       "      <td>17.306333</td>\n",
       "    </tr>\n",
       "    <tr>\n",
       "      <th>std</th>\n",
       "      <td>3.648079</td>\n",
       "    </tr>\n",
       "    <tr>\n",
       "      <th>min</th>\n",
       "      <td>9.400000</td>\n",
       "    </tr>\n",
       "    <tr>\n",
       "      <th>25%</th>\n",
       "      <td>14.100000</td>\n",
       "    </tr>\n",
       "    <tr>\n",
       "      <th>50%</th>\n",
       "      <td>17.300000</td>\n",
       "    </tr>\n",
       "    <tr>\n",
       "      <th>75%</th>\n",
       "      <td>20.500000</td>\n",
       "    </tr>\n",
       "    <tr>\n",
       "      <th>max</th>\n",
       "      <td>26.800000</td>\n",
       "    </tr>\n",
       "  </tbody>\n",
       "</table>\n",
       "</div>"
      ],
      "text/plain": [
       "         SoilTemp(c)\n",
       "count  315600.000000\n",
       "mean       17.306333\n",
       "std         3.648079\n",
       "min         9.400000\n",
       "25%        14.100000\n",
       "50%        17.300000\n",
       "75%        20.500000\n",
       "max        26.800000"
      ]
     },
     "execution_count": 11,
     "metadata": {},
     "output_type": "execute_result"
    }
   ],
   "source": [
    "print(\"\\nMt Albert Soil Temperature Data statistics :\")\n",
    "st.describe()"
   ]
  },
  {
   "cell_type": "markdown",
   "metadata": {},
   "source": [
    "# Step 2: Handle Missing Values"
   ]
  },
  {
   "cell_type": "markdown",
   "metadata": {},
   "source": [
    "Data Cleaning\n"
   ]
  },
  {
   "cell_type": "code",
   "execution_count": 12,
   "metadata": {},
   "outputs": [
    {
     "name": "stdout",
     "output_type": "stream",
     "text": [
      "'Missing Value in Soil Moisture Data\n",
      "Empty DataFrame\n",
      "Columns: [SoilMoisture(%)]\n",
      "Index: []\n"
     ]
    }
   ],
   "source": [
    "# Display missing value\n",
    "print(\"'Missing Value in Soil Moisture Data\")\n",
    "sm.isna().sum()\n",
    "print(sm[sm['SoilMoisture(%)'].isnull()])"
   ]
  },
  {
   "cell_type": "code",
   "execution_count": 13,
   "metadata": {},
   "outputs": [
    {
     "name": "stdout",
     "output_type": "stream",
     "text": [
      "Missing Value in Soil Temperature Data\n",
      "Empty DataFrame\n",
      "Columns: [SoilTemp(c)]\n",
      "Index: []\n"
     ]
    }
   ],
   "source": [
    "# Display missing value\n",
    "\n",
    "print(\"Missing Value in Soil Temperature Data\")\n",
    "st.isna().sum()\n",
    "\n",
    "print(st[st['SoilTemp(c)'].isnull()])"
   ]
  },
  {
   "cell_type": "code",
   "execution_count": 14,
   "metadata": {},
   "outputs": [
    {
     "name": "stdout",
     "output_type": "stream",
     "text": [
      "Missing Value in Rainfall Data\n",
      "Empty DataFrame\n",
      "Columns: [Rain(mm)]\n",
      "Index: []\n"
     ]
    }
   ],
   "source": [
    "# Display missing value\n",
    "print(\"Missing Value in Rainfall Data\")\n",
    "rain.isna().sum()\n",
    "print(rain[rain['Rain(mm)'].isnull()])"
   ]
  },
  {
   "cell_type": "code",
   "execution_count": 15,
   "metadata": {},
   "outputs": [
    {
     "name": "stdout",
     "output_type": "stream",
     "text": [
      "                       Rain(mm)\n",
      "Timestamp (UTC+12:00)          \n",
      "2021-12-01 09:08:00       14.00\n",
      "2022-07-20 11:16:00        6.50\n",
      "2022-07-20 11:16:00        6.50\n",
      "2022-07-20 11:16:00        6.50\n",
      "2022-07-20 11:16:00        6.50\n",
      "...                         ...\n",
      "2023-04-22 12:00:00        4.52\n",
      "2023-04-30 18:00:00        4.51\n",
      "2023-05-01 00:00:00        4.17\n",
      "2023-05-01 06:00:00       10.22\n",
      "2023-05-01 12:00:00        6.52\n",
      "\n",
      "[3100 rows x 1 columns]\n"
     ]
    }
   ],
   "source": [
    "mean_rain = rain['Rain(mm)'].mean()\n",
    "std_rain = rain['Rain(mm)'].std()\n",
    "\n",
    "# Define thresholds for outliers\n",
    "lower_threshold = mean_rain - 2 * std_rain\n",
    "upper_threshold = mean_rain + 2 * std_rain\n",
    "\n",
    "# Find rows with unusual values\n",
    "troubling_rows = rain[(rain['Rain(mm)'] < lower_threshold) | (rain['Rain(mm)'] > upper_threshold)]\n",
    "\n",
    "# Display the troubling rows\n",
    "print(troubling_rows)"
   ]
  },
  {
   "cell_type": "code",
   "execution_count": 16,
   "metadata": {},
   "outputs": [],
   "source": [
    "# soil moisture and soil temperature using linear to fill data\n",
    "sm.interpolate(method='linear', inplace=True)\n",
    "st.interpolate(method='linear', inplace=True)\n",
    "\n",
    "# rain fill with 0\n",
    "rain.fillna(0, inplace=True)\n"
   ]
  },
  {
   "cell_type": "code",
   "execution_count": 17,
   "metadata": {},
   "outputs": [],
   "source": [
    "# double check missing value\n",
    "\n",
    "# sm.isna().sum()\n",
    "# st.isna().sum()\n",
    "# rain.isna().sum()\n"
   ]
  },
  {
   "cell_type": "markdown",
   "metadata": {},
   "source": [
    "# Step 3: Resample Data to 15 minutes interval"
   ]
  },
  {
   "cell_type": "code",
   "execution_count": 18,
   "metadata": {},
   "outputs": [
    {
     "data": {
      "text/plain": [
       "<Axes: xlabel='Timestamp (UTC+12:00)'>"
      ]
     },
     "execution_count": 18,
     "metadata": {},
     "output_type": "execute_result"
    },
    {
     "data": {
      "image/png": "[encoded data removed]",
      "text/plain": [
       "<Figure size 640x480 with 1 Axes>"
      ]
     },
     "metadata": {},
     "output_type": "display_data"
    }
   ],
   "source": [
    "sm.plot()"
   ]
  },
  {
   "cell_type": "code",
   "execution_count": 19,
   "metadata": {},
   "outputs": [
    {
     "name": "stdout",
     "output_type": "stream",
     "text": [
      "Empty DataFrame\n",
      "Columns: [SoilMoisture(%)]\n",
      "Index: []\n"
     ]
    }
   ],
   "source": [
    "mean_moisture = sm['SoilMoisture(%)'].mean()\n",
    "std_moisture = sm['SoilMoisture(%)'].std()\n",
    "\n",
    "# Define thresholds for outliers\n",
    "lower_threshold = mean_moisture - 2 * std_moisture\n",
    "upper_threshold = mean_moisture + 2 * std_moisture\n",
    "\n",
    "# Find rows with unusual values\n",
    "troubling_rows = sm[(sm['SoilMoisture(%)'] < lower_threshold) | \n",
    "                          (sm['SoilMoisture(%)'] > upper_threshold)]\n",
    "\n",
    "# Display the troubling rows\n",
    "print(troubling_rows)"
   ]
  },
  {
   "cell_type": "code",
   "execution_count": 20,
   "metadata": {},
   "outputs": [
    {
     "data": {
      "text/plain": [
       "<Axes: xlabel='Timestamp (UTC+12:00)'>"
      ]
     },
     "execution_count": 20,
     "metadata": {},
     "output_type": "execute_result"
    },
    {
     "data": {
      "image/png": "[encoded data removed]",
      "text/plain": [
       "<Figure size 640x480 with 1 Axes>"
      ]
     },
     "metadata": {},
     "output_type": "display_data"
    }
   ],
   "source": [
    "sm.plot()"
   ]
  },
  {
   "cell_type": "code",
   "execution_count": 21,
   "metadata": {},
   "outputs": [
    {
     "name": "stdout",
     "output_type": "stream",
     "text": [
      "                       SoilTemp(c)\n",
      "Timestamp (UTC+12:00)             \n",
      "2015-12-27 15:30:00           24.7\n",
      "2015-12-27 15:45:00           24.8\n",
      "2015-12-27 16:00:00           24.9\n",
      "2015-12-27 16:15:00           25.0\n",
      "2015-12-27 16:30:00           25.0\n",
      "...                            ...\n",
      "2024-01-23 18:45:00           24.7\n",
      "2024-01-23 19:00:00           24.7\n",
      "2024-01-23 19:15:00           24.7\n",
      "2024-01-23 19:30:00           24.7\n",
      "2024-01-23 19:45:00           24.7\n",
      "\n",
      "[1469 rows x 1 columns]\n"
     ]
    }
   ],
   "source": [
    "mean_soiltemp = st['SoilTemp(c)'].mean()\n",
    "std_soiltemp = st['SoilTemp(c)'].std()\n",
    "\n",
    "# Define thresholds for outliers\n",
    "lower_threshold = mean_soiltemp - 2 * std_soiltemp\n",
    "upper_threshold = mean_soiltemp + 2 * std_soiltemp\n",
    "\n",
    "# Find rows with unusual values\n",
    "troubling_rows = st[(st['SoilTemp(c)'] < lower_threshold) | \n",
    "                          (st['SoilTemp(c)'] > upper_threshold)]\n",
    "\n",
    "# Display the troubling rows\n",
    "print(troubling_rows)"
   ]
  },
  {
   "cell_type": "code",
   "execution_count": 22,
   "metadata": {},
   "outputs": [
    {
     "data": {
      "text/plain": [
       "<Axes: xlabel='Timestamp (UTC+12:00)'>"
      ]
     },
     "execution_count": 22,
     "metadata": {},
     "output_type": "execute_result"
    },
    {
     "data": {
      "image/png": "[encoded data removed]",
      "text/plain": [
       "<Figure size 640x480 with 1 Axes>"
      ]
     },
     "metadata": {},
     "output_type": "display_data"
    }
   ],
   "source": [
    "st.plot()"
   ]
  },
  {
   "cell_type": "code",
   "execution_count": 23,
   "metadata": {},
   "outputs": [
    {
     "name": "stdout",
     "output_type": "stream",
     "text": [
      "                       Rain(mm)\n",
      "Timestamp (UTC+12:00)          \n",
      "2021-12-01 09:08:00       14.00\n",
      "2022-07-20 11:16:00        6.50\n",
      "2022-07-20 11:16:00        6.50\n",
      "2022-07-20 11:16:00        6.50\n",
      "2022-07-20 11:16:00        6.50\n",
      "...                         ...\n",
      "2023-04-22 12:00:00        4.52\n",
      "2023-04-30 18:00:00        4.51\n",
      "2023-05-01 00:00:00        4.17\n",
      "2023-05-01 06:00:00       10.22\n",
      "2023-05-01 12:00:00        6.52\n",
      "\n",
      "[3100 rows x 1 columns]\n"
     ]
    }
   ],
   "source": [
    "mean_rain = rain['Rain(mm)'].mean()\n",
    "std_rain = rain['Rain(mm)'].std()\n",
    "\n",
    "# Define thresholds for outliers\n",
    "lower_threshold = mean_rain - 2 * std_rain\n",
    "upper_threshold = mean_rain + 2 * std_rain\n",
    "\n",
    "# Find rows with unusual values\n",
    "troubling_rows = rain[(rain['Rain(mm)'] < lower_threshold) | (rain['Rain(mm)'] > upper_threshold)]\n",
    "\n",
    "# Display the troubling rows\n",
    "print(troubling_rows)"
   ]
  },
  {
   "cell_type": "code",
   "execution_count": 24,
   "metadata": {},
   "outputs": [
    {
     "data": {
      "text/plain": [
       "<Axes: xlabel='Timestamp (UTC+12:00)'>"
      ]
     },
     "execution_count": 24,
     "metadata": {},
     "output_type": "execute_result"
    },
    {
     "data": {
      "image/png": "[encoded data removed]",
      "text/plain": [
       "<Figure size 640x480 with 1 Axes>"
      ]
     },
     "metadata": {},
     "output_type": "display_data"
    }
   ],
   "source": [
    "rain.plot()"
   ]
  },
  {
   "cell_type": "code",
   "execution_count": 25,
   "metadata": {},
   "outputs": [
    {
     "name": "stdout",
     "output_type": "stream",
     "text": [
      "2018-07-07 11:15:00 2024-10-26 22:00:00\n",
      "2015-10-21 10:30:00 2024-10-26 22:00:00\n",
      "2004-01-06 02:24:00 2024-10-21 20:00:00\n"
     ]
    }
   ],
   "source": [
    "# Check for mismatched timestamps before resampling\n",
    "print(sm.index.min(), sm.index.max())\n",
    "print(st.index.min(), st.index.max())\n",
    "print(rain.index.min(), rain.index.max())"
   ]
  },
  {
   "cell_type": "code",
   "execution_count": 26,
   "metadata": {},
   "outputs": [
    {
     "name": "stderr",
     "output_type": "stream",
     "text": [
      "C:\\Users\\Ying\\AppData\\Local\\Temp\\ipykernel_9732\\3335301185.py:2: FutureWarning: 'T' is deprecated and will be removed in a future version, please use 'min' instead.\n",
      "  soil_moisture_15mins = sm.resample('15T').mean()\n",
      "C:\\Users\\Ying\\AppData\\Local\\Temp\\ipykernel_9732\\3335301185.py:4: FutureWarning: 'T' is deprecated and will be removed in a future version, please use 'min' instead.\n",
      "  soil_temp_15mins = st.resample('15T').mean()\n",
      "C:\\Users\\Ying\\AppData\\Local\\Temp\\ipykernel_9732\\3335301185.py:5: FutureWarning: 'T' is deprecated and will be removed in a future version, please use 'min' instead.\n",
      "  rainfall_15mins = rain.resample('15T').sum()\n"
     ]
    }
   ],
   "source": [
    "# soil_moisture_30min = sm.resample('30T').mean()\n",
    "soil_moisture_15mins = sm.resample('15T').mean()\n",
    "\n",
    "soil_temp_15mins = st.resample('15T').mean()\n",
    "rainfall_15mins = rain.resample('15T').sum()\n"
   ]
  },
  {
   "cell_type": "markdown",
   "metadata": {},
   "source": [
    "### Data overtime"
   ]
  },
  {
   "cell_type": "code",
   "execution_count": 27,
   "metadata": {},
   "outputs": [
    {
     "data": {
      "text/plain": [
       "<Axes: xlabel='Timestamp (UTC+12:00)'>"
      ]
     },
     "execution_count": 27,
     "metadata": {},
     "output_type": "execute_result"
    },
    {
     "data": {
      "image/png": "[encoded data removed]",
      "text/plain": [
       "<Figure size 640x480 with 1 Axes>"
      ]
     },
     "metadata": {},
     "output_type": "display_data"
    }
   ],
   "source": [
    "soil_moisture_15mins.plot()"
   ]
  },
  {
   "cell_type": "markdown",
   "metadata": {},
   "source": [
    "# Step 4: Combine Data"
   ]
  },
  {
   "cell_type": "code",
   "execution_count": 28,
   "metadata": {},
   "outputs": [],
   "source": [
    "# Determine the latest common start date\n",
    "latest_start_date = max(rainfall_15mins.index.min(), soil_moisture_15mins.index.min(), soil_temp_15mins.index.min())\n",
    "end_date = min(rainfall_15mins.index.max(), soil_moisture_15mins.index.max(), soil_temp_15mins.index.max())\n"
   ]
  },
  {
   "cell_type": "code",
   "execution_count": 29,
   "metadata": {},
   "outputs": [],
   "source": [
    "# Filter datasets to the common time range\n",
    "soil_moisture_15mins = soil_moisture_15mins[latest_start_date:end_date]\n",
    "soil_temp_15mins = soil_temp_15mins[latest_start_date:end_date]\n",
    "rainfall_15mins = rainfall_15mins[latest_start_date:end_date]\n"
   ]
  },
  {
   "cell_type": "code",
   "execution_count": 30,
   "metadata": {},
   "outputs": [],
   "source": [
    "# Merge datasets on the timestamp\n",
    "mtalbert_data_15mins = rainfall_15mins.join(soil_temp_15mins, how='inner', rsuffix='_rain')\n",
    "mtalbert_data_15mins = mtalbert_data_15mins.join(soil_moisture_15mins, how='inner', rsuffix='_soil_moisture')\n",
    "mtalbert_data_15mins.dropna(inplace=True)  # Drop any rows with missing values after merging\n"
   ]
  },
  {
   "cell_type": "code",
   "execution_count": 31,
   "metadata": {},
   "outputs": [
    {
     "data": {
      "text/html": [
       "<div>\n",
       "<style scoped>\n",
       "    .dataframe tbody tr th:only-of-type {\n",
       "        vertical-align: middle;\n",
       "    }\n",
       "\n",
       "    .dataframe tbody tr th {\n",
       "        vertical-align: top;\n",
       "    }\n",
       "\n",
       "    .dataframe thead th {\n",
       "        text-align: right;\n",
       "    }\n",
       "</style>\n",
       "<table border=\"1\" class=\"dataframe\">\n",
       "  <thead>\n",
       "    <tr style=\"text-align: right;\">\n",
       "      <th></th>\n",
       "      <th>Rain(mm)</th>\n",
       "      <th>SoilTemp(c)</th>\n",
       "      <th>SoilMoisture(%)</th>\n",
       "    </tr>\n",
       "    <tr>\n",
       "      <th>Timestamp (UTC+12:00)</th>\n",
       "      <th></th>\n",
       "      <th></th>\n",
       "      <th></th>\n",
       "    </tr>\n",
       "  </thead>\n",
       "  <tbody>\n",
       "    <tr>\n",
       "      <th>2018-07-07 11:15:00</th>\n",
       "      <td>0.0</td>\n",
       "      <td>10.4</td>\n",
       "      <td>37.364</td>\n",
       "    </tr>\n",
       "    <tr>\n",
       "      <th>2018-07-07 11:30:00</th>\n",
       "      <td>0.0</td>\n",
       "      <td>10.4</td>\n",
       "      <td>37.594</td>\n",
       "    </tr>\n",
       "    <tr>\n",
       "      <th>2018-07-07 11:45:00</th>\n",
       "      <td>0.0</td>\n",
       "      <td>10.4</td>\n",
       "      <td>37.590</td>\n",
       "    </tr>\n",
       "    <tr>\n",
       "      <th>2018-07-07 12:00:00</th>\n",
       "      <td>0.0</td>\n",
       "      <td>10.5</td>\n",
       "      <td>37.587</td>\n",
       "    </tr>\n",
       "    <tr>\n",
       "      <th>2018-07-07 12:15:00</th>\n",
       "      <td>0.0</td>\n",
       "      <td>10.5</td>\n",
       "      <td>37.584</td>\n",
       "    </tr>\n",
       "  </tbody>\n",
       "</table>\n",
       "</div>"
      ],
      "text/plain": [
       "                       Rain(mm)  SoilTemp(c)  SoilMoisture(%)\n",
       "Timestamp (UTC+12:00)                                        \n",
       "2018-07-07 11:15:00         0.0         10.4           37.364\n",
       "2018-07-07 11:30:00         0.0         10.4           37.594\n",
       "2018-07-07 11:45:00         0.0         10.4           37.590\n",
       "2018-07-07 12:00:00         0.0         10.5           37.587\n",
       "2018-07-07 12:15:00         0.0         10.5           37.584"
      ]
     },
     "execution_count": 31,
     "metadata": {},
     "output_type": "execute_result"
    }
   ],
   "source": [
    "mtalbert_data_15mins.head()"
   ]
  },
  {
   "cell_type": "code",
   "execution_count": 32,
   "metadata": {},
   "outputs": [
    {
     "name": "stdout",
     "output_type": "stream",
     "text": [
      "Combined data (15-minute intervals) saved successfully.\n"
     ]
    }
   ],
   "source": [
    "# Save the combined data to a new CSV file\n",
    "mtalbert_data_15mins.to_csv('../Data/soil data/mtalbert-648717-20241008172730/MtAlbert_Data_15mins.csv')\n",
    "print(\"Combined data (15-minute intervals) saved successfully.\")"
   ]
  },
  {
   "cell_type": "code",
   "execution_count": 33,
   "metadata": {},
   "outputs": [],
   "source": [
    "# mtalbert = pd.read_csv('../Data/soil data/mtalbert-648717-20241008172730/MtAlbert_Data_15mins.csv', parse_dates=['Timestamp (UTC+12:00)'])\n",
    "# mtalbert.head()"
   ]
  },
  {
   "cell_type": "code",
   "execution_count": 34,
   "metadata": {},
   "outputs": [],
   "source": [
    "# mtalbert['Location'] = 'Central Auckland'\n",
    "# mtalbert['Land position'] = 'Flat ridge'\n",
    "# mtalbert['Slope(degree)'] = '0-3'\n",
    "# mtalbert['Soil Order'] = 'Ultic'\n",
    "# mtalbert['Soil Types / Series'] = 'Whareora sandy clay loam'\n",
    "# mtalbert['NZ Soil Classification'] = 'Mottled Yellow Ultic'\n",
    "# mtalbert['Soil Profile Description'] = '0-10cm dark grey sandy clay loam, structure crumbly when wet, likely to be granular when dry; 10-15cm dark grey sandy clay loam, mixing with yellow brown sandy clay; 15-40 yellow brown sandy clay with grey mottles, structure massive with sticky consistence when wet, likely to be nutty of blocky when dry'\n",
    "# mtalbert['Pastoral land use'] = 'Mixed dairy and drystock'\n",
    "# mtalbert.head()\n",
    "# mtalbert.to_csv('../Data/soil data/mtalbert_soil_data.csv')"
   ]
  },
  {
   "cell_type": "markdown",
   "metadata": {},
   "source": [
    "Data Transformation\n"
   ]
  },
  {
   "cell_type": "code",
   "execution_count": null,
   "metadata": {},
   "outputs": [],
   "source": []
  },
  {
   "cell_type": "markdown",
   "metadata": {},
   "source": [
    "Feature Engineering: Scaling, Normalization and Standardization\n"
   ]
  },
  {
   "cell_type": "code",
   "execution_count": null,
   "metadata": {},
   "outputs": [],
   "source": []
  },
  {
   "cell_type": "markdown",
   "metadata": {},
   "source": [
    "Feature Selection\n"
   ]
  },
  {
   "cell_type": "code",
   "execution_count": null,
   "metadata": {},
   "outputs": [],
   "source": []
  },
  {
   "cell_type": "markdown",
   "metadata": {},
   "source": [
    "Handling Imbalanced Data\n"
   ]
  },
  {
   "cell_type": "code",
   "execution_count": null,
   "metadata": {},
   "outputs": [],
   "source": []
  },
  {
   "cell_type": "markdown",
   "metadata": {},
   "source": [
    "Encoding Categorical Features\n"
   ]
  },
  {
   "cell_type": "code",
   "execution_count": null,
   "metadata": {},
   "outputs": [],
   "source": []
  },
  {
   "cell_type": "markdown",
   "metadata": {},
   "source": [
    "Data Splitting"
   ]
  },
  {
   "cell_type": "code",
   "execution_count": null,
   "metadata": {},
   "outputs": [],
   "source": []
  }
 ],
 "metadata": {
  "kernelspec": {
   "display_name": "level8",
   "language": "python",
   "name": "python3"
  },
  "language_info": {
   "codemirror_mode": {
    "name": "ipython",
    "version": 3
   },
   "file_extension": ".py",
   "mimetype": "text/x-python",
   "name": "python",
   "nbconvert_exporter": "python",
   "pygments_lexer": "ipython3",
   "version": "3.10.14"
  }
 },
 "nbformat": 4,
 "nbformat_minor": 2
}
