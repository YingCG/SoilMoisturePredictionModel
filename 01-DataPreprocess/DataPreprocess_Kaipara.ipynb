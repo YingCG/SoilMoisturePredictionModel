{
 "cells": [
  {
   "cell_type": "markdown",
   "metadata": {},
   "source": [
    "# Step 1: Data Collection"
   ]
  },
  {
   "cell_type": "code",
   "execution_count": 1,
   "metadata": {},
   "outputs": [],
   "source": [
    "# import library\n",
    "import numpy as np\n",
    "import pandas as pd\n",
    "import matplotlib.pyplot as plt\n",
    "import seaborn as sns\n",
    "%matplotlib inline\n",
    "\n"
   ]
  },
  {
   "cell_type": "code",
   "execution_count": 2,
   "metadata": {},
   "outputs": [
    {
     "name": "stdout",
     "output_type": "stream",
     "text": [
      "       Timestamp (UTC+12:00)  SoilTemp(c)\n",
      "0        2014-07-08 00:30:00       13.400\n",
      "1        2014-07-08 00:45:00       13.300\n",
      "2        2014-07-08 01:00:00       13.300\n",
      "3        2014-07-08 01:15:00       13.300\n",
      "4        2014-07-08 01:30:00       13.300\n",
      "356053   2024-09-09 20:45:00       14.675\n",
      "356054   2024-09-09 21:00:00       14.682\n",
      "356055   2024-09-09 21:15:00       14.608\n",
      "356056   2024-09-09 21:30:00       14.608\n",
      "356057   2024-09-09 21:45:00       14.600\n"
     ]
    }
   ],
   "source": [
    "# Soil Temperature data in Kaipara\n",
    "st = pd.read_csv('../Data/soil data/Kaipara Heads-644211-20240909095124/KaiparaSoilTempContinuous@644211-20240909095119.csv',  parse_dates=['Timestamp (UTC+12:00)'])\n",
    "st.head(5)\n",
    "\n",
    "# smheadtail = (np.r_[0:5, -5:0])\n",
    "stheadtail = st.iloc[np.r_[0:5, -5:0]]\n",
    "print(stheadtail)"
   ]
  },
  {
   "cell_type": "code",
   "execution_count": 3,
   "metadata": {},
   "outputs": [
    {
     "name": "stdout",
     "output_type": "stream",
     "text": [
      "       Timestamp (UTC+12:00)  Rain(mm)\n",
      "0        1999-03-05 16:19:00      0.49\n",
      "1        1999-03-05 16:41:00      0.48\n",
      "2        1999-03-05 16:51:00      0.49\n",
      "3        1999-03-05 16:58:00      0.49\n",
      "4        1999-03-05 17:08:00      0.49\n",
      "209737   2024-09-09 20:45:00      0.00\n",
      "209738   2024-09-09 21:00:00      0.00\n",
      "209739   2024-09-09 21:15:00      0.00\n",
      "209740   2024-09-09 21:30:00      0.00\n",
      "209741   2024-09-09 21:45:00      0.00\n"
     ]
    }
   ],
   "source": [
    "# Rainfall data in Kaipara\n",
    "rain = pd.read_csv('../Data/soil data/Kaipara Heads-644211-20240909095124/KaiparaRainfall.Continuous@644211-20240909095101.csv',  parse_dates=['Timestamp (UTC+12:00)'])\n",
    "rain.head(5)\n",
    "\n",
    "# smheadtail = (np.r_[0:5, -5:0])\n",
    "rainheadtail = rain.iloc[np.r_[0:5, -5:0]]\n",
    "print(rainheadtail)"
   ]
  },
  {
   "cell_type": "code",
   "execution_count": 4,
   "metadata": {},
   "outputs": [
    {
     "name": "stdout",
     "output_type": "stream",
     "text": [
      "       Timestamp (UTC+12:00)  SoilMoisture(%)\n",
      "0        2014-06-05 14:00:00           34.530\n",
      "1        2014-06-05 14:15:00           34.489\n",
      "2        2014-06-05 14:30:00           34.487\n",
      "3        2014-06-05 14:45:00           34.489\n",
      "4        2014-06-05 15:00:00           34.492\n",
      "331610   2024-09-09 20:45:00           40.810\n",
      "331611   2024-09-09 21:00:00           40.717\n",
      "331612   2024-09-09 21:15:00           40.717\n",
      "331613   2024-09-09 21:30:00           40.814\n",
      "331614   2024-09-09 21:45:00           40.817\n"
     ]
    }
   ],
   "source": [
    "# Soil Moisture data in Kaipara\n",
    "sm = pd.read_csv('../Data/soil data/Kaipara Heads-644211-20240909095124/KaiparaSoilMoistureContinuous@644211-20240909095109.csv',  parse_dates=['Timestamp (UTC+12:00)'])\n",
    "sm.head(5)\n",
    "\n",
    "# smheadtail = (np.r_[0:5, -5:0])\n",
    "smheadtail = sm.iloc[np.r_[0:5, -5:0]]\n",
    "print(smheadtail)"
   ]
  },
  {
   "cell_type": "markdown",
   "metadata": {},
   "source": [
    "Data Description"
   ]
  },
  {
   "cell_type": "code",
   "execution_count": 5,
   "metadata": {},
   "outputs": [
    {
     "name": "stdout",
     "output_type": "stream",
     "text": [
      "Kaipara Rainfall Data Info:\n",
      "<class 'pandas.core.frame.DataFrame'>\n",
      "RangeIndex: 209742 entries, 0 to 209741\n",
      "Data columns (total 2 columns):\n",
      " #   Column                 Non-Null Count   Dtype         \n",
      "---  ------                 --------------   -----         \n",
      " 0   Timestamp (UTC+12:00)  209742 non-null  datetime64[ns]\n",
      " 1   Rain(mm)               209740 non-null  float64       \n",
      "dtypes: datetime64[ns](1), float64(1)\n",
      "memory usage: 3.2 MB\n",
      "\n",
      "Kaipara Soil Moisture Data Info:\n",
      "<class 'pandas.core.frame.DataFrame'>\n",
      "RangeIndex: 331615 entries, 0 to 331614\n",
      "Data columns (total 2 columns):\n",
      " #   Column                 Non-Null Count   Dtype         \n",
      "---  ------                 --------------   -----         \n",
      " 0   Timestamp (UTC+12:00)  331615 non-null  datetime64[ns]\n",
      " 1   SoilMoisture(%)        331549 non-null  float64       \n",
      "dtypes: datetime64[ns](1), float64(1)\n",
      "memory usage: 5.1 MB\n",
      "\n",
      "nKaipara Soil Temperature Data Info:\n",
      "<class 'pandas.core.frame.DataFrame'>\n",
      "RangeIndex: 356058 entries, 0 to 356057\n",
      "Data columns (total 2 columns):\n",
      " #   Column                 Non-Null Count   Dtype         \n",
      "---  ------                 --------------   -----         \n",
      " 0   Timestamp (UTC+12:00)  356058 non-null  datetime64[ns]\n",
      " 1   SoilTemp(c)            355966 non-null  float64       \n",
      "dtypes: datetime64[ns](1), float64(1)\n",
      "memory usage: 5.4 MB\n"
     ]
    }
   ],
   "source": [
    "# Display info to check datatype\n",
    "print(\"Kaipara Rainfall Data Info:\")\n",
    "rain.info()\n",
    "print(\"\\nKaipara Soil Moisture Data Info:\")\n",
    "sm.info()\n",
    "print(\"\\nnKaipara Soil Temperature Data Info:\")\n",
    "st.info()"
   ]
  },
  {
   "cell_type": "code",
   "execution_count": 6,
   "metadata": {},
   "outputs": [
    {
     "name": "stdout",
     "output_type": "stream",
     "text": [
      "Kaipara Data statistics :\n",
      "Rain(mm) count    209740.000000\n",
      "mean          0.129901\n",
      "std           0.220047\n",
      "min           0.000000\n",
      "25%           0.000000\n",
      "50%           0.000000\n",
      "75%           0.450000\n",
      "max           3.340000\n",
      "Name: Rain(mm), dtype: float64\n",
      "SoilTemp(c) count    355966.000000\n",
      "mean         17.811233\n",
      "std           4.731248\n",
      "min        -400.000000\n",
      "25%          14.100000\n",
      "50%          17.400000\n",
      "75%          21.300000\n",
      "max          36.800000\n",
      "Name: SoilTemp(c), dtype: float64\n",
      "SoilMoisture(%) count    331549.000000\n",
      "mean         36.089983\n",
      "std           3.833247\n",
      "min           0.000000\n",
      "25%          33.175000\n",
      "50%          37.283000\n",
      "75%          39.031000\n",
      "max          47.686000\n",
      "Name: SoilMoisture(%), dtype: float64\n"
     ]
    }
   ],
   "source": [
    "print(\"Kaipara Data statistics :\")\n",
    "\n",
    "print('Rain(mm)', rain['Rain(mm)'].describe())\n",
    "print('SoilTemp(c)', st['SoilTemp(c)'].describe())\n",
    "print('SoilMoisture(%)', sm['SoilMoisture(%)'].describe())"
   ]
  },
  {
   "cell_type": "code",
   "execution_count": 7,
   "metadata": {},
   "outputs": [
    {
     "name": "stdout",
     "output_type": "stream",
     "text": [
      "       Timestamp (UTC+12:00)  SoilTemp(c)\n",
      "90112    2017-01-31 16:00:00         32.2\n",
      "90113    2017-01-31 16:15:00         32.2\n",
      "90685    2017-02-06 15:15:00         32.3\n",
      "90686    2017-02-06 15:30:00         32.4\n",
      "90687    2017-02-06 15:45:00         32.5\n",
      "...                      ...          ...\n",
      "351313   2024-07-22 12:15:00       -400.0\n",
      "351314   2024-07-22 12:30:00       -400.0\n",
      "351315   2024-07-22 12:45:00       -400.0\n",
      "351316   2024-07-22 13:00:00       -400.0\n",
      "351319   2024-07-22 13:29:00          0.0\n",
      "\n",
      "[132 rows x 2 columns]\n"
     ]
    }
   ],
   "source": [
    "# Identify potential outliers for Soil Temperature\n",
    "# First, check for the unreasonable -400 value\n",
    "abnormal_temp = st[st['SoilTemp(c)'] < -50]  # Adjust threshold as needed\n",
    "\n",
    "# Calculate Q1 and Q3\n",
    "Q1_temp = st['SoilTemp(c)'].quantile(0.25)\n",
    "Q3_temp = st['SoilTemp(c)'].quantile(0.75)\n",
    "IQR_temp = Q3_temp - Q1_temp\n",
    "\n",
    "# Define bounds\n",
    "lower_bound_temp = Q1_temp - 1.5 * IQR_temp\n",
    "upper_bound_temp = Q3_temp + 1.5 * IQR_temp\n",
    "\n",
    "# Identify outliers\n",
    "temp_outliers = st[(st['SoilTemp(c)'] < lower_bound_temp) | (st['SoilTemp(c)'] > upper_bound_temp)]\n",
    "print(temp_outliers)"
   ]
  },
  {
   "cell_type": "markdown",
   "metadata": {},
   "source": [
    "Data Cleaning\n"
   ]
  },
  {
   "cell_type": "code",
   "execution_count": 8,
   "metadata": {},
   "outputs": [
    {
     "name": "stdout",
     "output_type": "stream",
     "text": [
      "'Missing Value in Soil Moisture Data\n",
      "       Timestamp (UTC+12:00)  SoilMoisture(%)\n",
      "123351   2017-12-11 10:08:00              NaN\n",
      "123352   2018-01-05 04:59:00              NaN\n",
      "124586   2018-01-18 01:00:00              NaN\n",
      "124587   2018-01-18 01:29:00              NaN\n",
      "126462   2018-02-06 13:45:00              NaN\n",
      "...                      ...              ...\n",
      "306325   2023-12-21 11:44:00              NaN\n",
      "326868   2024-07-22 11:00:00              NaN\n",
      "326869   2024-07-22 11:59:00              NaN\n",
      "326875   2024-07-22 13:00:00              NaN\n",
      "326876   2024-07-22 13:29:00              NaN\n",
      "\n",
      "[66 rows x 2 columns]\n"
     ]
    }
   ],
   "source": [
    "# Display missing value\n",
    "print(\"'Missing Value in Soil Moisture Data\")\n",
    "sm.isna().sum()\n",
    "print(sm[sm['SoilMoisture(%)'].isnull()])"
   ]
  },
  {
   "cell_type": "code",
   "execution_count": 9,
   "metadata": {},
   "outputs": [
    {
     "name": "stdout",
     "output_type": "stream",
     "text": [
      "Missing Value in Soil Temperature Data\n",
      "       Timestamp (UTC+12:00)  SoilTemp(c)\n",
      "122249   2018-01-01 09:00:00          NaN\n",
      "122250   2018-01-01 11:59:00          NaN\n",
      "149992   2018-10-17 10:00:00          NaN\n",
      "149993   2018-10-17 13:14:00          NaN\n",
      "152078   2018-11-08 06:00:00          NaN\n",
      "...                      ...          ...\n",
      "330765   2023-12-21 11:44:00          NaN\n",
      "351309   2024-07-22 11:00:00          NaN\n",
      "351310   2024-07-22 11:59:00          NaN\n",
      "351317   2024-07-22 13:00:00          NaN\n",
      "351318   2024-07-22 13:29:00          NaN\n",
      "\n",
      "[92 rows x 2 columns]\n"
     ]
    }
   ],
   "source": [
    "# Display missing value\n",
    "\n",
    "print(\"Missing Value in Soil Temperature Data\")\n",
    "st.isna().sum()\n",
    "\n",
    "print(st[st['SoilTemp(c)'].isnull()])"
   ]
  },
  {
   "cell_type": "code",
   "execution_count": 10,
   "metadata": {},
   "outputs": [
    {
     "name": "stdout",
     "output_type": "stream",
     "text": [
      "Missing Value in Rainfall Data\n",
      "      Timestamp (UTC+12:00)  Rain(mm)\n",
      "63898   2018-12-26 00:15:00       NaN\n",
      "63899   2019-01-14 07:59:00       NaN\n"
     ]
    }
   ],
   "source": [
    "# Display missing value\n",
    "print(\"Missing Value in Rainfall Data\")\n",
    "rain.isna().sum()\n",
    "print(rain[rain['Rain(mm)'].isnull()])"
   ]
  },
  {
   "cell_type": "markdown",
   "metadata": {},
   "source": [
    "# Step 2: Handle Missing Values"
   ]
  },
  {
   "cell_type": "code",
   "execution_count": 11,
   "metadata": {},
   "outputs": [],
   "source": [
    "# soil moisture and soil temperature using linear to fill data\n",
    "sm.interpolate(method='linear', inplace=True)\n",
    "st.interpolate(method='linear', inplace=True)\n",
    "\n",
    "# soil moisture and soil temperature using linear to fill data\n",
    "rain.fillna(0, inplace=True)\n"
   ]
  },
  {
   "cell_type": "code",
   "execution_count": 12,
   "metadata": {},
   "outputs": [],
   "source": [
    "# double check missing value\n",
    "\n",
    "# sm.isna().sum()\n",
    "# st.isna().sum()\n",
    "# rain.isna().sum()\n"
   ]
  },
  {
   "cell_type": "markdown",
   "metadata": {},
   "source": [
    "# Step 3: Resample Data to 15 minutes interval"
   ]
  },
  {
   "cell_type": "code",
   "execution_count": 13,
   "metadata": {},
   "outputs": [],
   "source": [
    "sm.set_index('Timestamp (UTC+12:00)', inplace=True)\n",
    "st.set_index('Timestamp (UTC+12:00)', inplace=True)\n",
    "rain.set_index('Timestamp (UTC+12:00)', inplace=True)\n"
   ]
  },
  {
   "cell_type": "code",
   "execution_count": 14,
   "metadata": {},
   "outputs": [
    {
     "name": "stderr",
     "output_type": "stream",
     "text": [
      "C:\\Users\\Ying\\AppData\\Local\\Temp\\ipykernel_12772\\3335301185.py:2: FutureWarning: 'T' is deprecated and will be removed in a future version, please use 'min' instead.\n",
      "  soil_moisture_15mins = sm.resample('15T').mean()\n",
      "C:\\Users\\Ying\\AppData\\Local\\Temp\\ipykernel_12772\\3335301185.py:4: FutureWarning: 'T' is deprecated and will be removed in a future version, please use 'min' instead.\n",
      "  soil_temp_15mins = st.resample('15T').mean()\n",
      "C:\\Users\\Ying\\AppData\\Local\\Temp\\ipykernel_12772\\3335301185.py:5: FutureWarning: 'T' is deprecated and will be removed in a future version, please use 'min' instead.\n",
      "  rainfall_15mins = rain.resample('15T').sum()\n"
     ]
    }
   ],
   "source": [
    "# soil_moisture_30min = sm.resample('30T').mean()\n",
    "soil_moisture_15mins = sm.resample('15T').mean()\n",
    "\n",
    "soil_temp_15mins = st.resample('15T').mean()\n",
    "rainfall_15mins = rain.resample('15T').sum()\n"
   ]
  },
  {
   "cell_type": "markdown",
   "metadata": {},
   "source": [
    "# Step 4: Combine Data"
   ]
  },
  {
   "cell_type": "code",
   "execution_count": 15,
   "metadata": {},
   "outputs": [],
   "source": [
    "# Determine the latest common start date\n",
    "latest_start_date = max(rainfall_15mins.index.min(), soil_moisture_15mins.index.min(), soil_temp_15mins.index.min())\n",
    "end_date = min(rainfall_15mins.index.max(), soil_moisture_15mins.index.max(), soil_temp_15mins.index.max())"
   ]
  },
  {
   "cell_type": "code",
   "execution_count": 16,
   "metadata": {},
   "outputs": [],
   "source": [
    "# Filter datasets to the common time range\n",
    "soil_moisture_15mins = soil_moisture_15mins[latest_start_date:end_date]\n",
    "soil_temp_15mins = soil_temp_15mins[latest_start_date:end_date]\n",
    "rainfall_15mins = rainfall_15mins[latest_start_date:end_date]\n"
   ]
  },
  {
   "cell_type": "code",
   "execution_count": 17,
   "metadata": {},
   "outputs": [],
   "source": [
    "# Merge datasets on the timestamp\n",
    "combined_data_15mins = rainfall_15mins.join(soil_temp_15mins, how='inner', rsuffix='_rain')\n",
    "combined_data_15mins = combined_data_15mins.join(soil_moisture_15mins, how='inner', rsuffix='_soil_moisture')\n",
    "combined_data_15mins.dropna(inplace=True)  # Drop any rows with missing values after merging\n"
   ]
  },
  {
   "cell_type": "code",
   "execution_count": 18,
   "metadata": {},
   "outputs": [
    {
     "name": "stdout",
     "output_type": "stream",
     "text": [
      "Combined data (15-minute intervals) saved successfully.\n"
     ]
    }
   ],
   "source": [
    "# Save the combined data to a new CSV file\n",
    "combined_data_15mins.to_csv('../Data/soil data/Kaipara Heads-644211-20240909095124/Kaipara_Data_15mins.csv')\n",
    "print(\"Combined data (15-minute intervals) saved successfully.\")"
   ]
  },
  {
   "cell_type": "code",
   "execution_count": 19,
   "metadata": {},
   "outputs": [
    {
     "data": {
      "text/html": [
       "<div>\n",
       "<style scoped>\n",
       "    .dataframe tbody tr th:only-of-type {\n",
       "        vertical-align: middle;\n",
       "    }\n",
       "\n",
       "    .dataframe tbody tr th {\n",
       "        vertical-align: top;\n",
       "    }\n",
       "\n",
       "    .dataframe thead th {\n",
       "        text-align: right;\n",
       "    }\n",
       "</style>\n",
       "<table border=\"1\" class=\"dataframe\">\n",
       "  <thead>\n",
       "    <tr style=\"text-align: right;\">\n",
       "      <th></th>\n",
       "      <th>Timestamp (UTC+12:00)</th>\n",
       "      <th>Rain(mm)</th>\n",
       "      <th>SoilTemp(c)</th>\n",
       "      <th>SoilMoisture(%)</th>\n",
       "    </tr>\n",
       "  </thead>\n",
       "  <tbody>\n",
       "    <tr>\n",
       "      <th>0</th>\n",
       "      <td>2014-07-08 00:30:00</td>\n",
       "      <td>0.0</td>\n",
       "      <td>13.4</td>\n",
       "      <td>39.218</td>\n",
       "    </tr>\n",
       "    <tr>\n",
       "      <th>1</th>\n",
       "      <td>2014-07-08 00:45:00</td>\n",
       "      <td>0.0</td>\n",
       "      <td>13.3</td>\n",
       "      <td>39.220</td>\n",
       "    </tr>\n",
       "    <tr>\n",
       "      <th>2</th>\n",
       "      <td>2014-07-08 01:00:00</td>\n",
       "      <td>0.0</td>\n",
       "      <td>13.3</td>\n",
       "      <td>39.220</td>\n",
       "    </tr>\n",
       "    <tr>\n",
       "      <th>3</th>\n",
       "      <td>2014-07-08 01:15:00</td>\n",
       "      <td>0.0</td>\n",
       "      <td>13.3</td>\n",
       "      <td>39.220</td>\n",
       "    </tr>\n",
       "    <tr>\n",
       "      <th>4</th>\n",
       "      <td>2014-07-08 01:30:00</td>\n",
       "      <td>0.0</td>\n",
       "      <td>13.3</td>\n",
       "      <td>39.221</td>\n",
       "    </tr>\n",
       "  </tbody>\n",
       "</table>\n",
       "</div>"
      ],
      "text/plain": [
       "  Timestamp (UTC+12:00)  Rain(mm)  SoilTemp(c)  SoilMoisture(%)\n",
       "0   2014-07-08 00:30:00       0.0         13.4           39.218\n",
       "1   2014-07-08 00:45:00       0.0         13.3           39.220\n",
       "2   2014-07-08 01:00:00       0.0         13.3           39.220\n",
       "3   2014-07-08 01:15:00       0.0         13.3           39.220\n",
       "4   2014-07-08 01:30:00       0.0         13.3           39.221"
      ]
     },
     "execution_count": 19,
     "metadata": {},
     "output_type": "execute_result"
    }
   ],
   "source": [
    "kaipara = pd.read_csv('../Data/soil data/Kaipara Heads-644211-20240909095124/Kaipara_Data_15mins.csv', parse_dates=['Timestamp (UTC+12:00)'])\n",
    "kaipara.head()"
   ]
  },
  {
   "cell_type": "code",
   "execution_count": 20,
   "metadata": {},
   "outputs": [],
   "source": [
    "# kaipara['Location'] = 'North Auckland'\n",
    "# kaipara['Land position'] = 'Hill terrace'\n",
    "# kaipara['Slope(degree)'] = '0-3'\n",
    "# kaipara['Soil Order'] = 'Brown'\n",
    "# kaipara['Soil Types / Series'] = 'Red Hill sandy loam'\n",
    "# kaipara['NZ Soil Classification'] = 'Typic Sandy Brown'\n",
    "# kaipara['Soil Profile Description'] = '0-10cm dark grey (almost black) sandy silt loam, structure nutty (when dry), firm consistence, compact ; 10-15cm dark grey sandy loam (contains some silt, structure nutty (when dry), somewhat firm, less compact ; 15-50cm dark brown sandy loam (contains some silt), structure single grain (when dry), loose consistence'\n",
    "# kaipara['Pastoral land use'] = 'Drystock'\n",
    "# kaipara.head()\n",
    "# kaipara.to_csv('./Data/soil data/awhitu_soil_data.csv')\n"
   ]
  },
  {
   "cell_type": "markdown",
   "metadata": {},
   "source": [
    "Data Transformation\n"
   ]
  },
  {
   "cell_type": "code",
   "execution_count": null,
   "metadata": {},
   "outputs": [],
   "source": []
  },
  {
   "cell_type": "markdown",
   "metadata": {},
   "source": [
    "Feature Engineering: Scaling, Normalization and Standardization\n"
   ]
  },
  {
   "cell_type": "code",
   "execution_count": null,
   "metadata": {},
   "outputs": [],
   "source": []
  },
  {
   "cell_type": "markdown",
   "metadata": {},
   "source": [
    "Feature Selection\n"
   ]
  },
  {
   "cell_type": "code",
   "execution_count": null,
   "metadata": {},
   "outputs": [],
   "source": []
  },
  {
   "cell_type": "markdown",
   "metadata": {},
   "source": [
    "Handling Imbalanced Data\n"
   ]
  },
  {
   "cell_type": "code",
   "execution_count": null,
   "metadata": {},
   "outputs": [],
   "source": []
  },
  {
   "cell_type": "markdown",
   "metadata": {},
   "source": [
    "Encoding Categorical Features\n"
   ]
  },
  {
   "cell_type": "code",
   "execution_count": null,
   "metadata": {},
   "outputs": [],
   "source": []
  },
  {
   "cell_type": "markdown",
   "metadata": {},
   "source": [
    "Data Splitting"
   ]
  },
  {
   "cell_type": "code",
   "execution_count": null,
   "metadata": {},
   "outputs": [],
   "source": []
  }
 ],
 "metadata": {
  "kernelspec": {
   "display_name": "level8",
   "language": "python",
   "name": "python3"
  },
  "language_info": {
   "codemirror_mode": {
    "name": "ipython",
    "version": 3
   },
   "file_extension": ".py",
   "mimetype": "text/x-python",
   "name": "python",
   "nbconvert_exporter": "python",
   "pygments_lexer": "ipython3",
   "version": "3.10.14"
  }
 },
 "nbformat": 4,
 "nbformat_minor": 2
}
