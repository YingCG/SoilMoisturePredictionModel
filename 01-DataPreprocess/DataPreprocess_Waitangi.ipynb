{
 "cells": [
  {
   "cell_type": "markdown",
   "metadata": {},
   "source": [
    "# Step 1: Data Collection"
   ]
  },
  {
   "cell_type": "code",
   "execution_count": 1,
   "metadata": {},
   "outputs": [
    {
     "name": "stdout",
     "output_type": "stream",
     "text": [
      "       Timestamp (UTC+12:00)  SoilMoisture(%)\n",
      "0        2014-05-29 19:00:00           43.549\n",
      "1        2014-05-29 19:15:00           43.513\n",
      "2        2014-05-29 19:30:00           43.513\n",
      "3        2014-05-29 19:45:00           43.549\n",
      "4        2014-05-29 20:00:00           43.548\n",
      "323354   2024-09-10 21:00:00           34.515\n",
      "323355   2024-09-10 21:15:00           34.515\n",
      "323356   2024-09-10 21:30:00           34.515\n",
      "323357   2024-09-10 21:45:00           34.515\n",
      "323358   2024-09-10 22:00:00           34.514\n"
     ]
    }
   ],
   "source": [
    "# import library\n",
    "import numpy as np\n",
    "import pandas as pd\n",
    "import matplotlib.pyplot as plt\n",
    "import seaborn as sns\n",
    "%matplotlib inline\n",
    "\n",
    "# Soil Moisture data in Waitangi\n",
    "sm = pd.read_csv('../Data/soil data/WaitangiDiverRoad742736-20240910101133/WaitangiDiverRoad-SoilMoisture742736-20240910101640.csv', parse_dates=['Timestamp (UTC+12:00)'])\n",
    "sm.head(5)\n",
    "\n",
    "# smheadtail = (np.r_[0:5, -5:0])\n",
    "smheadtail = sm.iloc[np.r_[0:5, -5:0]]\n",
    "print(smheadtail)"
   ]
  },
  {
   "cell_type": "code",
   "execution_count": 2,
   "metadata": {},
   "outputs": [
    {
     "name": "stdout",
     "output_type": "stream",
     "text": [
      "       Timestamp (UTC+12:00)  SoilTemp(c)\n",
      "0        2014-05-26 13:00:00       19.600\n",
      "1        2014-05-26 13:15:00       22.300\n",
      "2        2014-05-26 13:30:00       22.500\n",
      "3        2014-05-26 13:45:00       22.600\n",
      "4        2014-05-26 14:00:00       22.700\n",
      "360412   2024-09-10 21:00:00       14.716\n",
      "360413   2024-09-10 21:15:00       14.566\n",
      "360414   2024-09-10 21:30:00       14.566\n",
      "360415   2024-09-10 21:45:00       14.566\n",
      "360416   2024-09-10 22:00:00       14.559\n"
     ]
    }
   ],
   "source": [
    "# Soil Temperature data in WaitangiDiver Road\n",
    "st = pd.read_csv('../Data/soil data/WaitangiDiverRoad742736-20240910101133/WaitangiDiverRoad-SoilTemp742736-20240910101235.csv', parse_dates=['Timestamp (UTC+12:00)'])\n",
    "st.head(5)\n",
    "\n",
    "# smheadtail = (np.r_[0:5, -5:0])\n",
    "stheadtail = st.iloc[np.r_[0:5, -5:0]]\n",
    "print(stheadtail)"
   ]
  },
  {
   "cell_type": "code",
   "execution_count": 3,
   "metadata": {},
   "outputs": [
    {
     "name": "stdout",
     "output_type": "stream",
     "text": [
      "       Timestamp (UTC+12:00)  Rain(mm)\n",
      "0        1993-11-30 17:04:00       0.0\n",
      "1        1993-12-03 03:51:00       0.5\n",
      "2        1993-12-03 05:42:00       0.5\n",
      "3        1993-12-03 21:58:00       0.5\n",
      "4        1993-12-06 08:19:00       0.5\n",
      "231782   2024-09-10 21:00:00       0.0\n",
      "231783   2024-09-10 21:15:00       0.0\n",
      "231784   2024-09-10 21:30:00       0.0\n",
      "231785   2024-09-10 21:45:00       0.0\n",
      "231786   2024-09-10 22:00:00       0.0\n"
     ]
    }
   ],
   "source": [
    "# Rainfall data in Waitangi\n",
    "rain = pd.read_csv('../Data/soil data/WaitangiDiverRoad742736-20240910101133/WaitangiDiverRoad-RainfallContinuous742736-20240910101133.csv', parse_dates=['Timestamp (UTC+12:00)'])\n",
    "rain.head(5)\n",
    "\n",
    "# smheadtail = (np.r_[0:5, -5:0])\n",
    "rainheadtail = rain.iloc[np.r_[0:5, -5:0]]\n",
    "print(rainheadtail)"
   ]
  },
  {
   "cell_type": "markdown",
   "metadata": {},
   "source": [
    "Data Description"
   ]
  },
  {
   "cell_type": "code",
   "execution_count": 4,
   "metadata": {},
   "outputs": [
    {
     "name": "stdout",
     "output_type": "stream",
     "text": [
      "Waitangi Rainfall Data Info:\n",
      "<class 'pandas.core.frame.DataFrame'>\n",
      "RangeIndex: 231787 entries, 0 to 231786\n",
      "Data columns (total 2 columns):\n",
      " #   Column                 Non-Null Count   Dtype         \n",
      "---  ------                 --------------   -----         \n",
      " 0   Timestamp (UTC+12:00)  231787 non-null  datetime64[ns]\n",
      " 1   Rain(mm)               231463 non-null  float64       \n",
      "dtypes: datetime64[ns](1), float64(1)\n",
      "memory usage: 3.5 MB\n",
      "\n",
      " Waitangi Soil Moisture Data Info:\n",
      "<class 'pandas.core.frame.DataFrame'>\n",
      "RangeIndex: 323359 entries, 0 to 323358\n",
      "Data columns (total 2 columns):\n",
      " #   Column                 Non-Null Count   Dtype         \n",
      "---  ------                 --------------   -----         \n",
      " 0   Timestamp (UTC+12:00)  323359 non-null  datetime64[ns]\n",
      " 1   SoilMoisture(%)        323237 non-null  float64       \n",
      "dtypes: datetime64[ns](1), float64(1)\n",
      "memory usage: 4.9 MB\n",
      "\n",
      " Waitangi Soil Temperature Data Info:\n",
      "<class 'pandas.core.frame.DataFrame'>\n",
      "RangeIndex: 360417 entries, 0 to 360416\n",
      "Data columns (total 2 columns):\n",
      " #   Column                 Non-Null Count   Dtype         \n",
      "---  ------                 --------------   -----         \n",
      " 0   Timestamp (UTC+12:00)  360417 non-null  datetime64[ns]\n",
      " 1   SoilTemp(c)            360321 non-null  float64       \n",
      "dtypes: datetime64[ns](1), float64(1)\n",
      "memory usage: 5.5 MB\n"
     ]
    }
   ],
   "source": [
    "# Display info to check datatype\n",
    "print(\"Waitangi Rainfall Data Info:\")\n",
    "rain.info()\n",
    "print(\"\\n Waitangi Soil Moisture Data Info:\")\n",
    "sm.info()\n",
    "print(\"\\n Waitangi Soil Temperature Data Info:\")\n",
    "st.info()"
   ]
  },
  {
   "cell_type": "code",
   "execution_count": 5,
   "metadata": {},
   "outputs": [
    {
     "name": "stdout",
     "output_type": "stream",
     "text": [
      "waitangi Rainfall Data statistics :\n"
     ]
    },
    {
     "data": {
      "text/html": [
       "<div>\n",
       "<style scoped>\n",
       "    .dataframe tbody tr th:only-of-type {\n",
       "        vertical-align: middle;\n",
       "    }\n",
       "\n",
       "    .dataframe tbody tr th {\n",
       "        vertical-align: top;\n",
       "    }\n",
       "\n",
       "    .dataframe thead th {\n",
       "        text-align: right;\n",
       "    }\n",
       "</style>\n",
       "<table border=\"1\" class=\"dataframe\">\n",
       "  <thead>\n",
       "    <tr style=\"text-align: right;\">\n",
       "      <th></th>\n",
       "      <th>Timestamp (UTC+12:00)</th>\n",
       "      <th>Rain(mm)</th>\n",
       "    </tr>\n",
       "  </thead>\n",
       "  <tbody>\n",
       "    <tr>\n",
       "      <th>count</th>\n",
       "      <td>231787</td>\n",
       "      <td>231463.000000</td>\n",
       "    </tr>\n",
       "    <tr>\n",
       "      <th>mean</th>\n",
       "      <td>2017-07-27 21:46:22.336886784</td>\n",
       "      <td>0.171524</td>\n",
       "    </tr>\n",
       "    <tr>\n",
       "      <th>min</th>\n",
       "      <td>1993-11-30 17:04:00</td>\n",
       "      <td>0.000000</td>\n",
       "    </tr>\n",
       "    <tr>\n",
       "      <th>25%</th>\n",
       "      <td>2013-09-21 20:51:30</td>\n",
       "      <td>0.000000</td>\n",
       "    </tr>\n",
       "    <tr>\n",
       "      <th>50%</th>\n",
       "      <td>2021-07-26 03:15:00</td>\n",
       "      <td>0.000000</td>\n",
       "    </tr>\n",
       "    <tr>\n",
       "      <th>75%</th>\n",
       "      <td>2023-02-12 06:21:00</td>\n",
       "      <td>0.500000</td>\n",
       "    </tr>\n",
       "    <tr>\n",
       "      <th>max</th>\n",
       "      <td>2024-09-10 22:00:00</td>\n",
       "      <td>33.640000</td>\n",
       "    </tr>\n",
       "    <tr>\n",
       "      <th>std</th>\n",
       "      <td>NaN</td>\n",
       "      <td>0.328985</td>\n",
       "    </tr>\n",
       "  </tbody>\n",
       "</table>\n",
       "</div>"
      ],
      "text/plain": [
       "               Timestamp (UTC+12:00)       Rain(mm)\n",
       "count                         231787  231463.000000\n",
       "mean   2017-07-27 21:46:22.336886784       0.171524\n",
       "min              1993-11-30 17:04:00       0.000000\n",
       "25%              2013-09-21 20:51:30       0.000000\n",
       "50%              2021-07-26 03:15:00       0.000000\n",
       "75%              2023-02-12 06:21:00       0.500000\n",
       "max              2024-09-10 22:00:00      33.640000\n",
       "std                              NaN       0.328985"
      ]
     },
     "execution_count": 5,
     "metadata": {},
     "output_type": "execute_result"
    }
   ],
   "source": [
    "# Overview of data\n",
    "print(\"waitangi Rainfall Data statistics :\")\n",
    "rain.describe()\n"
   ]
  },
  {
   "cell_type": "code",
   "execution_count": 6,
   "metadata": {},
   "outputs": [
    {
     "name": "stdout",
     "output_type": "stream",
     "text": [
      "\n",
      "waitangi Soil Moisture Data statistics :\n"
     ]
    },
    {
     "data": {
      "text/html": [
       "<div>\n",
       "<style scoped>\n",
       "    .dataframe tbody tr th:only-of-type {\n",
       "        vertical-align: middle;\n",
       "    }\n",
       "\n",
       "    .dataframe tbody tr th {\n",
       "        vertical-align: top;\n",
       "    }\n",
       "\n",
       "    .dataframe thead th {\n",
       "        text-align: right;\n",
       "    }\n",
       "</style>\n",
       "<table border=\"1\" class=\"dataframe\">\n",
       "  <thead>\n",
       "    <tr style=\"text-align: right;\">\n",
       "      <th></th>\n",
       "      <th>Timestamp (UTC+12:00)</th>\n",
       "      <th>SoilMoisture(%)</th>\n",
       "    </tr>\n",
       "  </thead>\n",
       "  <tbody>\n",
       "    <tr>\n",
       "      <th>count</th>\n",
       "      <td>323359</td>\n",
       "      <td>323237.000000</td>\n",
       "    </tr>\n",
       "    <tr>\n",
       "      <th>mean</th>\n",
       "      <td>2019-08-23 01:00:24.463398400</td>\n",
       "      <td>42.035816</td>\n",
       "    </tr>\n",
       "    <tr>\n",
       "      <th>min</th>\n",
       "      <td>2014-05-29 19:00:00</td>\n",
       "      <td>0.000000</td>\n",
       "    </tr>\n",
       "    <tr>\n",
       "      <th>25%</th>\n",
       "      <td>2016-09-17 20:52:30</td>\n",
       "      <td>35.293000</td>\n",
       "    </tr>\n",
       "    <tr>\n",
       "      <th>50%</th>\n",
       "      <td>2020-01-29 07:15:00</td>\n",
       "      <td>44.564000</td>\n",
       "    </tr>\n",
       "    <tr>\n",
       "      <th>75%</th>\n",
       "      <td>2022-05-21 06:07:30</td>\n",
       "      <td>46.322000</td>\n",
       "    </tr>\n",
       "    <tr>\n",
       "      <th>max</th>\n",
       "      <td>2024-09-10 22:00:00</td>\n",
       "      <td>51.800000</td>\n",
       "    </tr>\n",
       "    <tr>\n",
       "      <th>std</th>\n",
       "      <td>NaN</td>\n",
       "      <td>5.215146</td>\n",
       "    </tr>\n",
       "  </tbody>\n",
       "</table>\n",
       "</div>"
      ],
      "text/plain": [
       "               Timestamp (UTC+12:00)  SoilMoisture(%)\n",
       "count                         323359    323237.000000\n",
       "mean   2019-08-23 01:00:24.463398400        42.035816\n",
       "min              2014-05-29 19:00:00         0.000000\n",
       "25%              2016-09-17 20:52:30        35.293000\n",
       "50%              2020-01-29 07:15:00        44.564000\n",
       "75%              2022-05-21 06:07:30        46.322000\n",
       "max              2024-09-10 22:00:00        51.800000\n",
       "std                              NaN         5.215146"
      ]
     },
     "execution_count": 6,
     "metadata": {},
     "output_type": "execute_result"
    }
   ],
   "source": [
    "print(\"\\nwaitangi Soil Moisture Data statistics :\")\n",
    "sm.describe()\n"
   ]
  },
  {
   "cell_type": "code",
   "execution_count": 7,
   "metadata": {},
   "outputs": [
    {
     "name": "stdout",
     "output_type": "stream",
     "text": [
      "\n",
      "waitangi Soil Temperature Data statistics :\n"
     ]
    },
    {
     "data": {
      "text/html": [
       "<div>\n",
       "<style scoped>\n",
       "    .dataframe tbody tr th:only-of-type {\n",
       "        vertical-align: middle;\n",
       "    }\n",
       "\n",
       "    .dataframe tbody tr th {\n",
       "        vertical-align: top;\n",
       "    }\n",
       "\n",
       "    .dataframe thead th {\n",
       "        text-align: right;\n",
       "    }\n",
       "</style>\n",
       "<table border=\"1\" class=\"dataframe\">\n",
       "  <thead>\n",
       "    <tr style=\"text-align: right;\">\n",
       "      <th></th>\n",
       "      <th>Timestamp (UTC+12:00)</th>\n",
       "      <th>SoilTemp(c)</th>\n",
       "    </tr>\n",
       "  </thead>\n",
       "  <tbody>\n",
       "    <tr>\n",
       "      <th>count</th>\n",
       "      <td>360417</td>\n",
       "      <td>360321.000000</td>\n",
       "    </tr>\n",
       "    <tr>\n",
       "      <th>mean</th>\n",
       "      <td>2019-07-20 15:23:04.853211648</td>\n",
       "      <td>16.914071</td>\n",
       "    </tr>\n",
       "    <tr>\n",
       "      <th>min</th>\n",
       "      <td>2014-05-26 13:00:00</td>\n",
       "      <td>-25.000000</td>\n",
       "    </tr>\n",
       "    <tr>\n",
       "      <th>25%</th>\n",
       "      <td>2016-12-23 07:30:00</td>\n",
       "      <td>13.600000</td>\n",
       "    </tr>\n",
       "    <tr>\n",
       "      <th>50%</th>\n",
       "      <td>2019-07-20 13:15:00</td>\n",
       "      <td>16.800000</td>\n",
       "    </tr>\n",
       "    <tr>\n",
       "      <th>75%</th>\n",
       "      <td>2022-02-14 05:15:00</td>\n",
       "      <td>20.200000</td>\n",
       "    </tr>\n",
       "    <tr>\n",
       "      <th>max</th>\n",
       "      <td>2024-09-10 22:00:00</td>\n",
       "      <td>29.600000</td>\n",
       "    </tr>\n",
       "    <tr>\n",
       "      <th>std</th>\n",
       "      <td>NaN</td>\n",
       "      <td>4.162357</td>\n",
       "    </tr>\n",
       "  </tbody>\n",
       "</table>\n",
       "</div>"
      ],
      "text/plain": [
       "               Timestamp (UTC+12:00)    SoilTemp(c)\n",
       "count                         360417  360321.000000\n",
       "mean   2019-07-20 15:23:04.853211648      16.914071\n",
       "min              2014-05-26 13:00:00     -25.000000\n",
       "25%              2016-12-23 07:30:00      13.600000\n",
       "50%              2019-07-20 13:15:00      16.800000\n",
       "75%              2022-02-14 05:15:00      20.200000\n",
       "max              2024-09-10 22:00:00      29.600000\n",
       "std                              NaN       4.162357"
      ]
     },
     "execution_count": 7,
     "metadata": {},
     "output_type": "execute_result"
    }
   ],
   "source": [
    "print(\"\\nwaitangi Soil Temperature Data statistics :\")\n",
    "st.describe()"
   ]
  },
  {
   "cell_type": "markdown",
   "metadata": {},
   "source": [
    "Data Cleaning\n"
   ]
  },
  {
   "cell_type": "code",
   "execution_count": 8,
   "metadata": {},
   "outputs": [
    {
     "name": "stdout",
     "output_type": "stream",
     "text": [
      "Missing Value in Soil Moisture Data\n",
      "       Timestamp (UTC+12:00)  SoilMoisture(%)\n",
      "119980   2017-10-30 13:45:00              NaN\n",
      "119981   2018-01-26 07:59:00              NaN\n",
      "122324   2018-02-19 17:15:00              NaN\n",
      "122325   2018-02-19 17:44:00              NaN\n",
      "124110   2018-03-10 07:30:00              NaN\n",
      "...                      ...              ...\n",
      "271287   2023-03-18 13:14:00              NaN\n",
      "299687   2024-01-08 08:30:00              NaN\n",
      "299688   2024-01-08 08:59:00              NaN\n",
      "299690   2024-01-08 09:00:00              NaN\n",
      "299691   2024-01-08 09:29:00              NaN\n",
      "\n",
      "[122 rows x 2 columns]\n"
     ]
    }
   ],
   "source": [
    "# Display missing value\n",
    "print(\"Missing Value in Soil Moisture Data\")\n",
    "sm.isna().sum()\n",
    "print(sm[sm['SoilMoisture(%)'].isnull()])"
   ]
  },
  {
   "cell_type": "code",
   "execution_count": 9,
   "metadata": {},
   "outputs": [
    {
     "name": "stdout",
     "output_type": "stream",
     "text": [
      "Missing Value in Soil Temperature Data\n",
      "       Timestamp (UTC+12:00)  SoilTemp(c)\n",
      "2220     2014-06-18 15:45:00          NaN\n",
      "2221     2014-06-18 16:29:00          NaN\n",
      "2257     2014-06-19 01:00:00          NaN\n",
      "2258     2014-06-19 08:29:00          NaN\n",
      "2310     2014-06-19 21:00:00          NaN\n",
      "...                      ...          ...\n",
      "279076   2022-05-16 11:59:00          NaN\n",
      "295857   2022-11-07 06:15:00          NaN\n",
      "295858   2022-11-08 11:14:00          NaN\n",
      "308299   2023-03-18 00:45:00          NaN\n",
      "308300   2023-03-18 01:14:00          NaN\n",
      "\n",
      "[96 rows x 2 columns]\n"
     ]
    }
   ],
   "source": [
    "# Display missing value\n",
    "\n",
    "print(\"Missing Value in Soil Temperature Data\")\n",
    "st.isna().sum()\n",
    "\n",
    "print(st[st['SoilTemp(c)'].isnull()])"
   ]
  },
  {
   "cell_type": "code",
   "execution_count": 10,
   "metadata": {},
   "outputs": [
    {
     "name": "stdout",
     "output_type": "stream",
     "text": [
      "Missing Value in Rainfall Data\n",
      "      Timestamp (UTC+12:00)  Rain(mm)\n",
      "59      1993-12-07 22:45:00       NaN\n",
      "60      1993-12-17 15:01:00       NaN\n",
      "158     1994-01-16 01:12:00       NaN\n",
      "159     1994-01-24 12:13:00       NaN\n",
      "163     1994-01-26 11:08:00       NaN\n",
      "...                     ...       ...\n",
      "80968   2018-12-14 16:59:00       NaN\n",
      "81550   2018-12-25 18:30:00       NaN\n",
      "81551   2019-01-10 19:59:00       NaN\n",
      "81728   2019-01-31 05:15:00       NaN\n",
      "81729   2019-02-07 20:59:00       NaN\n",
      "\n",
      "[324 rows x 2 columns]\n"
     ]
    }
   ],
   "source": [
    "# Display missing value\n",
    "print(\"Missing Value in Rainfall Data\")\n",
    "rain.isna().sum()\n",
    "print(rain[rain['Rain(mm)'].isnull()])"
   ]
  },
  {
   "cell_type": "markdown",
   "metadata": {},
   "source": [
    "# Step 2: Handle Missing Values"
   ]
  },
  {
   "cell_type": "code",
   "execution_count": 11,
   "metadata": {},
   "outputs": [],
   "source": [
    "# soil moisture and soil temperature using linear to fill data\n",
    "sm.interpolate(method='linear', inplace=True)\n",
    "st.interpolate(method='linear', inplace=True)\n",
    "\n",
    "# soil moisture and soil temperature using linear to fill data\n",
    "rain.fillna(0, inplace=True)\n"
   ]
  },
  {
   "cell_type": "code",
   "execution_count": 12,
   "metadata": {},
   "outputs": [],
   "source": [
    "# double check missing value\n",
    "\n",
    "# sm.isna().sum()\n",
    "# st.isna().sum()\n",
    "# rain.isna().sum()\n"
   ]
  },
  {
   "cell_type": "markdown",
   "metadata": {},
   "source": [
    "# Step 3: Resample Data to 15 minutes interval"
   ]
  },
  {
   "cell_type": "code",
   "execution_count": 13,
   "metadata": {},
   "outputs": [],
   "source": [
    "sm.set_index('Timestamp (UTC+12:00)', inplace=True)\n",
    "st.set_index('Timestamp (UTC+12:00)', inplace=True)\n",
    "rain.set_index('Timestamp (UTC+12:00)', inplace=True)\n"
   ]
  },
  {
   "cell_type": "code",
   "execution_count": 14,
   "metadata": {},
   "outputs": [
    {
     "name": "stderr",
     "output_type": "stream",
     "text": [
      "C:\\Users\\Ying\\AppData\\Local\\Temp\\ipykernel_13744\\3335301185.py:2: FutureWarning: 'T' is deprecated and will be removed in a future version, please use 'min' instead.\n",
      "  soil_moisture_15mins = sm.resample('15T').mean()\n",
      "C:\\Users\\Ying\\AppData\\Local\\Temp\\ipykernel_13744\\3335301185.py:4: FutureWarning: 'T' is deprecated and will be removed in a future version, please use 'min' instead.\n",
      "  soil_temp_15mins = st.resample('15T').mean()\n",
      "C:\\Users\\Ying\\AppData\\Local\\Temp\\ipykernel_13744\\3335301185.py:5: FutureWarning: 'T' is deprecated and will be removed in a future version, please use 'min' instead.\n",
      "  rainfall_15mins = rain.resample('15T').sum()\n"
     ]
    }
   ],
   "source": [
    "# soil_moisture_30min = sm.resample('30T').mean()\n",
    "soil_moisture_15mins = sm.resample('15T').mean()\n",
    "\n",
    "soil_temp_15mins = st.resample('15T').mean()\n",
    "rainfall_15mins = rain.resample('15T').sum()\n"
   ]
  },
  {
   "cell_type": "markdown",
   "metadata": {},
   "source": [
    "# Step 4: Combine Data"
   ]
  },
  {
   "cell_type": "code",
   "execution_count": 15,
   "metadata": {},
   "outputs": [],
   "source": [
    "# Determine the latest common start date\n",
    "latest_start_date = max(rainfall_15mins.index.min(), soil_moisture_15mins.index.min(), soil_temp_15mins.index.min())\n",
    "end_date = min(rainfall_15mins.index.max(), soil_moisture_15mins.index.max(), soil_temp_15mins.index.max())\n"
   ]
  },
  {
   "cell_type": "code",
   "execution_count": 16,
   "metadata": {},
   "outputs": [],
   "source": [
    "# Filter datasets to the common time range\n",
    "soil_moisture_15mins = soil_moisture_15mins[latest_start_date:end_date]\n",
    "soil_temp_15mins = soil_temp_15mins[latest_start_date:end_date]\n",
    "rainfall_15mins = rainfall_15mins[latest_start_date:end_date]\n"
   ]
  },
  {
   "cell_type": "code",
   "execution_count": 17,
   "metadata": {},
   "outputs": [],
   "source": [
    "# Merge datasets on the timestamp\n",
    "combined_data_15mins = rainfall_15mins.join(soil_temp_15mins, how='inner', rsuffix='_soil_moisture')\n",
    "combined_data_15mins = combined_data_15mins.join(soil_moisture_15mins, how='inner', rsuffix='_soil_temp')\n",
    "combined_data_15mins.dropna(inplace=True)  # Drop any rows with missing values after merging\n"
   ]
  },
  {
   "cell_type": "code",
   "execution_count": 18,
   "metadata": {},
   "outputs": [
    {
     "name": "stdout",
     "output_type": "stream",
     "text": [
      "Combined data (15-minute intervals) saved successfully.\n"
     ]
    }
   ],
   "source": [
    "# Save the combined data to a new CSV file\n",
    "combined_data_15mins.to_csv('../Data/soil data/WaitangiDiverRoad742736-20240910101133/waitangiCombined_Data_15mins.csv')\n",
    "print(\"Combined data (15-minute intervals) saved successfully.\")"
   ]
  },
  {
   "cell_type": "code",
   "execution_count": 19,
   "metadata": {},
   "outputs": [
    {
     "data": {
      "text/html": [
       "<div>\n",
       "<style scoped>\n",
       "    .dataframe tbody tr th:only-of-type {\n",
       "        vertical-align: middle;\n",
       "    }\n",
       "\n",
       "    .dataframe tbody tr th {\n",
       "        vertical-align: top;\n",
       "    }\n",
       "\n",
       "    .dataframe thead th {\n",
       "        text-align: right;\n",
       "    }\n",
       "</style>\n",
       "<table border=\"1\" class=\"dataframe\">\n",
       "  <thead>\n",
       "    <tr style=\"text-align: right;\">\n",
       "      <th></th>\n",
       "      <th>Timestamp (UTC+12:00)</th>\n",
       "      <th>Rain(mm)</th>\n",
       "      <th>SoilTemp(c)</th>\n",
       "      <th>SoilMoisture(%)</th>\n",
       "    </tr>\n",
       "  </thead>\n",
       "  <tbody>\n",
       "    <tr>\n",
       "      <th>0</th>\n",
       "      <td>2014-05-29 19:00:00</td>\n",
       "      <td>0.0</td>\n",
       "      <td>13.8</td>\n",
       "      <td>43.549</td>\n",
       "    </tr>\n",
       "    <tr>\n",
       "      <th>1</th>\n",
       "      <td>2014-05-29 19:15:00</td>\n",
       "      <td>0.0</td>\n",
       "      <td>13.8</td>\n",
       "      <td>43.513</td>\n",
       "    </tr>\n",
       "    <tr>\n",
       "      <th>2</th>\n",
       "      <td>2014-05-29 19:30:00</td>\n",
       "      <td>0.0</td>\n",
       "      <td>13.8</td>\n",
       "      <td>43.513</td>\n",
       "    </tr>\n",
       "    <tr>\n",
       "      <th>3</th>\n",
       "      <td>2014-05-29 19:45:00</td>\n",
       "      <td>0.0</td>\n",
       "      <td>13.8</td>\n",
       "      <td>43.549</td>\n",
       "    </tr>\n",
       "    <tr>\n",
       "      <th>4</th>\n",
       "      <td>2014-05-29 20:00:00</td>\n",
       "      <td>0.0</td>\n",
       "      <td>13.8</td>\n",
       "      <td>43.548</td>\n",
       "    </tr>\n",
       "  </tbody>\n",
       "</table>\n",
       "</div>"
      ],
      "text/plain": [
       "  Timestamp (UTC+12:00)  Rain(mm)  SoilTemp(c)  SoilMoisture(%)\n",
       "0   2014-05-29 19:00:00       0.0         13.8           43.549\n",
       "1   2014-05-29 19:15:00       0.0         13.8           43.513\n",
       "2   2014-05-29 19:30:00       0.0         13.8           43.513\n",
       "3   2014-05-29 19:45:00       0.0         13.8           43.549\n",
       "4   2014-05-29 20:00:00       0.0         13.8           43.548"
      ]
     },
     "execution_count": 19,
     "metadata": {},
     "output_type": "execute_result"
    }
   ],
   "source": [
    "waitangi = pd.read_csv('../Data/soil data/WaitangiDiverRoad742736-20240910101133/waitangiCombined_Data_15mins.csv', parse_dates=['Timestamp (UTC+12:00)'])\n",
    "waitangi.head()"
   ]
  },
  {
   "cell_type": "code",
   "execution_count": 20,
   "metadata": {},
   "outputs": [],
   "source": [
    "waitangi['Location'] = 'South Auckland'\n",
    "waitangi['Land position'] = 'Flat terrace edge above scarp'\n",
    "waitangi['Slope(degree)'] = '0'\n",
    "waitangi['Soil Order'] = 'Allophanic'\n",
    "waitangi['Soil Types / Series'] = 'Patumahoe clay loam'\n",
    "waitangi['NZ Soil Classification'] = 'Typic Orthic Granular'\n",
    "waitangi['Soil Profile Description'] = '0-15cm brown sandy loam, powdery structure, loose consistence (when dry); 15-30+cm orange-brown clay loam crumbly structure, firm consistence (slightly moist)'\n",
    "waitangi['Pastoral land use'] = 'Lifestyle block'\n",
    "waitangi.head()\n",
    "waitangi.to_csv('../Data/soil data/waitangi_soil_data.csv')\n"
   ]
  },
  {
   "cell_type": "markdown",
   "metadata": {},
   "source": [
    "Data Transformation\n"
   ]
  },
  {
   "cell_type": "code",
   "execution_count": null,
   "metadata": {},
   "outputs": [],
   "source": []
  },
  {
   "cell_type": "markdown",
   "metadata": {},
   "source": [
    "Feature Engineering: Scaling, Normalization and Standardization\n"
   ]
  },
  {
   "cell_type": "code",
   "execution_count": null,
   "metadata": {},
   "outputs": [],
   "source": []
  },
  {
   "cell_type": "markdown",
   "metadata": {},
   "source": [
    "Feature Selection\n"
   ]
  },
  {
   "cell_type": "code",
   "execution_count": null,
   "metadata": {},
   "outputs": [],
   "source": []
  },
  {
   "cell_type": "markdown",
   "metadata": {},
   "source": [
    "Handling Imbalanced Data\n"
   ]
  },
  {
   "cell_type": "code",
   "execution_count": null,
   "metadata": {},
   "outputs": [],
   "source": []
  },
  {
   "cell_type": "markdown",
   "metadata": {},
   "source": [
    "Encoding Categorical Features\n"
   ]
  },
  {
   "cell_type": "code",
   "execution_count": null,
   "metadata": {},
   "outputs": [],
   "source": []
  },
  {
   "cell_type": "markdown",
   "metadata": {},
   "source": [
    "Data Splitting"
   ]
  },
  {
   "cell_type": "code",
   "execution_count": null,
   "metadata": {},
   "outputs": [],
   "source": []
  }
 ],
 "metadata": {
  "kernelspec": {
   "display_name": "level8",
   "language": "python",
   "name": "python3"
  },
  "language_info": {
   "codemirror_mode": {
    "name": "ipython",
    "version": 3
   },
   "file_extension": ".py",
   "mimetype": "text/x-python",
   "name": "python",
   "nbconvert_exporter": "python",
   "pygments_lexer": "ipython3",
   "version": "3.10.14"
  }
 },
 "nbformat": 4,
 "nbformat_minor": 2
}
