{
 "cells": [
  {
   "cell_type": "markdown",
   "metadata": {},
   "source": [
    "# Step 1: Data Collection"
   ]
  },
  {
   "cell_type": "code",
   "execution_count": 1,
   "metadata": {},
   "outputs": [
    {
     "name": "stdout",
     "output_type": "stream",
     "text": [
      "       Timestamp (UTC+12:00)  SoilMoisture(%)\n",
      "0        2018-07-07 11:45:00           38.873\n",
      "1        2018-07-07 12:00:00           38.711\n",
      "2        2018-07-07 12:15:00           38.718\n",
      "3        2018-07-07 12:30:00           38.715\n",
      "4        2018-07-07 12:45:00           38.867\n",
      "186604   2024-09-10 20:45:00           38.294\n",
      "186605   2024-09-10 21:00:00           38.294\n",
      "186606   2024-09-10 21:15:00           38.294\n",
      "186607   2024-09-10 21:30:00           38.058\n",
      "186608   2024-09-10 21:45:00           38.058\n"
     ]
    }
   ],
   "source": [
    "# import library\n",
    "import numpy as np\n",
    "import pandas as pd\n",
    "import matplotlib.pyplot as plt\n",
    "import seaborn as sns\n",
    "%matplotlib inline\n",
    "\n",
    "# Soil Moisture data in _Tomarata\n",
    "sm = pd.read_csv('../Data/soil data/Tomarata64068001-20240910095547/TomarataSoilMoistureContinuous@64068001-20240910095535.csv', parse_dates=['Timestamp (UTC+12:00)'])\n",
    "sm.head(5)\n",
    "\n",
    "# smheadtail = (np.r_[0:5, -5:0])\n",
    "smheadtail = sm.iloc[np.r_[0:5, -5:0]]\n",
    "print(smheadtail)"
   ]
  },
  {
   "cell_type": "code",
   "execution_count": 2,
   "metadata": {},
   "outputs": [
    {
     "name": "stdout",
     "output_type": "stream",
     "text": [
      "       Timestamp (UTC+12:00)  SoilTemp(c)\n",
      "0        2014-08-01 12:00:00       11.600\n",
      "1        2014-08-01 12:15:00       11.500\n",
      "2        2014-08-01 12:30:00       11.700\n",
      "3        2014-08-01 12:45:00       11.800\n",
      "4        2014-08-01 13:00:00       11.800\n",
      "354125   2024-09-10 20:45:00       14.562\n",
      "354126   2024-09-10 21:00:00       14.562\n",
      "354127   2024-09-10 21:15:00       14.562\n",
      "354128   2024-09-10 21:30:00       14.562\n",
      "354129   2024-09-10 21:45:00       14.487\n"
     ]
    }
   ],
   "source": [
    "# Soil Temperature data in _Tomarata\n",
    "st = pd.read_csv('../Data/soil data/Tomarata64068001-20240910095547/TomarataSoilTempContinuous@64068001-20240910095543.csv', parse_dates=['Timestamp (UTC+12:00)'])\n",
    "st.head(5)\n",
    "\n",
    "# smheadtail = (np.r_[0:5, -5:0])\n",
    "stheadtail = st.iloc[np.r_[0:5, -5:0]]\n",
    "print(stheadtail)"
   ]
  },
  {
   "cell_type": "code",
   "execution_count": 3,
   "metadata": {},
   "outputs": [
    {
     "name": "stdout",
     "output_type": "stream",
     "text": [
      "       Timestamp (UTC+12:00)  Rain(mm)\n",
      "0        2019-03-05 23:00:00       0.0\n",
      "1        2019-03-05 23:15:00       0.0\n",
      "2        2019-03-05 23:30:00       0.0\n",
      "3        2019-03-05 23:45:00       0.0\n",
      "4        2019-03-06 00:00:00       0.0\n",
      "202816   2024-09-10 20:45:00       0.0\n",
      "202817   2024-09-10 21:00:00       0.0\n",
      "202818   2024-09-10 21:15:00       0.0\n",
      "202819   2024-09-10 21:30:00       0.0\n",
      "202820   2024-09-10 21:45:00       0.0\n"
     ]
    }
   ],
   "source": [
    "# Rainfall data in _Tomarata\n",
    "rain = pd.read_csv('../Data/soil data/Tomarata64068001-20240910095547/TomarataRainfallContinuous@64068001-20240910095529.csv', parse_dates=['Timestamp (UTC+12:00)'])\n",
    "rain.head(5)\n",
    "\n",
    "# smheadtail = (np.r_[0:5, -5:0])\n",
    "rainheadtail = rain.iloc[np.r_[0:5, -5:0]]\n",
    "print(rainheadtail)"
   ]
  },
  {
   "cell_type": "markdown",
   "metadata": {},
   "source": [
    "Data Description"
   ]
  },
  {
   "cell_type": "code",
   "execution_count": 4,
   "metadata": {},
   "outputs": [
    {
     "name": "stdout",
     "output_type": "stream",
     "text": [
      "Tomarata Rainfall Data Info:\n",
      "<class 'pandas.core.frame.DataFrame'>\n",
      "RangeIndex: 202821 entries, 0 to 202820\n",
      "Data columns (total 2 columns):\n",
      " #   Column                 Non-Null Count   Dtype         \n",
      "---  ------                 --------------   -----         \n",
      " 0   Timestamp (UTC+12:00)  202821 non-null  datetime64[ns]\n",
      " 1   Rain(mm)               202821 non-null  float64       \n",
      "dtypes: datetime64[ns](1), float64(1)\n",
      "memory usage: 3.1 MB\n",
      "\n",
      "Tomarata Soil Moisture Data Info:\n",
      "<class 'pandas.core.frame.DataFrame'>\n",
      "RangeIndex: 186609 entries, 0 to 186608\n",
      "Data columns (total 2 columns):\n",
      " #   Column                 Non-Null Count   Dtype         \n",
      "---  ------                 --------------   -----         \n",
      " 0   Timestamp (UTC+12:00)  186609 non-null  datetime64[ns]\n",
      " 1   SoilMoisture(%)        186401 non-null  float64       \n",
      "dtypes: datetime64[ns](1), float64(1)\n",
      "memory usage: 2.8 MB\n",
      "\n",
      "Tomarata Soil Temperature Data Info:\n",
      "<class 'pandas.core.frame.DataFrame'>\n",
      "RangeIndex: 354130 entries, 0 to 354129\n",
      "Data columns (total 2 columns):\n",
      " #   Column                 Non-Null Count   Dtype         \n",
      "---  ------                 --------------   -----         \n",
      " 0   Timestamp (UTC+12:00)  354130 non-null  datetime64[ns]\n",
      " 1   SoilTemp(c)            353978 non-null  float64       \n",
      "dtypes: datetime64[ns](1), float64(1)\n",
      "memory usage: 5.4 MB\n"
     ]
    }
   ],
   "source": [
    "# Display info to check datatype\n",
    "print(\"Tomarata Rainfall Data Info:\")\n",
    "rain.info()\n",
    "print(\"\\nTomarata Soil Moisture Data Info:\")\n",
    "sm.info()\n",
    "print(\"\\nTomarata Soil Temperature Data Info:\")\n",
    "st.info()"
   ]
  },
  {
   "cell_type": "code",
   "execution_count": 5,
   "metadata": {},
   "outputs": [
    {
     "name": "stdout",
     "output_type": "stream",
     "text": [
      "Tomarata Rainfall Data statistics :\n"
     ]
    },
    {
     "data": {
      "text/html": [
       "<div>\n",
       "<style scoped>\n",
       "    .dataframe tbody tr th:only-of-type {\n",
       "        vertical-align: middle;\n",
       "    }\n",
       "\n",
       "    .dataframe tbody tr th {\n",
       "        vertical-align: top;\n",
       "    }\n",
       "\n",
       "    .dataframe thead th {\n",
       "        text-align: right;\n",
       "    }\n",
       "</style>\n",
       "<table border=\"1\" class=\"dataframe\">\n",
       "  <thead>\n",
       "    <tr style=\"text-align: right;\">\n",
       "      <th></th>\n",
       "      <th>Timestamp (UTC+12:00)</th>\n",
       "      <th>Rain(mm)</th>\n",
       "    </tr>\n",
       "  </thead>\n",
       "  <tbody>\n",
       "    <tr>\n",
       "      <th>count</th>\n",
       "      <td>202821</td>\n",
       "      <td>202821.000000</td>\n",
       "    </tr>\n",
       "    <tr>\n",
       "      <th>mean</th>\n",
       "      <td>2021-12-12 19:18:26.083984896</td>\n",
       "      <td>0.055087</td>\n",
       "    </tr>\n",
       "    <tr>\n",
       "      <th>min</th>\n",
       "      <td>2019-03-05 23:00:00</td>\n",
       "      <td>0.000000</td>\n",
       "    </tr>\n",
       "    <tr>\n",
       "      <th>25%</th>\n",
       "      <td>2020-07-28 14:45:00</td>\n",
       "      <td>0.000000</td>\n",
       "    </tr>\n",
       "    <tr>\n",
       "      <th>50%</th>\n",
       "      <td>2021-12-23 05:00:00</td>\n",
       "      <td>0.000000</td>\n",
       "    </tr>\n",
       "    <tr>\n",
       "      <th>75%</th>\n",
       "      <td>2023-04-20 19:00:00</td>\n",
       "      <td>0.000000</td>\n",
       "    </tr>\n",
       "    <tr>\n",
       "      <th>max</th>\n",
       "      <td>2024-09-10 21:45:00</td>\n",
       "      <td>62.500000</td>\n",
       "    </tr>\n",
       "    <tr>\n",
       "      <th>std</th>\n",
       "      <td>NaN</td>\n",
       "      <td>0.491391</td>\n",
       "    </tr>\n",
       "  </tbody>\n",
       "</table>\n",
       "</div>"
      ],
      "text/plain": [
       "               Timestamp (UTC+12:00)       Rain(mm)\n",
       "count                         202821  202821.000000\n",
       "mean   2021-12-12 19:18:26.083984896       0.055087\n",
       "min              2019-03-05 23:00:00       0.000000\n",
       "25%              2020-07-28 14:45:00       0.000000\n",
       "50%              2021-12-23 05:00:00       0.000000\n",
       "75%              2023-04-20 19:00:00       0.000000\n",
       "max              2024-09-10 21:45:00      62.500000\n",
       "std                              NaN       0.491391"
      ]
     },
     "execution_count": 5,
     "metadata": {},
     "output_type": "execute_result"
    }
   ],
   "source": [
    "# Overview of data\n",
    "print(\"Tomarata Rainfall Data statistics :\")\n",
    "rain.describe()\n"
   ]
  },
  {
   "cell_type": "code",
   "execution_count": 6,
   "metadata": {},
   "outputs": [
    {
     "name": "stdout",
     "output_type": "stream",
     "text": [
      "\n",
      "Tomarata Soil Moisture Data statistics :\n"
     ]
    },
    {
     "data": {
      "text/html": [
       "<div>\n",
       "<style scoped>\n",
       "    .dataframe tbody tr th:only-of-type {\n",
       "        vertical-align: middle;\n",
       "    }\n",
       "\n",
       "    .dataframe tbody tr th {\n",
       "        vertical-align: top;\n",
       "    }\n",
       "\n",
       "    .dataframe thead th {\n",
       "        text-align: right;\n",
       "    }\n",
       "</style>\n",
       "<table border=\"1\" class=\"dataframe\">\n",
       "  <thead>\n",
       "    <tr style=\"text-align: right;\">\n",
       "      <th></th>\n",
       "      <th>Timestamp (UTC+12:00)</th>\n",
       "      <th>SoilMoisture(%)</th>\n",
       "    </tr>\n",
       "  </thead>\n",
       "  <tbody>\n",
       "    <tr>\n",
       "      <th>count</th>\n",
       "      <td>186609</td>\n",
       "      <td>186401.000000</td>\n",
       "    </tr>\n",
       "    <tr>\n",
       "      <th>mean</th>\n",
       "      <td>2022-01-09 10:36:34.085172224</td>\n",
       "      <td>35.004390</td>\n",
       "    </tr>\n",
       "    <tr>\n",
       "      <th>min</th>\n",
       "      <td>2018-07-07 11:45:00</td>\n",
       "      <td>0.000000</td>\n",
       "    </tr>\n",
       "    <tr>\n",
       "      <th>25%</th>\n",
       "      <td>2020-09-11 02:45:00</td>\n",
       "      <td>28.814000</td>\n",
       "    </tr>\n",
       "    <tr>\n",
       "      <th>50%</th>\n",
       "      <td>2022-01-10 09:00:00</td>\n",
       "      <td>37.979000</td>\n",
       "    </tr>\n",
       "    <tr>\n",
       "      <th>75%</th>\n",
       "      <td>2023-05-14 01:15:00</td>\n",
       "      <td>42.458000</td>\n",
       "    </tr>\n",
       "    <tr>\n",
       "      <th>max</th>\n",
       "      <td>2024-09-10 21:45:00</td>\n",
       "      <td>53.509000</td>\n",
       "    </tr>\n",
       "    <tr>\n",
       "      <th>std</th>\n",
       "      <td>NaN</td>\n",
       "      <td>9.902256</td>\n",
       "    </tr>\n",
       "  </tbody>\n",
       "</table>\n",
       "</div>"
      ],
      "text/plain": [
       "               Timestamp (UTC+12:00)  SoilMoisture(%)\n",
       "count                         186609    186401.000000\n",
       "mean   2022-01-09 10:36:34.085172224        35.004390\n",
       "min              2018-07-07 11:45:00         0.000000\n",
       "25%              2020-09-11 02:45:00        28.814000\n",
       "50%              2022-01-10 09:00:00        37.979000\n",
       "75%              2023-05-14 01:15:00        42.458000\n",
       "max              2024-09-10 21:45:00        53.509000\n",
       "std                              NaN         9.902256"
      ]
     },
     "execution_count": 6,
     "metadata": {},
     "output_type": "execute_result"
    }
   ],
   "source": [
    "print(\"\\nTomarata Soil Moisture Data statistics :\")\n",
    "sm.describe()\n"
   ]
  },
  {
   "cell_type": "code",
   "execution_count": 7,
   "metadata": {},
   "outputs": [
    {
     "name": "stdout",
     "output_type": "stream",
     "text": [
      "\n",
      "Tomarata Soil Temperature Data statistics :\n"
     ]
    },
    {
     "data": {
      "text/html": [
       "<div>\n",
       "<style scoped>\n",
       "    .dataframe tbody tr th:only-of-type {\n",
       "        vertical-align: middle;\n",
       "    }\n",
       "\n",
       "    .dataframe tbody tr th {\n",
       "        vertical-align: top;\n",
       "    }\n",
       "\n",
       "    .dataframe thead th {\n",
       "        text-align: right;\n",
       "    }\n",
       "</style>\n",
       "<table border=\"1\" class=\"dataframe\">\n",
       "  <thead>\n",
       "    <tr style=\"text-align: right;\">\n",
       "      <th></th>\n",
       "      <th>Timestamp (UTC+12:00)</th>\n",
       "      <th>SoilTemp(c)</th>\n",
       "    </tr>\n",
       "  </thead>\n",
       "  <tbody>\n",
       "    <tr>\n",
       "      <th>count</th>\n",
       "      <td>354130</td>\n",
       "      <td>353978.000000</td>\n",
       "    </tr>\n",
       "    <tr>\n",
       "      <th>mean</th>\n",
       "      <td>2019-08-21 11:55:15.207804928</td>\n",
       "      <td>16.819246</td>\n",
       "    </tr>\n",
       "    <tr>\n",
       "      <th>min</th>\n",
       "      <td>2014-08-01 12:00:00</td>\n",
       "      <td>6.700000</td>\n",
       "    </tr>\n",
       "    <tr>\n",
       "      <th>25%</th>\n",
       "      <td>2017-02-08 17:03:45</td>\n",
       "      <td>13.500000</td>\n",
       "    </tr>\n",
       "    <tr>\n",
       "      <th>50%</th>\n",
       "      <td>2019-08-21 13:22:30</td>\n",
       "      <td>16.500000</td>\n",
       "    </tr>\n",
       "    <tr>\n",
       "      <th>75%</th>\n",
       "      <td>2022-03-01 06:56:15</td>\n",
       "      <td>19.902000</td>\n",
       "    </tr>\n",
       "    <tr>\n",
       "      <th>max</th>\n",
       "      <td>2024-09-10 21:45:00</td>\n",
       "      <td>31.700000</td>\n",
       "    </tr>\n",
       "    <tr>\n",
       "      <th>std</th>\n",
       "      <td>NaN</td>\n",
       "      <td>3.831637</td>\n",
       "    </tr>\n",
       "  </tbody>\n",
       "</table>\n",
       "</div>"
      ],
      "text/plain": [
       "               Timestamp (UTC+12:00)    SoilTemp(c)\n",
       "count                         354130  353978.000000\n",
       "mean   2019-08-21 11:55:15.207804928      16.819246\n",
       "min              2014-08-01 12:00:00       6.700000\n",
       "25%              2017-02-08 17:03:45      13.500000\n",
       "50%              2019-08-21 13:22:30      16.500000\n",
       "75%              2022-03-01 06:56:15      19.902000\n",
       "max              2024-09-10 21:45:00      31.700000\n",
       "std                              NaN       3.831637"
      ]
     },
     "execution_count": 7,
     "metadata": {},
     "output_type": "execute_result"
    }
   ],
   "source": [
    "print(\"\\nTomarata Soil Temperature Data statistics :\")\n",
    "st.describe()"
   ]
  },
  {
   "cell_type": "markdown",
   "metadata": {},
   "source": [
    "Data Cleaning\n"
   ]
  },
  {
   "cell_type": "code",
   "execution_count": 8,
   "metadata": {},
   "outputs": [
    {
     "name": "stdout",
     "output_type": "stream",
     "text": [
      "'Missing Value in Soil Moisture Data\n",
      "       Timestamp (UTC+12:00)  SoilMoisture(%)\n",
      "278      2018-07-10 09:00:00              NaN\n",
      "279      2018-07-10 09:44:00              NaN\n",
      "348      2018-07-11 02:30:00              NaN\n",
      "349      2018-07-11 03:14:00              NaN\n",
      "362      2018-07-11 06:00:00              NaN\n",
      "...                      ...              ...\n",
      "147724   2023-08-02 21:44:00              NaN\n",
      "166587   2024-02-15 08:45:00              NaN\n",
      "166588   2024-02-15 09:14:00              NaN\n",
      "185968   2024-09-04 05:45:00              NaN\n",
      "185969   2024-09-04 06:14:00              NaN\n",
      "\n",
      "[208 rows x 2 columns]\n"
     ]
    }
   ],
   "source": [
    "# Display missing value\n",
    "print(\"'Missing Value in Soil Moisture Data\")\n",
    "sm.isna().sum()\n",
    "print(sm[sm['SoilMoisture(%)'].isnull()])"
   ]
  },
  {
   "cell_type": "code",
   "execution_count": 9,
   "metadata": {},
   "outputs": [
    {
     "name": "stdout",
     "output_type": "stream",
     "text": [
      "Missing Value in Soil Temperature Data\n",
      "       Timestamp (UTC+12:00)  SoilTemp(c)\n",
      "62972    2016-05-18 10:45:00          NaN\n",
      "62973    2016-05-18 11:29:00          NaN\n",
      "138903   2018-07-18 09:30:00          NaN\n",
      "138904   2018-07-18 10:29:00          NaN\n",
      "139002   2018-07-19 10:30:00          NaN\n",
      "...                      ...          ...\n",
      "302484   2023-03-22 23:14:00          NaN\n",
      "302541   2023-03-23 13:00:00          NaN\n",
      "302542   2023-03-23 13:29:00          NaN\n",
      "334109   2024-02-15 08:45:00          NaN\n",
      "334110   2024-02-15 09:14:00          NaN\n",
      "\n",
      "[152 rows x 2 columns]\n"
     ]
    }
   ],
   "source": [
    "# Display missing value\n",
    "\n",
    "print(\"Missing Value in Soil Temperature Data\")\n",
    "st.isna().sum()\n",
    "\n",
    "print(st[st['SoilTemp(c)'].isnull()])"
   ]
  },
  {
   "cell_type": "code",
   "execution_count": 10,
   "metadata": {},
   "outputs": [
    {
     "name": "stdout",
     "output_type": "stream",
     "text": [
      "Missing Value in Rainfall Data\n",
      "Empty DataFrame\n",
      "Columns: [Timestamp (UTC+12:00), Rain(mm)]\n",
      "Index: []\n"
     ]
    }
   ],
   "source": [
    "# Display missing value\n",
    "print(\"Missing Value in Rainfall Data\")\n",
    "rain.isna().sum()\n",
    "print(rain[rain['Rain(mm)'].isnull()])"
   ]
  },
  {
   "cell_type": "markdown",
   "metadata": {},
   "source": [
    "# Step 2: Handle Missing Values"
   ]
  },
  {
   "cell_type": "code",
   "execution_count": 11,
   "metadata": {},
   "outputs": [],
   "source": [
    "# soil moisture and soil temperature using linear to fill data\n",
    "sm.interpolate(method='linear', inplace=True)\n",
    "st.interpolate(method='linear', inplace=True)\n",
    "\n",
    "# soil moisture and soil temperature using linear to fill data\n",
    "rain.fillna(0, inplace=True)\n"
   ]
  },
  {
   "cell_type": "code",
   "execution_count": 12,
   "metadata": {},
   "outputs": [],
   "source": [
    "# double check missing value\n",
    "\n",
    "# sm.isna().sum()\n",
    "# st.isna().sum()\n",
    "# rain.isna().sum()\n"
   ]
  },
  {
   "cell_type": "markdown",
   "metadata": {},
   "source": [
    "# Step 3: Resample Data to 15 minutes interval"
   ]
  },
  {
   "cell_type": "code",
   "execution_count": 13,
   "metadata": {},
   "outputs": [],
   "source": [
    "sm.set_index('Timestamp (UTC+12:00)', inplace=True)\n",
    "st.set_index('Timestamp (UTC+12:00)', inplace=True)\n",
    "rain.set_index('Timestamp (UTC+12:00)', inplace=True)\n"
   ]
  },
  {
   "cell_type": "code",
   "execution_count": 14,
   "metadata": {},
   "outputs": [
    {
     "name": "stderr",
     "output_type": "stream",
     "text": [
      "C:\\Users\\Ying\\AppData\\Local\\Temp\\ipykernel_3932\\3335301185.py:2: FutureWarning: 'T' is deprecated and will be removed in a future version, please use 'min' instead.\n",
      "  soil_moisture_15mins = sm.resample('15T').mean()\n",
      "C:\\Users\\Ying\\AppData\\Local\\Temp\\ipykernel_3932\\3335301185.py:4: FutureWarning: 'T' is deprecated and will be removed in a future version, please use 'min' instead.\n",
      "  soil_temp_15mins = st.resample('15T').mean()\n",
      "C:\\Users\\Ying\\AppData\\Local\\Temp\\ipykernel_3932\\3335301185.py:5: FutureWarning: 'T' is deprecated and will be removed in a future version, please use 'min' instead.\n",
      "  rainfall_15mins = rain.resample('15T').sum()\n"
     ]
    }
   ],
   "source": [
    "# soil_moisture_30min = sm.resample('30T').mean()\n",
    "soil_moisture_15mins = sm.resample('15T').mean()\n",
    "\n",
    "soil_temp_15mins = st.resample('15T').mean()\n",
    "rainfall_15mins = rain.resample('15T').sum()\n"
   ]
  },
  {
   "cell_type": "markdown",
   "metadata": {},
   "source": [
    "# Step 4: Combine Data"
   ]
  },
  {
   "cell_type": "code",
   "execution_count": 15,
   "metadata": {},
   "outputs": [],
   "source": [
    "# Determine the latest common start date\n",
    "latest_start_date = max(rainfall_15mins.index.min(), soil_moisture_15mins.index.min(), soil_temp_15mins.index.min())\n",
    "end_date = min(rainfall_15mins.index.max(), soil_moisture_15mins.index.max(), soil_temp_15mins.index.max())\n"
   ]
  },
  {
   "cell_type": "code",
   "execution_count": 16,
   "metadata": {},
   "outputs": [],
   "source": [
    "# Filter datasets to the common time range\n",
    "soil_moisture_15mins = soil_moisture_15mins[latest_start_date:end_date]\n",
    "soil_temp_15mins = soil_temp_15mins[latest_start_date:end_date]\n",
    "rainfall_15mins = rainfall_15mins[latest_start_date:end_date]\n"
   ]
  },
  {
   "cell_type": "code",
   "execution_count": 17,
   "metadata": {},
   "outputs": [],
   "source": [
    "# Merge datasets on the timestamp\n",
    "combined_data_15mins = rainfall_15mins.join(soil_temp_15mins, how='inner', rsuffix='_soil_moisture')\n",
    "combined_data_15mins = combined_data_15mins.join(soil_moisture_15mins, how='inner', rsuffix='_soil_temp')\n",
    "combined_data_15mins.dropna(inplace=True)  # Drop any rows with missing values after merging\n"
   ]
  },
  {
   "cell_type": "code",
   "execution_count": 19,
   "metadata": {},
   "outputs": [
    {
     "name": "stdout",
     "output_type": "stream",
     "text": [
      "Combined data (15-minute intervals) saved successfully.\n"
     ]
    }
   ],
   "source": [
    "# Save the combined data to a new CSV file\n",
    "combined_data_15mins.to_csv('../Data/soil data/Tomarata64068001-20240910095547/tomarataCombined_Data_15mins.csv')\n",
    "print(\"Combined data (15-minute intervals) saved successfully.\")"
   ]
  },
  {
   "cell_type": "code",
   "execution_count": 20,
   "metadata": {},
   "outputs": [
    {
     "data": {
      "text/html": [
       "<div>\n",
       "<style scoped>\n",
       "    .dataframe tbody tr th:only-of-type {\n",
       "        vertical-align: middle;\n",
       "    }\n",
       "\n",
       "    .dataframe tbody tr th {\n",
       "        vertical-align: top;\n",
       "    }\n",
       "\n",
       "    .dataframe thead th {\n",
       "        text-align: right;\n",
       "    }\n",
       "</style>\n",
       "<table border=\"1\" class=\"dataframe\">\n",
       "  <thead>\n",
       "    <tr style=\"text-align: right;\">\n",
       "      <th></th>\n",
       "      <th>Timestamp (UTC+12:00)</th>\n",
       "      <th>Rain(mm)</th>\n",
       "      <th>SoilTemp(c)</th>\n",
       "      <th>SoilMoisture(%)</th>\n",
       "    </tr>\n",
       "  </thead>\n",
       "  <tbody>\n",
       "    <tr>\n",
       "      <th>0</th>\n",
       "      <td>2019-05-26 04:00:00</td>\n",
       "      <td>0.0</td>\n",
       "      <td>15.229</td>\n",
       "      <td>35.790667</td>\n",
       "    </tr>\n",
       "    <tr>\n",
       "      <th>1</th>\n",
       "      <td>2019-05-26 04:15:00</td>\n",
       "      <td>0.0</td>\n",
       "      <td>15.200</td>\n",
       "      <td>33.602000</td>\n",
       "    </tr>\n",
       "    <tr>\n",
       "      <th>2</th>\n",
       "      <td>2019-05-26 04:30:00</td>\n",
       "      <td>0.0</td>\n",
       "      <td>15.200</td>\n",
       "      <td>33.602000</td>\n",
       "    </tr>\n",
       "    <tr>\n",
       "      <th>3</th>\n",
       "      <td>2019-05-26 04:45:00</td>\n",
       "      <td>0.0</td>\n",
       "      <td>15.200</td>\n",
       "      <td>33.602000</td>\n",
       "    </tr>\n",
       "    <tr>\n",
       "      <th>4</th>\n",
       "      <td>2019-05-26 05:00:00</td>\n",
       "      <td>0.0</td>\n",
       "      <td>15.200</td>\n",
       "      <td>33.605000</td>\n",
       "    </tr>\n",
       "  </tbody>\n",
       "</table>\n",
       "</div>"
      ],
      "text/plain": [
       "  Timestamp (UTC+12:00)  Rain(mm)  SoilTemp(c)  SoilMoisture(%)\n",
       "0   2019-05-26 04:00:00       0.0       15.229        35.790667\n",
       "1   2019-05-26 04:15:00       0.0       15.200        33.602000\n",
       "2   2019-05-26 04:30:00       0.0       15.200        33.602000\n",
       "3   2019-05-26 04:45:00       0.0       15.200        33.602000\n",
       "4   2019-05-26 05:00:00       0.0       15.200        33.605000"
      ]
     },
     "execution_count": 20,
     "metadata": {},
     "output_type": "execute_result"
    }
   ],
   "source": [
    "tomarata = pd.read_csv('../Data/soil data/Tomarata64068001-20240910095547/tomarataCombined_Data_15mins.csv', parse_dates=['Timestamp (UTC+12:00)'])\n",
    "tomarata.head()"
   ]
  },
  {
   "cell_type": "code",
   "execution_count": null,
   "metadata": {},
   "outputs": [],
   "source": [
    "tomarata['Location'] = 'North Auckland'\n",
    "tomarata['Land position'] = 'Footslope'\n",
    "tomarata['Slope(degree)'] = '0-3'\n",
    "tomarata['Soil Order'] = 'Ultic'\n",
    "tomarata['Soil Types / Series'] = 'Kara sandy loam'\n",
    "tomarata['NZ Soil Classification'] = 'Perch Gley or Densipan Ultic'\n",
    "tomarata['Soil Profile Description'] = '0-15cm dark grey clay loam (contains some sand grains); 15-30cm silty sand; structure massive when dry, single-grain when wet; 30-50 cm+ pale grey sandy clay subsoil'\n",
    "tomarata['Pastoral land use'] = 'Dairy'\n",
    "tomarata.head()\n",
    "tomarata.to_csv('./Data/soil data/tomarata_soil_data.csv')\n"
   ]
  },
  {
   "cell_type": "markdown",
   "metadata": {},
   "source": [
    "Data Transformation\n"
   ]
  },
  {
   "cell_type": "code",
   "execution_count": null,
   "metadata": {},
   "outputs": [],
   "source": []
  },
  {
   "cell_type": "markdown",
   "metadata": {},
   "source": [
    "Feature Engineering: Scaling, Normalization and Standardization\n"
   ]
  },
  {
   "cell_type": "code",
   "execution_count": null,
   "metadata": {},
   "outputs": [],
   "source": []
  },
  {
   "cell_type": "markdown",
   "metadata": {},
   "source": [
    "Feature Selection\n"
   ]
  },
  {
   "cell_type": "code",
   "execution_count": null,
   "metadata": {},
   "outputs": [],
   "source": []
  },
  {
   "cell_type": "markdown",
   "metadata": {},
   "source": [
    "Handling Imbalanced Data\n"
   ]
  },
  {
   "cell_type": "code",
   "execution_count": null,
   "metadata": {},
   "outputs": [],
   "source": []
  },
  {
   "cell_type": "markdown",
   "metadata": {},
   "source": [
    "Encoding Categorical Features\n"
   ]
  },
  {
   "cell_type": "code",
   "execution_count": null,
   "metadata": {},
   "outputs": [],
   "source": []
  },
  {
   "cell_type": "markdown",
   "metadata": {},
   "source": [
    "Data Splitting"
   ]
  },
  {
   "cell_type": "code",
   "execution_count": null,
   "metadata": {},
   "outputs": [],
   "source": []
  }
 ],
 "metadata": {
  "kernelspec": {
   "display_name": "level8",
   "language": "python",
   "name": "python3"
  },
  "language_info": {
   "codemirror_mode": {
    "name": "ipython",
    "version": 3
   },
   "file_extension": ".py",
   "mimetype": "text/x-python",
   "name": "python",
   "nbconvert_exporter": "python",
   "pygments_lexer": "ipython3",
   "version": "3.10.14"
  }
 },
 "nbformat": 4,
 "nbformat_minor": 2
}
